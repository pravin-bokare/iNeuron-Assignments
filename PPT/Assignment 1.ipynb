{
 "cells": [
  {
   "cell_type": "markdown",
   "id": "45f48440",
   "metadata": {},
   "source": [
    "# Q1"
   ]
  },
  {
   "cell_type": "code",
   "execution_count": 1,
   "id": "162f3d29",
   "metadata": {},
   "outputs": [
    {
     "name": "stdout",
     "output_type": "stream",
     "text": [
      "Enter a string to reverse: Hello\n",
      "Reversed string: olleH\n"
     ]
    }
   ],
   "source": [
    "def reverse(s):\n",
    "    return s[::-1]\n",
    "string_to_reverse = input(\"Enter a string to reverse: \")\n",
    "reversed_string = reverse(string_to_reverse)\n",
    "print(\"Reversed string:\", reversed_string)"
   ]
  },
  {
   "cell_type": "markdown",
   "id": "bc221a91",
   "metadata": {},
   "source": [
    "# Q2"
   ]
  },
  {
   "cell_type": "code",
   "execution_count": 2,
   "id": "93cdd3af",
   "metadata": {},
   "outputs": [
    {
     "name": "stdout",
     "output_type": "stream",
     "text": [
      "Enter a string to check for palindrome: madam\n",
      "The string is a palindrome.\n"
     ]
    }
   ],
   "source": [
    "def is_palindrome(input_str):\n",
    "    input_str = input_str.lower()\n",
    "    left = 0\n",
    "    right = len(input_str) - 1\n",
    "\n",
    "    while left < right:\n",
    "        if input_str[left] != input_str[right]:\n",
    "            return False\n",
    "        left += 1\n",
    "        right -= 1\n",
    "\n",
    "    return True\n",
    "\n",
    "string_to_check = input(\"Enter a string to check for palindrome: \")\n",
    "if is_palindrome(string_to_check):\n",
    "    print(\"The string is a palindrome.\")\n",
    "else:\n",
    "    print(\"The string is not a palindrome.\")"
   ]
  },
  {
   "cell_type": "markdown",
   "id": "f7304331",
   "metadata": {},
   "source": [
    "# Q3"
   ]
  },
  {
   "cell_type": "code",
   "execution_count": 3,
   "id": "ae9f887a",
   "metadata": {},
   "outputs": [
    {
     "name": "stdout",
     "output_type": "stream",
     "text": [
      "Enter a list of numbers (space-separated): 5 6 42 56 4 9 5\n",
      "The largest element in the list is: 56\n"
     ]
    }
   ],
   "source": [
    "def find_largest_element(lst):\n",
    "    if not lst:\n",
    "        return None\n",
    "\n",
    "    largest = lst[0]\n",
    "    for num in lst:\n",
    "        if num > largest:\n",
    "            largest = num\n",
    "\n",
    "    return largest\n",
    "\n",
    "num_list = input(\"Enter a list of numbers (space-separated): \").split()\n",
    "num_list = [int(num) for num in num_list]  # Convert input values to integers\n",
    "largest_element = find_largest_element(num_list)\n",
    "if largest_element is None:\n",
    "    print(\"The list is empty.\")\n",
    "else:\n",
    "    print(\"The largest element in the list is:\", largest_element)\n"
   ]
  },
  {
   "cell_type": "markdown",
   "id": "fca1a633",
   "metadata": {},
   "source": [
    "# Q4"
   ]
  },
  {
   "cell_type": "code",
   "execution_count": 4,
   "id": "f05d1298",
   "metadata": {},
   "outputs": [
    {
     "name": "stdout",
     "output_type": "stream",
     "text": [
      "Enter a list of numbers (space-separated): 2 6 4 6 2 5 6 1 4 5\n",
      "Occurrences:\n",
      "2: 2\n",
      "6: 3\n",
      "4: 2\n",
      "5: 2\n",
      "1: 1\n"
     ]
    }
   ],
   "source": [
    "def count_occurrences(lst):\n",
    "    occurrences = {}\n",
    "    for element in lst:\n",
    "        if element in occurrences:\n",
    "            occurrences[element] += 1\n",
    "        else:\n",
    "            occurrences[element] = 1\n",
    "    return occurrences\n",
    "\n",
    "# Test the function\n",
    "num_list = input(\"Enter a list of numbers (space-separated): \").split()\n",
    "num_list = [int(num) for num in num_list]  # Convert input values to integers\n",
    "occurrences = count_occurrences(num_list)\n",
    "print(\"Occurrences:\")\n",
    "for element, count in occurrences.items():\n",
    "    print(f\"{element}: {count}\")\n"
   ]
  },
  {
   "cell_type": "markdown",
   "id": "94d909ab",
   "metadata": {},
   "source": [
    "# Q5"
   ]
  },
  {
   "cell_type": "code",
   "execution_count": 5,
   "id": "c15272fd",
   "metadata": {},
   "outputs": [
    {
     "name": "stdout",
     "output_type": "stream",
     "text": [
      "Enter a list of numbers (space-separated): 5 6 8 9 5 6 5 10 56 23\n",
      "The second largest number in the list is: 23\n"
     ]
    }
   ],
   "source": [
    "def find_second_largest(lst):\n",
    "    if len(lst) < 2:\n",
    "        return None\n",
    "\n",
    "    largest = max(lst[0], lst[1])\n",
    "    second_largest = min(lst[0], lst[1])\n",
    "\n",
    "    for i in range(2, len(lst)):\n",
    "        if lst[i] > largest:\n",
    "            second_largest = largest\n",
    "            largest = lst[i]\n",
    "        elif lst[i] > second_largest and lst[i] != largest:\n",
    "            second_largest = lst[i]\n",
    "\n",
    "    return second_largest\n",
    "\n",
    "\n",
    "num_list = input(\"Enter a list of numbers (space-separated): \").split()\n",
    "num_list = [int(num) for num in num_list]\n",
    "second_largest_number = find_second_largest(num_list)\n",
    "\n",
    "if second_largest_number is None:\n",
    "    print(\"List has less than 2 elements.\")\n",
    "else:\n",
    "    print(\"The second largest number in the list is:\", second_largest_number)"
   ]
  },
  {
   "cell_type": "markdown",
   "id": "28851e76",
   "metadata": {},
   "source": [
    "# Q6"
   ]
  },
  {
   "cell_type": "code",
   "execution_count": 6,
   "id": "47f90e1a",
   "metadata": {},
   "outputs": [
    {
     "name": "stdout",
     "output_type": "stream",
     "text": [
      "Enter a list of numbers (space-separated): 5 5  6 45  566 2 5 26 4\n",
      "List after removing duplicates: [2, 4, 5, 6, 45, 566, 26]\n"
     ]
    }
   ],
   "source": [
    "def remove_duplicates(lst):\n",
    "    return list(set(lst))\n",
    "\n",
    "\n",
    "num_list = input(\"Enter a list of numbers (space-separated): \").split()\n",
    "num_list = [int(num) for num in num_list] \n",
    "unique_list = remove_duplicates(num_list)\n",
    "print(\"List after removing duplicates:\", unique_list)\n"
   ]
  },
  {
   "cell_type": "markdown",
   "id": "b81c36a8",
   "metadata": {},
   "source": [
    "# Q7"
   ]
  },
  {
   "cell_type": "code",
   "execution_count": 7,
   "id": "67ce29a8",
   "metadata": {},
   "outputs": [
    {
     "name": "stdout",
     "output_type": "stream",
     "text": [
      "Enter a number: 5\n",
      "The factorial of 5 is: 120\n"
     ]
    }
   ],
   "source": [
    "def factorial(n):\n",
    "    if n < 0:\n",
    "        return None\n",
    "    elif n == 0:\n",
    "        return 1\n",
    "    else:\n",
    "        result = 1\n",
    "        for i in range(1, n + 1):\n",
    "            result *= i\n",
    "        return result\n",
    "\n",
    "number = int(input(\"Enter a number: \"))\n",
    "factorial_result = factorial(number)\n",
    "\n",
    "if factorial_result is None:\n",
    "    print(\"Factorial is not defined for negative numbers.\")\n",
    "else:\n",
    "    print(f\"The factorial of {number} is: {factorial_result}\")\n"
   ]
  },
  {
   "cell_type": "markdown",
   "id": "9f63fb10",
   "metadata": {},
   "source": [
    "# Q8"
   ]
  },
  {
   "cell_type": "code",
   "execution_count": 8,
   "id": "6fb343a6",
   "metadata": {},
   "outputs": [
    {
     "name": "stdout",
     "output_type": "stream",
     "text": [
      "Enter a number: 5\n",
      "5 is a prime number.\n"
     ]
    }
   ],
   "source": [
    "def is_prime(number):\n",
    "    if number <= 1:\n",
    "        return False\n",
    "\n",
    "    for i in range(2, int(number ** 0.5) + 1):\n",
    "        if number % i == 0:\n",
    "            return False\n",
    "\n",
    "    return True\n",
    "\n",
    "\n",
    "num = int(input(\"Enter a number: \"))\n",
    "if is_prime(num):\n",
    "    print(f\"{num} is a prime number.\")\n",
    "else:\n",
    "    print(f\"{num} is not a prime number.\")\n"
   ]
  },
  {
   "cell_type": "markdown",
   "id": "f3b9c3f8",
   "metadata": {},
   "source": [
    "# Q9"
   ]
  },
  {
   "cell_type": "code",
   "execution_count": 9,
   "id": "7eb306b7",
   "metadata": {},
   "outputs": [
    {
     "name": "stdout",
     "output_type": "stream",
     "text": [
      "Enter a list of numbers (space-separated): 5 6 5 6 3 5 2 3\n",
      "List after sorting: [2, 3, 3, 5, 5, 5, 6, 6]\n"
     ]
    }
   ],
   "source": [
    "def sort_list(lst):\n",
    "    return sorted(lst)\n",
    "\n",
    "num_list = input(\"Enter a list of numbers (space-separated): \").split()\n",
    "num_list = [int(num) for num in num_list]\n",
    "sorted_list = sort_list(num_list)\n",
    "print(\"List after sorting:\", sorted_list)\n"
   ]
  },
  {
   "cell_type": "markdown",
   "id": "08691d26",
   "metadata": {},
   "source": [
    "# Q10"
   ]
  },
  {
   "cell_type": "code",
   "execution_count": 10,
   "id": "a4b39b6b",
   "metadata": {},
   "outputs": [
    {
     "name": "stdout",
     "output_type": "stream",
     "text": [
      "Enter a list of numbers (space-separated): 5 6 5 4 89 4 5 2\n",
      "Sum of numbers: 120\n"
     ]
    }
   ],
   "source": [
    "def calculate_sum(lst):\n",
    "    total = 0\n",
    "    for num in lst:\n",
    "        total += num\n",
    "    return total\n",
    "\n",
    "num_list = input(\"Enter a list of numbers (space-separated): \").split()\n",
    "num_list = [int(num) for num in num_list]\n",
    "sum_of_numbers = calculate_sum(num_list)\n",
    "print(\"Sum of numbers:\", sum_of_numbers)\n"
   ]
  },
  {
   "cell_type": "markdown",
   "id": "c12f8e1b",
   "metadata": {},
   "source": [
    "# Q11"
   ]
  },
  {
   "cell_type": "code",
   "execution_count": 22,
   "id": "c07f8562",
   "metadata": {},
   "outputs": [
    {
     "name": "stdout",
     "output_type": "stream",
     "text": [
      "[4, 5]\n"
     ]
    }
   ],
   "source": [
    "def find_common_elements(list1, list2):\n",
    "    common_elements = []\n",
    "    for element in list1:\n",
    "        if element in list2:\n",
    "            common_elements.append(element)\n",
    "    return common_elements\n",
    "\n",
    "list1 = [1, 2, 3, 4, 5]\n",
    "list2 = [4, 5, 6, 7, 8]\n",
    "common_elements = find_common_elements(list1, list2)\n",
    "print(common_elements)\n"
   ]
  },
  {
   "cell_type": "markdown",
   "id": "87ae4bb1",
   "metadata": {},
   "source": [
    "# Q12"
   ]
  },
  {
   "cell_type": "code",
   "execution_count": 23,
   "id": "5b9e5534",
   "metadata": {},
   "outputs": [
    {
     "name": "stdout",
     "output_type": "stream",
     "text": [
      "True\n"
     ]
    }
   ],
   "source": [
    "def is_anagram(string1, string2):\n",
    "    return sorted(string1) == sorted(string2)\n",
    "\n",
    "string1 = \"listen\"\n",
    "string2 = \"silent\"\n",
    "print(is_anagram(string1, string2)) \n"
   ]
  },
  {
   "cell_type": "markdown",
   "id": "27410db3",
   "metadata": {},
   "source": [
    "# Q13"
   ]
  },
  {
   "cell_type": "code",
   "execution_count": 24,
   "id": "84bf190e",
   "metadata": {},
   "outputs": [
    {
     "name": "stdout",
     "output_type": "stream",
     "text": [
      "['abc', 'acb', 'bac', 'bca', 'cab', 'cba']\n"
     ]
    }
   ],
   "source": [
    "import itertools\n",
    "\n",
    "def generate_permutations(string):\n",
    "    permutations = [''.join(p) for p in itertools.permutations(string)]\n",
    "    return permutations\n",
    "\n",
    "string = \"abc\"\n",
    "permutations = generate_permutations(string)\n",
    "print(permutations)\n"
   ]
  },
  {
   "cell_type": "markdown",
   "id": "ef5ae22e",
   "metadata": {},
   "source": [
    "# Q14"
   ]
  },
  {
   "cell_type": "code",
   "execution_count": 25,
   "id": "a20be816",
   "metadata": {},
   "outputs": [
    {
     "name": "stdout",
     "output_type": "stream",
     "text": [
      "[0, 1, 1, 2, 3, 5, 8, 13, 21, 34]\n"
     ]
    }
   ],
   "source": [
    "def fibonacci_sequence(n):\n",
    "    sequence = []\n",
    "    a, b = 0, 1\n",
    "    for _ in range(n):\n",
    "        sequence.append(a)\n",
    "        a, b = b, a + b\n",
    "    return sequence\n",
    "\n",
    "n = 10\n",
    "fibonacci_seq = fibonacci_sequence(n)\n",
    "print(fibonacci_seq)\n"
   ]
  },
  {
   "cell_type": "markdown",
   "id": "c9913589",
   "metadata": {},
   "source": [
    "# Q15"
   ]
  },
  {
   "cell_type": "code",
   "execution_count": 26,
   "id": "3defdfee",
   "metadata": {},
   "outputs": [
    {
     "name": "stdout",
     "output_type": "stream",
     "text": [
      "3\n"
     ]
    }
   ],
   "source": [
    "def find_median(numbers):\n",
    "    sorted_numbers = sorted(numbers)\n",
    "    n = len(sorted_numbers)\n",
    "    if n % 2 == 0:\n",
    "        median = (sorted_numbers[n//2 - 1] + sorted_numbers[n//2]) / 2\n",
    "    else:\n",
    "        median = sorted_numbers[n//2]\n",
    "    return median\n",
    "\n",
    "numbers = [1, 4, 2, 5, 3]\n",
    "median = find_median(numbers)\n",
    "print(median)\n"
   ]
  },
  {
   "cell_type": "markdown",
   "id": "20a06aac",
   "metadata": {},
   "source": [
    "# Q16"
   ]
  },
  {
   "cell_type": "code",
   "execution_count": 27,
   "id": "b61f854c",
   "metadata": {},
   "outputs": [
    {
     "name": "stdout",
     "output_type": "stream",
     "text": [
      "True\n",
      "False\n"
     ]
    }
   ],
   "source": [
    "def is_sorted(numbers):\n",
    "    return all(numbers[i] <= numbers[i+1] for i in range(len(numbers)-1))\n",
    "\n",
    "\n",
    "numbers1 = [1, 2, 3, 4, 5]\n",
    "numbers2 = [5, 4, 3, 2, 1]\n",
    "print(is_sorted(numbers1)) \n",
    "print(is_sorted(numbers2)) \n"
   ]
  },
  {
   "cell_type": "markdown",
   "id": "2b9fc197",
   "metadata": {},
   "source": [
    "# Q17"
   ]
  },
  {
   "cell_type": "code",
   "execution_count": 28,
   "id": "48bfaf48",
   "metadata": {},
   "outputs": [
    {
     "name": "stdout",
     "output_type": "stream",
     "text": [
      "[4, 5]\n"
     ]
    }
   ],
   "source": [
    "def find_intersection(list1, list2):\n",
    "    return list(set(list1) & set(list2))\n",
    "\n",
    "list1 = [1, 2, 3, 4, 5]\n",
    "list2 = [4, 5, 6, 7, 8]\n",
    "intersection = find_intersection(list1, list2)\n",
    "print(intersection)\n"
   ]
  },
  {
   "cell_type": "markdown",
   "id": "b18ddb42",
   "metadata": {},
   "source": [
    "# Q18"
   ]
  },
  {
   "cell_type": "code",
   "execution_count": 29,
   "id": "e1a96252",
   "metadata": {},
   "outputs": [
    {
     "name": "stdout",
     "output_type": "stream",
     "text": [
      "6\n"
     ]
    }
   ],
   "source": [
    "def find_maximum_subarray_sum(numbers):\n",
    "    max_sum = float('-inf')\n",
    "    current_sum = 0\n",
    "    for num in numbers:\n",
    "        current_sum = max(num, current_sum + num)\n",
    "        max_sum = max(max_sum, current_sum)\n",
    "    return max_sum\n",
    "\n",
    "numbers = [-2, 1, -3, 4, -1, 2, 1, -5, 4]\n",
    "maximum_subarray_sum = find_maximum_subarray_sum(numbers)\n",
    "print(maximum_subarray_sum)\n"
   ]
  },
  {
   "cell_type": "markdown",
   "id": "3e86fcec",
   "metadata": {},
   "source": [
    "# Q19"
   ]
  },
  {
   "cell_type": "code",
   "execution_count": 30,
   "id": "6c144b6e",
   "metadata": {},
   "outputs": [
    {
     "name": "stdout",
     "output_type": "stream",
     "text": [
      "Hll, Wrld!\n"
     ]
    }
   ],
   "source": [
    "def remove_vowels(string):\n",
    "    vowels = ['a', 'e', 'i', 'o', 'u', 'A', 'E', 'I', 'O', 'U']\n",
    "    return ''.join(char for char in string if char not in vowels)\n",
    "\n",
    "string = \"Hello, World!\"\n",
    "result = remove_vowels(string)\n",
    "print(result)\n"
   ]
  },
  {
   "cell_type": "markdown",
   "id": "b5c95a88",
   "metadata": {},
   "source": [
    "# Q20"
   ]
  },
  {
   "cell_type": "code",
   "execution_count": 31,
   "id": "704d4153",
   "metadata": {},
   "outputs": [
    {
     "name": "stdout",
     "output_type": "stream",
     "text": [
      "World! Hello,\n"
     ]
    }
   ],
   "source": [
    "def reverse_words(sentence):\n",
    "    words = sentence.split()\n",
    "    reversed_words = ' '.join(reversed(words))\n",
    "    return reversed_words\n",
    "\n",
    "sentence = \"Hello, World!\"\n",
    "reversed_sentence = reverse_words(sentence)\n",
    "print(reversed_sentence)\n"
   ]
  },
  {
   "cell_type": "markdown",
   "id": "399c1271",
   "metadata": {},
   "source": [
    "# Q21"
   ]
  },
  {
   "cell_type": "code",
   "execution_count": 32,
   "id": "a6fd5643",
   "metadata": {},
   "outputs": [
    {
     "name": "stdout",
     "output_type": "stream",
     "text": [
      "True\n"
     ]
    }
   ],
   "source": [
    "def are_anagrams(string1, string2):\n",
    "    return sorted(string1) == sorted(string2)\n",
    "\n",
    "\n",
    "string1 = \"listen\"\n",
    "string2 = \"silent\"\n",
    "print(are_anagrams(string1, string2))\n"
   ]
  },
  {
   "cell_type": "markdown",
   "id": "e55c9043",
   "metadata": {},
   "source": [
    "# Q22"
   ]
  },
  {
   "cell_type": "code",
   "execution_count": 33,
   "id": "82ecd13c",
   "metadata": {},
   "outputs": [
    {
     "name": "stdout",
     "output_type": "stream",
     "text": [
      "c\n"
     ]
    }
   ],
   "source": [
    "from collections import Counter\n",
    "\n",
    "def find_first_non_repeating(string):\n",
    "    char_count = Counter(string)\n",
    "    for char in string:\n",
    "        if char_count[char] == 1:\n",
    "            return char\n",
    "    return None\n",
    "\n",
    "string = \"abracadabra\"\n",
    "non_repeating_char = find_first_non_repeating(string)\n",
    "print(non_repeating_char)\n"
   ]
  },
  {
   "cell_type": "markdown",
   "id": "f8fa9bc6",
   "metadata": {},
   "source": [
    "# Q23"
   ]
  },
  {
   "cell_type": "code",
   "execution_count": 34,
   "id": "045ed495",
   "metadata": {},
   "outputs": [
    {
     "name": "stdout",
     "output_type": "stream",
     "text": [
      "[2, 2, 3, 3]\n"
     ]
    }
   ],
   "source": [
    "def find_prime_factors(number):\n",
    "    factors = []\n",
    "    i = 2\n",
    "    while i * i <= number:\n",
    "        if number % i:\n",
    "            i += 1\n",
    "        else:\n",
    "            number //= i\n",
    "            factors.append(i)\n",
    "    if number > 1:\n",
    "        factors.append(number)\n",
    "    return factors\n",
    "\n",
    "number = 36\n",
    "prime_factors = find_prime_factors(number)\n",
    "print(prime_factors)\n"
   ]
  },
  {
   "cell_type": "markdown",
   "id": "87cdc2df",
   "metadata": {},
   "source": [
    "# Q24"
   ]
  },
  {
   "cell_type": "code",
   "execution_count": 35,
   "id": "dec501e4",
   "metadata": {},
   "outputs": [
    {
     "name": "stdout",
     "output_type": "stream",
     "text": [
      "True\n",
      "False\n"
     ]
    }
   ],
   "source": [
    "def is_power_of_two(number):\n",
    "    return (number & (number - 1)) == 0 and number != 0\n",
    "\n",
    "\n",
    "number1 = 16\n",
    "number2 = 17\n",
    "print(is_power_of_two(number1))\n",
    "print(is_power_of_two(number2))\n"
   ]
  },
  {
   "cell_type": "markdown",
   "id": "ba477672",
   "metadata": {},
   "source": [
    "# Q25"
   ]
  },
  {
   "cell_type": "code",
   "execution_count": 36,
   "id": "391cd8c8",
   "metadata": {},
   "outputs": [
    {
     "name": "stdout",
     "output_type": "stream",
     "text": [
      "[1, 2, 3, 4, 5, 6, 7, 8]\n"
     ]
    }
   ],
   "source": [
    "def merge_sorted_lists(list1, list2):\n",
    "    merged_list = []\n",
    "    i, j = 0, 0\n",
    "    while i < len(list1) and j < len(list2):\n",
    "        if list1[i] <= list2[j]:\n",
    "            merged_list.append(list1[i])\n",
    "            i += 1\n",
    "        else:\n",
    "            merged_list.append(list2[j])\n",
    "            j += 1\n",
    "    merged_list.extend(list1[i:])\n",
    "    merged_list.extend(list2[j:])\n",
    "    return merged_list\n",
    "\n",
    "list1 = [1, 3, 5, 7]\n",
    "list2 = [2, 4, 6, 8]\n",
    "merged_list = merge_sorted_lists(list1, list2)\n",
    "print(merged_list)\n"
   ]
  },
  {
   "cell_type": "markdown",
   "id": "6dbdf87c",
   "metadata": {},
   "source": [
    "# Q26"
   ]
  },
  {
   "cell_type": "code",
   "execution_count": 37,
   "id": "2292129a",
   "metadata": {},
   "outputs": [
    {
     "name": "stdout",
     "output_type": "stream",
     "text": [
      "[3]\n"
     ]
    }
   ],
   "source": [
    "from collections import Counter\n",
    "\n",
    "def find_mode(numbers):\n",
    "    count = Counter(numbers)\n",
    "    max_count = max(count.values())\n",
    "    mode = [num for num, freq in count.items() if freq == max_count]\n",
    "    return mode\n",
    "\n",
    "\n",
    "numbers = [1, 2, 3, 2, 4, 3, 3]\n",
    "mode = find_mode(numbers)\n",
    "print(mode)"
   ]
  },
  {
   "cell_type": "markdown",
   "id": "eca7db72",
   "metadata": {},
   "source": [
    "# Q27"
   ]
  },
  {
   "cell_type": "code",
   "execution_count": 38,
   "id": "b3ce7360",
   "metadata": {},
   "outputs": [
    {
     "name": "stdout",
     "output_type": "stream",
     "text": [
      "16\n"
     ]
    }
   ],
   "source": [
    "def find_gcd(a, b):\n",
    "    while b:\n",
    "        a, b = b, a % b\n",
    "    return a\n",
    "\n",
    "num1 = 48\n",
    "num2 = 64\n",
    "gcd = find_gcd(num1, num2)\n",
    "print(gcd)"
   ]
  },
  {
   "cell_type": "markdown",
   "id": "b4ed6059",
   "metadata": {},
   "source": [
    "# Q28"
   ]
  },
  {
   "cell_type": "code",
   "execution_count": 39,
   "id": "b82f6cc6",
   "metadata": {},
   "outputs": [
    {
     "name": "stdout",
     "output_type": "stream",
     "text": [
      "4.0\n"
     ]
    }
   ],
   "source": [
    "def calculate_square_root(number):\n",
    "    if number < 0:\n",
    "        return None\n",
    "    guess = number\n",
    "    while True:\n",
    "        new_guess = 0.5 * (guess + number / guess)\n",
    "        if abs(new_guess - guess) < 1e-9:\n",
    "            return new_guess\n",
    "        guess = new_guess\n",
    "\n",
    "number = 16\n",
    "square_root = calculate_square_root(number)\n",
    "print(square_root)"
   ]
  },
  {
   "cell_type": "markdown",
   "id": "7e6fda69",
   "metadata": {},
   "source": [
    "# Q29"
   ]
  },
  {
   "cell_type": "code",
   "execution_count": 40,
   "id": "ced5fdab",
   "metadata": {},
   "outputs": [
    {
     "name": "stdout",
     "output_type": "stream",
     "text": [
      "True\n"
     ]
    }
   ],
   "source": [
    "import re\n",
    "\n",
    "def is_valid_palindrome(string):\n",
    "    alphanumeric_string = re.sub(r'\\W+', '', string.lower())\n",
    "    return alphanumeric_string == alphanumeric_string[::-1]\n",
    "\n",
    "string = \"A man, a plan, a canal: Panama\"\n",
    "print(is_valid_palindrome(string))"
   ]
  },
  {
   "cell_type": "markdown",
   "id": "95d07bdd",
   "metadata": {},
   "source": [
    "# Q30"
   ]
  },
  {
   "cell_type": "code",
   "execution_count": 41,
   "id": "3d1b849e",
   "metadata": {},
   "outputs": [
    {
     "name": "stdout",
     "output_type": "stream",
     "text": [
      "0\n"
     ]
    }
   ],
   "source": [
    "def find_minimum(rotated_list):\n",
    "    left, right = 0, len(rotated_list) - 1\n",
    "    while left < right:\n",
    "        mid = left + (right - left) // 2\n",
    "        if rotated_list[mid] > rotated_list[right]:\n",
    "            left = mid + 1\n",
    "        else:\n",
    "            right = mid\n",
    "    return rotated_list[left]\n",
    "\n",
    "rotated_list = [4, 5, 6, 7, 0, 1, 2]\n",
    "minimum = find_minimum(rotated_list)\n",
    "print(minimum)\n"
   ]
  },
  {
   "cell_type": "code",
   "execution_count": null,
   "id": "d46d7612",
   "metadata": {},
   "outputs": [],
   "source": []
  }
 ],
 "metadata": {
  "kernelspec": {
   "display_name": "Python 3 (ipykernel)",
   "language": "python",
   "name": "python3"
  },
  "language_info": {
   "codemirror_mode": {
    "name": "ipython",
    "version": 3
   },
   "file_extension": ".py",
   "mimetype": "text/x-python",
   "name": "python",
   "nbconvert_exporter": "python",
   "pygments_lexer": "ipython3",
   "version": "3.10.0"
  }
 },
 "nbformat": 4,
 "nbformat_minor": 5
}
