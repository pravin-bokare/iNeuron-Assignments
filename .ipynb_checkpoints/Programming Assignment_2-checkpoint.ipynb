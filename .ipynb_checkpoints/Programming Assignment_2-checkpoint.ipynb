{
 "cells": [
  {
   "cell_type": "markdown",
   "id": "13b175f2",
   "metadata": {},
   "source": [
    "# Q1"
   ]
  },
  {
   "cell_type": "code",
   "execution_count": 2,
   "id": "f93e8e9f",
   "metadata": {},
   "outputs": [
    {
     "name": "stdout",
     "output_type": "stream",
     "text": [
      "Enter value in KM3.5\n",
      "Miles : 2.17\n"
     ]
    }
   ],
   "source": [
    "a = eval(input('Enter value in KM '))\n",
    "print(f\"Miles : {round(0.621371*a, 2)}\")"
   ]
  },
  {
   "cell_type": "markdown",
   "id": "b5bd3913",
   "metadata": {},
   "source": [
    "# Q2"
   ]
  },
  {
   "cell_type": "code",
   "execution_count": 3,
   "id": "10b2b4f8",
   "metadata": {},
   "outputs": [
    {
     "name": "stdout",
     "output_type": "stream",
     "text": [
      "input temprature in celcius 35.5\n",
      "Fahrenheit : 95.9\n"
     ]
    }
   ],
   "source": [
    "b = eval(input(\"input temprature in celcius \"))\n",
    "print(f\"Fahrenheit : {(b*1.8)+32}\")"
   ]
  },
  {
   "cell_type": "markdown",
   "id": "c9a2afec",
   "metadata": {},
   "source": [
    "# Q3"
   ]
  },
  {
   "cell_type": "code",
   "execution_count": 6,
   "id": "b9be77f5",
   "metadata": {},
   "outputs": [
    {
     "name": "stdout",
     "output_type": "stream",
     "text": [
      "    October 2022\n",
      "Mo Tu We Th Fr Sa Su\n",
      "                1  2\n",
      " 3  4  5  6  7  8  9\n",
      "10 11 12 13 14 15 16\n",
      "17 18 19 20 21 22 23\n",
      "24 25 26 27 28 29 30\n",
      "31\n",
      "\n"
     ]
    }
   ],
   "source": [
    "import calendar\n",
    "yy=2022\n",
    "mm=10\n",
    "print(calendar.month(yy, mm))"
   ]
  },
  {
   "cell_type": "markdown",
   "id": "c22f6f57",
   "metadata": {},
   "source": [
    "# Q4"
   ]
  },
  {
   "cell_type": "code",
   "execution_count": 8,
   "id": "3cf887d8",
   "metadata": {},
   "outputs": [
    {
     "name": "stdout",
     "output_type": "stream",
     "text": [
      "Enter value of a 1\n",
      "Enter value of b 5\n",
      "Enter value of c 6\n",
      "Sol1 :-3.0 , Sol2 :-2.0\n"
     ]
    }
   ],
   "source": [
    "import math\n",
    "a = eval(input(\"Enter value of a \"))\n",
    "b = eval(input(\"Enter value of b \"))\n",
    "c = eval(input(\"Enter value of c \"))\n",
    "d = (b**2) - (4*a*c)\n",
    "sol1 = (-b-math.sqrt(d))/(2*a)\n",
    "sol2 = (-b+math.sqrt(d))/(2*a)\n",
    "print(f\"Sol1 :{sol1} , Sol2 :{sol2}\")"
   ]
  },
  {
   "cell_type": "markdown",
   "id": "9a7de736",
   "metadata": {},
   "source": [
    "# Q5"
   ]
  },
  {
   "cell_type": "code",
   "execution_count": 10,
   "id": "05dc2c71",
   "metadata": {},
   "outputs": [
    {
     "name": "stdout",
     "output_type": "stream",
     "text": [
      "10\n",
      "5\n"
     ]
    }
   ],
   "source": [
    "a = 5\n",
    "b = 10\n",
    "a, b = b, a\n",
    "print(a)\n",
    "print(b)"
   ]
  }
 ],
 "metadata": {
  "kernelspec": {
   "display_name": "Python 3 (ipykernel)",
   "language": "python",
   "name": "python3"
  },
  "language_info": {
   "codemirror_mode": {
    "name": "ipython",
    "version": 3
   },
   "file_extension": ".py",
   "mimetype": "text/x-python",
   "name": "python",
   "nbconvert_exporter": "python",
   "pygments_lexer": "ipython3",
   "version": "3.10.7"
  }
 },
 "nbformat": 4,
 "nbformat_minor": 5
}
