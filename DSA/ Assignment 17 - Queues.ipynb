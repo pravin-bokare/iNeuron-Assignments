{
 "cells": [
  {
   "cell_type": "markdown",
   "id": "2ad0bf4a",
   "metadata": {},
   "source": [
    "# Q1"
   ]
  },
  {
   "cell_type": "code",
   "execution_count": 1,
   "id": "8be96aae",
   "metadata": {},
   "outputs": [],
   "source": [
    "def first_non_repeating_char_index(s):\n",
    "    char_count = {}\n",
    "    \n",
    "    for char in s:\n",
    "        char_count[char] = char_count.get(char, 0) + 1\n",
    "    \n",
    "    for i, char in enumerate(s):\n",
    "        if char_count[char] == 1:\n",
    "            return i\n",
    "    \n",
    "    return -1\n"
   ]
  },
  {
   "cell_type": "code",
   "execution_count": 2,
   "id": "182a18f7",
   "metadata": {},
   "outputs": [
    {
     "name": "stdout",
     "output_type": "stream",
     "text": [
      "Index of the first non-repeating character: 0\n"
     ]
    }
   ],
   "source": [
    "s = \"leetcode\"\n",
    "result = first_non_repeating_char_index(s)\n",
    "print(\"Index of the first non-repeating character:\", result)"
   ]
  },
  {
   "cell_type": "markdown",
   "id": "0b64beff",
   "metadata": {},
   "source": [
    "# Q2"
   ]
  },
  {
   "cell_type": "code",
   "execution_count": 3,
   "id": "b7a18c11",
   "metadata": {},
   "outputs": [],
   "source": [
    "def kadane_algorithm(nums):\n",
    "    max_so_far = nums[0]\n",
    "    max_ending_here = nums[0]\n",
    "\n",
    "    for num in nums[1:]:\n",
    "        max_ending_here = max(num, max_ending_here + num)\n",
    "        max_so_far = max(max_so_far, max_ending_here)\n",
    "\n",
    "    return max_so_far\n",
    "\n",
    "def max_subarray_sum_circular(nums):\n",
    "    n = len(nums)\n",
    "    \n",
    "    max_linear = kadane_algorithm(nums)\n",
    "\n",
    "    total_sum = sum(nums)\n",
    "    inverted_nums = [-num for num in nums]\n",
    "    max_circular = total_sum + kadane_algorithm(inverted_nums)\n",
    "\n",
    "    return max(max_linear, max_circular)\n"
   ]
  },
  {
   "cell_type": "code",
   "execution_count": 4,
   "id": "d7d05880",
   "metadata": {},
   "outputs": [
    {
     "name": "stdout",
     "output_type": "stream",
     "text": [
      "Maximum possible sum of a non-empty subarray: 3\n"
     ]
    }
   ],
   "source": [
    "nums = [1, -2, 3, -2]\n",
    "result = max_subarray_sum_circular(nums)\n",
    "print(\"Maximum possible sum of a non-empty subarray:\", result)"
   ]
  },
  {
   "cell_type": "markdown",
   "id": "60966e15",
   "metadata": {},
   "source": [
    "# Q3"
   ]
  },
  {
   "cell_type": "code",
   "execution_count": 5,
   "id": "ff29fd01",
   "metadata": {},
   "outputs": [],
   "source": [
    "from collections import deque\n",
    "\n",
    "def count_students_unable_to_eat(students, sandwiches):\n",
    "    queue = deque(students)\n",
    "    stack = deque(sandwiches)\n",
    "\n",
    "    while queue:\n",
    "        if queue[0] == stack[0]:\n",
    "            queue.popleft()\n",
    "            stack.popleft()\n",
    "        else:\n",
    "\n",
    "            queue.append(queue.popleft())\n",
    "\n",
    "        if queue == students:\n",
    "            break\n",
    "\n",
    "    return len(queue)"
   ]
  },
  {
   "cell_type": "code",
   "execution_count": 6,
   "id": "f6727ab7",
   "metadata": {},
   "outputs": [
    {
     "name": "stdout",
     "output_type": "stream",
     "text": [
      "Number of students unable to eat: 0\n"
     ]
    }
   ],
   "source": [
    "students = [1, 1, 0, 0]\n",
    "sandwiches = [0, 1, 0, 1]\n",
    "result = count_students_unable_to_eat(students, sandwiches)\n",
    "print(\"Number of students unable to eat:\", result)"
   ]
  },
  {
   "cell_type": "markdown",
   "id": "d3d545b9",
   "metadata": {},
   "source": [
    "# Q4"
   ]
  },
  {
   "cell_type": "code",
   "execution_count": 7,
   "id": "cee732f4",
   "metadata": {},
   "outputs": [],
   "source": [
    "from collections import deque\n",
    "\n",
    "class RecentCounter:\n",
    "    def __init__(self):\n",
    "        self.requests = deque()\n",
    "\n",
    "    def ping(self, t: int) -> int:\n",
    "        self.requests.append(t)\n",
    "\n",
    "        while self.requests[0] < t - 3000:\n",
    "            self.requests.popleft()\n",
    "\n",
    "        return len(self.requests)\n"
   ]
  },
  {
   "cell_type": "code",
   "execution_count": 8,
   "id": "2ca98527",
   "metadata": {},
   "outputs": [
    {
     "name": "stdout",
     "output_type": "stream",
     "text": [
      "[None, 1, 2, 3, 3]\n"
     ]
    }
   ],
   "source": [
    "recentCounter = RecentCounter()\n",
    "output = [None, recentCounter.ping(1), recentCounter.ping(100), recentCounter.ping(3001), recentCounter.ping(3002)]\n",
    "print(output)"
   ]
  },
  {
   "cell_type": "code",
   "execution_count": null,
   "id": "41173be7",
   "metadata": {},
   "outputs": [],
   "source": []
  }
 ],
 "metadata": {
  "kernelspec": {
   "display_name": "Python 3 (ipykernel)",
   "language": "python",
   "name": "python3"
  },
  "language_info": {
   "codemirror_mode": {
    "name": "ipython",
    "version": 3
   },
   "file_extension": ".py",
   "mimetype": "text/x-python",
   "name": "python",
   "nbconvert_exporter": "python",
   "pygments_lexer": "ipython3",
   "version": "3.10.0"
  }
 },
 "nbformat": 4,
 "nbformat_minor": 5
}
