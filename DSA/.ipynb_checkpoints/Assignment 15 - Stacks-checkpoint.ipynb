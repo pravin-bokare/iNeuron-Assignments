{
 "cells": [
  {
   "cell_type": "markdown",
   "id": "37fa7e25",
   "metadata": {},
   "source": [
    "# Q1"
   ]
  },
  {
   "cell_type": "code",
   "execution_count": 4,
   "id": "622823ea",
   "metadata": {},
   "outputs": [
    {
     "name": "stdout",
     "output_type": "stream",
     "text": [
      "[3, 4, 4, -1]\n"
     ]
    }
   ],
   "source": [
    "def nextGreaterElement(arr):\n",
    "    n = len(arr)\n",
    "    result = [-1] * n  # Initialize the result array with -1\n",
    "    stack = []\n",
    "\n",
    "    # Iterate through the array from right to left\n",
    "    for i in range(n - 1, -1, -1):\n",
    "        # Pop elements from the stack until we find a greater element or the stack becomes empty\n",
    "        while stack and stack[-1] <= arr[i]:\n",
    "            stack.pop()\n",
    "\n",
    "        # If there's a greater element, it will be at the top of the stack\n",
    "        if stack:\n",
    "            result[i] = stack[-1]\n",
    "\n",
    "        # Push the current element into the stack\n",
    "        stack.append(arr[i])\n",
    "\n",
    "    return result\n",
    "\n",
    "# Example usage\n",
    "arr = [1, 3, 2, 4]\n",
    "result = nextGreaterElement(arr)\n",
    "print(result)"
   ]
  },
  {
   "cell_type": "markdown",
   "id": "034509ac",
   "metadata": {},
   "source": [
    "# Q2"
   ]
  },
  {
   "cell_type": "code",
   "execution_count": 3,
   "id": "c7a77fce",
   "metadata": {},
   "outputs": [
    {
     "name": "stdout",
     "output_type": "stream",
     "text": [
      "[-1, 1, 1]\n"
     ]
    }
   ],
   "source": [
    "def nearestSmallerLeft(a):\n",
    "    n = len(a)\n",
    "    result = [-1] * n  # Initialize the result array with -1\n",
    "    stack = []\n",
    "\n",
    "    # Iterate through the array from left to right\n",
    "    for i in range(n):\n",
    "        # Pop elements from the stack until we find a smaller element or the stack becomes empty\n",
    "        while stack and stack[-1] >= a[i]:\n",
    "            stack.pop()\n",
    "\n",
    "        # If there's a smaller element, it will be at the top of the stack\n",
    "        if stack:\n",
    "            result[i] = stack[-1]\n",
    "\n",
    "        # Push the current element into the stack\n",
    "        stack.append(a[i])\n",
    "\n",
    "    return result\n",
    "\n",
    "# Example usage\n",
    "a = [1, 6, 2]\n",
    "result = nearestSmallerLeft(a)\n",
    "print(result)"
   ]
  },
  {
   "cell_type": "markdown",
   "id": "824e8b87",
   "metadata": {},
   "source": [
    "# Q4"
   ]
  },
  {
   "cell_type": "code",
   "execution_count": 5,
   "id": "6908d34a",
   "metadata": {},
   "outputs": [
    {
     "name": "stdout",
     "output_type": "stream",
     "text": [
      "[6, 7, 1, 2, 3]\n"
     ]
    }
   ],
   "source": [
    "def reverseStack(stack):\n",
    "    if not stack:\n",
    "        return\n",
    "    \n",
    "    # Remove the top element from the stack\n",
    "    top = stack.pop()\n",
    "\n",
    "    # Reverse the remaining stack\n",
    "    reverseStack(stack)\n",
    "\n",
    "    # Insert the top element at the bottom of the reversed stack\n",
    "    insertAtBottom(stack, top)\n",
    "\n",
    "def insertAtBottom(stack, value):\n",
    "    if not stack:\n",
    "        stack.append(value)\n",
    "        return\n",
    "    \n",
    "    # Remove the top element from the stack\n",
    "    top = stack.pop()\n",
    "\n",
    "    # Insert the value at the bottom of the remaining stack\n",
    "    insertAtBottom(stack, value)\n",
    "\n",
    "    # Push the top element back onto the stack\n",
    "    stack.append(top)\n",
    "\n",
    "# Example usage\n",
    "stack = [3, 2, 1, 7, 6]\n",
    "reverseStack(stack)\n",
    "print(stack)\n"
   ]
  },
  {
   "cell_type": "markdown",
   "id": "48ae125b",
   "metadata": {},
   "source": [
    "# Q5"
   ]
  },
  {
   "cell_type": "code",
   "execution_count": 6,
   "id": "fcf2c8c9",
   "metadata": {},
   "outputs": [
    {
     "name": "stdout",
     "output_type": "stream",
     "text": [
      "skeeGrofskeeG\n"
     ]
    }
   ],
   "source": [
    "def reverseString(S):\n",
    "    stack = []\n",
    "\n",
    "    for char in S:\n",
    "        stack.append(char)\n",
    "    \n",
    "    reversed_string = \"\"\n",
    "\n",
    "    while stack:\n",
    "        reversed_string += stack.pop()\n",
    "    \n",
    "    return reversed_string\n",
    "\n",
    "\n",
    "S = \"GeeksforGeeks\"\n",
    "reversed_str = reverseString(S)\n",
    "print(reversed_str)\n"
   ]
  },
  {
   "cell_type": "code",
   "execution_count": null,
   "id": "7c0bc07d",
   "metadata": {},
   "outputs": [],
   "source": []
  }
 ],
 "metadata": {
  "kernelspec": {
   "display_name": "Python 3 (ipykernel)",
   "language": "python",
   "name": "python3"
  },
  "language_info": {
   "codemirror_mode": {
    "name": "ipython",
    "version": 3
   },
   "file_extension": ".py",
   "mimetype": "text/x-python",
   "name": "python",
   "nbconvert_exporter": "python",
   "pygments_lexer": "ipython3",
   "version": "3.10.0"
  }
 },
 "nbformat": 4,
 "nbformat_minor": 5
}
