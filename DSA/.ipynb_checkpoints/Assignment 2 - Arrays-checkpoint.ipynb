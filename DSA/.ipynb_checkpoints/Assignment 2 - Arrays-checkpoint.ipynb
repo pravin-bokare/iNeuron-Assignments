{
 "cells": [
  {
   "cell_type": "markdown",
   "id": "e933fb1f",
   "metadata": {},
   "source": [
    "# Question 1\n",
    "Given an integer array nums of 2n integers, group these integers into n pairs (a1, b1), (a2, b2),..., (an, bn) such that the sum of min(ai, bi) for all i is maximized. Return the maximized sum."
   ]
  },
  {
   "cell_type": "code",
   "execution_count": 1,
   "id": "ed4c34f2",
   "metadata": {},
   "outputs": [],
   "source": [
    "def fun1(nums):\n",
    "    return sum(sorted(nums)[::2])"
   ]
  },
  {
   "cell_type": "code",
   "execution_count": 2,
   "id": "adc76891",
   "metadata": {},
   "outputs": [
    {
     "data": {
      "text/plain": [
       "4"
      ]
     },
     "execution_count": 2,
     "metadata": {},
     "output_type": "execute_result"
    }
   ],
   "source": [
    "fun1(nums = [1,4,3,2])"
   ]
  },
  {
   "cell_type": "markdown",
   "id": "978bc04b",
   "metadata": {},
   "source": [
    "# Question 2\n",
    "Alice has n candies, where the ith candy is of type candyType[i]. Alice noticed that she started to gain weight, so she visited a doctor. \n"
   ]
  },
  {
   "cell_type": "code",
   "execution_count": 3,
   "id": "3b1ff937",
   "metadata": {},
   "outputs": [],
   "source": [
    "def fun2(candyType):\n",
    "    s = set(candyType)\n",
    "    n = len(candyType)\n",
    "    if len(s)>n/2:\n",
    "        return n/2\n",
    "    else:\n",
    "        return len(s)"
   ]
  },
  {
   "cell_type": "code",
   "execution_count": 4,
   "id": "9666b583",
   "metadata": {},
   "outputs": [
    {
     "data": {
      "text/plain": [
       "3"
      ]
     },
     "execution_count": 4,
     "metadata": {},
     "output_type": "execute_result"
    }
   ],
   "source": [
    "fun2([1,1,2,2,3,3])"
   ]
  },
  {
   "cell_type": "markdown",
   "id": "087376f2",
   "metadata": {},
   "source": [
    "# Question 3\n",
    "We define a harmonious array as an array where the difference between its maximum value\n",
    "and its minimum value is exactly 1."
   ]
  },
  {
   "cell_type": "code",
   "execution_count": 9,
   "id": "5eb9b143",
   "metadata": {},
   "outputs": [],
   "source": [
    "import collections\n",
    "def fun3(nums):\n",
    "    freq =collections. Counter(nums)\n",
    "    max_length = 0\n",
    "\n",
    "    for key in freq:\n",
    "        if key + 1 in freq:\n",
    "            max_length = max(max_length, freq[key] + freq[key+1])\n",
    "\n",
    "    return max_length"
   ]
  },
  {
   "cell_type": "code",
   "execution_count": 10,
   "id": "c30c57b5",
   "metadata": {},
   "outputs": [
    {
     "data": {
      "text/plain": [
       "5"
      ]
     },
     "execution_count": 10,
     "metadata": {},
     "output_type": "execute_result"
    }
   ],
   "source": [
    "fun3([1,3,2,2,5,2,3,7])"
   ]
  },
  {
   "cell_type": "markdown",
   "id": "937bae76",
   "metadata": {},
   "source": [
    "# Question 4\n",
    "You have a long flowerbed in which some of the plots are planted, and some are not.\n",
    "However, flowers cannot be planted in adjacent plots.\n",
    "Given an integer array flowerbed containing 0's and 1's, where 0 means empty and 1 means not empty, and an integer n, return true if n new flowers can be planted in the flowerbed without violating the no-adjacent-flowers rule and false otherwise."
   ]
  },
  {
   "cell_type": "code",
   "execution_count": 18,
   "id": "e7f011ce",
   "metadata": {},
   "outputs": [],
   "source": [
    "def fun4(flowerbed, n):\n",
    "    count = 0\n",
    "    i = 0\n",
    "    while i < len(flowerbed):\n",
    "        if flowerbed[i] == 0 and (i == 0 or flowerbed[i-1] == 0) and (i == len(flowerbed)-1 or flowerbed[i+1] == 0):\n",
    "            flowerbed[i] = 1\n",
    "            count += 1\n",
    "        if count >= n:\n",
    "            return True\n",
    "        i += 1\n",
    "    return False"
   ]
  },
  {
   "cell_type": "code",
   "execution_count": 20,
   "id": "cbaf15bc",
   "metadata": {},
   "outputs": [
    {
     "data": {
      "text/plain": [
       "True"
      ]
     },
     "execution_count": 20,
     "metadata": {},
     "output_type": "execute_result"
    }
   ],
   "source": [
    "fun4([1,0,0,0,1], 1)"
   ]
  },
  {
   "cell_type": "markdown",
   "id": "16c8208e",
   "metadata": {},
   "source": [
    "# Question 5\n",
    "Given an integer array nums, find three numbers whose product is maximum and return the maximum product."
   ]
  },
  {
   "cell_type": "code",
   "execution_count": 21,
   "id": "6869c212",
   "metadata": {},
   "outputs": [],
   "source": [
    "def fun5(nums):\n",
    "    nums.sort()\n",
    "    l1 = nums[-1]*nums[-2]*nums[-3]\n",
    "    l2 = nums[0]*nums[1]*nums[-1]\n",
    "    return max(l1,l2)"
   ]
  },
  {
   "cell_type": "code",
   "execution_count": 22,
   "id": "b60a509a",
   "metadata": {},
   "outputs": [
    {
     "data": {
      "text/plain": [
       "6"
      ]
     },
     "execution_count": 22,
     "metadata": {},
     "output_type": "execute_result"
    }
   ],
   "source": [
    "fun5([1,2,3])"
   ]
  },
  {
   "cell_type": "markdown",
   "id": "b75f7e9d",
   "metadata": {},
   "source": [
    "# Question 6\n",
    "Given an array of integers nums which is sorted in ascending order, and an integer target,\n",
    "write a function to search target in nums. If target exists, then return its index. Otherwise,\n",
    "return -1."
   ]
  },
  {
   "cell_type": "code",
   "execution_count": 23,
   "id": "8a47013a",
   "metadata": {},
   "outputs": [],
   "source": [
    "def fun6(nums, target):\n",
    "    for i in range(len(nums)):\n",
    "        if nums[i]==target:\n",
    "            return i\n",
    "    return -1"
   ]
  },
  {
   "cell_type": "code",
   "execution_count": 24,
   "id": "14e17c74",
   "metadata": {},
   "outputs": [
    {
     "data": {
      "text/plain": [
       "4"
      ]
     },
     "execution_count": 24,
     "metadata": {},
     "output_type": "execute_result"
    }
   ],
   "source": [
    "fun6([-1,0,3,5,9,12], 9)"
   ]
  },
  {
   "cell_type": "markdown",
   "id": "9eace508",
   "metadata": {},
   "source": [
    "# Question 7\n",
    "An array is monotonic if it is either monotone increasing or monotone decreasing.\n",
    "\n",
    "An array nums is monotone increasing if for all i <= j, nums[i] <= nums[j]. An array nums is\n",
    "monotone decreasing if for all i <= j, nums[i] >= nums[j]."
   ]
  },
  {
   "cell_type": "code",
   "execution_count": 25,
   "id": "0c451225",
   "metadata": {},
   "outputs": [],
   "source": [
    "def fun1(nums):\n",
    "    return nums == sorted(nums) or nums == sorted(nums, reverse=True)"
   ]
  },
  {
   "cell_type": "code",
   "execution_count": 26,
   "id": "0c71ae3b",
   "metadata": {},
   "outputs": [
    {
     "data": {
      "text/plain": [
       "True"
      ]
     },
     "execution_count": 26,
     "metadata": {},
     "output_type": "execute_result"
    }
   ],
   "source": [
    "fun1([1,2,2,3])"
   ]
  },
  {
   "cell_type": "markdown",
   "id": "9c711767",
   "metadata": {},
   "source": [
    "# Question 8\n",
    "You are given an integer array nums and an integer k.\n",
    "\n",
    "In one operation, you can choose any index i where 0 <= i < nums.length and change nums[i] to nums[i] + x where x is an integer from the range [-k, k]. You can apply this operation at most once for each index i."
   ]
  },
  {
   "cell_type": "code",
   "execution_count": 27,
   "id": "a7ad1997",
   "metadata": {},
   "outputs": [],
   "source": [
    "def fun8(nums, k):\n",
    "    maxi = max(nums)\n",
    "    mini = min(nums)\n",
    "    return max(0, maxi-k-mini-k)"
   ]
  },
  {
   "cell_type": "code",
   "execution_count": 28,
   "id": "c5c1521d",
   "metadata": {},
   "outputs": [
    {
     "data": {
      "text/plain": [
       "0"
      ]
     },
     "execution_count": 28,
     "metadata": {},
     "output_type": "execute_result"
    }
   ],
   "source": [
    "fun8([1], 0)"
   ]
  },
  {
   "cell_type": "code",
   "execution_count": null,
   "id": "c2c9f3cd",
   "metadata": {},
   "outputs": [],
   "source": []
  }
 ],
 "metadata": {
  "kernelspec": {
   "display_name": "Python 3 (ipykernel)",
   "language": "python",
   "name": "python3"
  },
  "language_info": {
   "codemirror_mode": {
    "name": "ipython",
    "version": 3
   },
   "file_extension": ".py",
   "mimetype": "text/x-python",
   "name": "python",
   "nbconvert_exporter": "python",
   "pygments_lexer": "ipython3",
   "version": "3.8.10"
  }
 },
 "nbformat": 4,
 "nbformat_minor": 5
}
