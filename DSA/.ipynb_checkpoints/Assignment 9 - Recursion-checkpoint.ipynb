{
 "cells": [
  {
   "cell_type": "markdown",
   "id": "9b46614e",
   "metadata": {},
   "source": [
    "# Q1"
   ]
  },
  {
   "cell_type": "code",
   "execution_count": 1,
   "id": "660766da",
   "metadata": {},
   "outputs": [],
   "source": [
    "def isPowerOfTwo(n):\n",
    "    if n <= 0:\n",
    "        return False\n",
    "    return n & (n - 1) == 0"
   ]
  },
  {
   "cell_type": "code",
   "execution_count": 2,
   "id": "5c54edf2",
   "metadata": {},
   "outputs": [
    {
     "name": "stdout",
     "output_type": "stream",
     "text": [
      "True\n"
     ]
    }
   ],
   "source": [
    "n = 1\n",
    "is_power_of_two = isPowerOfTwo(n)\n",
    "print(is_power_of_two)"
   ]
  },
  {
   "cell_type": "code",
   "execution_count": 3,
   "id": "099cefa2",
   "metadata": {},
   "outputs": [
    {
     "name": "stdout",
     "output_type": "stream",
     "text": [
      "True\n"
     ]
    }
   ],
   "source": [
    "n = 1\n",
    "is_power_of_two = isPowerOfTwo(n)\n",
    "print(is_power_of_two)"
   ]
  },
  {
   "cell_type": "code",
   "execution_count": 4,
   "id": "fb493a1a",
   "metadata": {},
   "outputs": [
    {
     "name": "stdout",
     "output_type": "stream",
     "text": [
      "False\n"
     ]
    }
   ],
   "source": [
    "n = 3\n",
    "is_power_of_two = isPowerOfTwo(n)\n",
    "print(is_power_of_two)"
   ]
  },
  {
   "cell_type": "markdown",
   "id": "35bf479b",
   "metadata": {},
   "source": [
    "# Q2"
   ]
  },
  {
   "cell_type": "code",
   "execution_count": 5,
   "id": "7fc65a1c",
   "metadata": {},
   "outputs": [],
   "source": [
    "def sumOfFirstN(n):\n",
    "    return (n * (n + 1)) // 2"
   ]
  },
  {
   "cell_type": "code",
   "execution_count": 6,
   "id": "2c64e200",
   "metadata": {},
   "outputs": [
    {
     "name": "stdout",
     "output_type": "stream",
     "text": [
      "6\n"
     ]
    }
   ],
   "source": [
    "n = 3\n",
    "sum_of_first_n = sumOfFirstN(n)\n",
    "print(sum_of_first_n)"
   ]
  },
  {
   "cell_type": "markdown",
   "id": "9b7a6df2",
   "metadata": {},
   "source": [
    "# Q3"
   ]
  },
  {
   "cell_type": "code",
   "execution_count": 7,
   "id": "baf05f09",
   "metadata": {},
   "outputs": [],
   "source": [
    "def factorial(N):\n",
    "    if N == 0:\n",
    "        return 1\n",
    "    else:\n",
    "        return N * factorial(N - 1)"
   ]
  },
  {
   "cell_type": "code",
   "execution_count": 8,
   "id": "c051a19f",
   "metadata": {},
   "outputs": [
    {
     "name": "stdout",
     "output_type": "stream",
     "text": [
      "120\n"
     ]
    }
   ],
   "source": [
    "N = 5\n",
    "fact = factorial(N)\n",
    "print(fact)"
   ]
  },
  {
   "cell_type": "markdown",
   "id": "7794643c",
   "metadata": {},
   "source": [
    "# Q4"
   ]
  },
  {
   "cell_type": "code",
   "execution_count": 9,
   "id": "a9ce52f5",
   "metadata": {},
   "outputs": [],
   "source": [
    "def exponent(N, P):\n",
    "    return N ** P"
   ]
  },
  {
   "cell_type": "code",
   "execution_count": 10,
   "id": "beda9b6f",
   "metadata": {},
   "outputs": [
    {
     "name": "stdout",
     "output_type": "stream",
     "text": [
      "25\n"
     ]
    }
   ],
   "source": [
    "N = 5\n",
    "P = 2\n",
    "result = exponent(N, P)\n",
    "print(result)"
   ]
  },
  {
   "cell_type": "markdown",
   "id": "6f0855ec",
   "metadata": {},
   "source": [
    "# Q5"
   ]
  },
  {
   "cell_type": "code",
   "execution_count": 11,
   "id": "2b755afc",
   "metadata": {},
   "outputs": [],
   "source": [
    "def findMax(arr, n):\n",
    "    if n == 1:\n",
    "        return arr[0]\n",
    "\n",
    "    max1 = findMax(arr, n - 1)\n",
    "    max2 = arr[n - 1]\n",
    "\n",
    "    return max(max1, max2)\n"
   ]
  },
  {
   "cell_type": "code",
   "execution_count": 12,
   "id": "71fec20c",
   "metadata": {},
   "outputs": [
    {
     "name": "stdout",
     "output_type": "stream",
     "text": [
      "8\n"
     ]
    }
   ],
   "source": [
    "arr = [1, 4, 3, -5, -4, 8, 6]\n",
    "max_element = findMax(arr, len(arr))\n",
    "print(max_element)"
   ]
  },
  {
   "cell_type": "markdown",
   "id": "7d5492f1",
   "metadata": {},
   "source": [
    "# Q6"
   ]
  },
  {
   "cell_type": "code",
   "execution_count": 13,
   "id": "ef71b936",
   "metadata": {},
   "outputs": [],
   "source": [
    "def nthTermOfAP(a, d, n):\n",
    "    nth_term = a + (n - 1) * d\n",
    "    return nth_term"
   ]
  },
  {
   "cell_type": "code",
   "execution_count": 14,
   "id": "1e6d698e",
   "metadata": {},
   "outputs": [
    {
     "name": "stdout",
     "output_type": "stream",
     "text": [
      "6\n"
     ]
    }
   ],
   "source": [
    "a = 2\n",
    "d = 1\n",
    "n = 5\n",
    "nth_term = nthTermOfAP(a, d, n)\n",
    "print(nth_term)"
   ]
  },
  {
   "cell_type": "markdown",
   "id": "7d02399d",
   "metadata": {},
   "source": [
    "# Q8"
   ]
  },
  {
   "cell_type": "code",
   "execution_count": 15,
   "id": "c7421834",
   "metadata": {},
   "outputs": [],
   "source": [
    "def productOfArray(arr):\n",
    "    product = 1\n",
    "    for num in arr:\n",
    "        product *= num\n",
    "    return product"
   ]
  },
  {
   "cell_type": "code",
   "execution_count": 16,
   "id": "6b6d9078",
   "metadata": {},
   "outputs": [
    {
     "name": "stdout",
     "output_type": "stream",
     "text": [
      "120\n"
     ]
    }
   ],
   "source": [
    "arr = [1, 2, 3, 4, 5]\n",
    "product = productOfArray(arr)\n",
    "print(product)"
   ]
  },
  {
   "cell_type": "code",
   "execution_count": null,
   "id": "59d07af8",
   "metadata": {},
   "outputs": [],
   "source": []
  }
 ],
 "metadata": {
  "kernelspec": {
   "display_name": "Python 3 (ipykernel)",
   "language": "python",
   "name": "python3"
  },
  "language_info": {
   "codemirror_mode": {
    "name": "ipython",
    "version": 3
   },
   "file_extension": ".py",
   "mimetype": "text/x-python",
   "name": "python",
   "nbconvert_exporter": "python",
   "pygments_lexer": "ipython3",
   "version": "3.10.0"
  }
 },
 "nbformat": 4,
 "nbformat_minor": 5
}
