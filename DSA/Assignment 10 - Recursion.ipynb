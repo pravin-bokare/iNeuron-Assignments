{
 "cells": [
  {
   "cell_type": "markdown",
   "id": "7016172e",
   "metadata": {},
   "source": [
    "# Q1"
   ]
  },
  {
   "cell_type": "code",
   "execution_count": 1,
   "id": "ef1f0a8e",
   "metadata": {},
   "outputs": [],
   "source": [
    "import math\n",
    "\n",
    "def isPowerOfThree(n):\n",
    "    if n <= 0:\n",
    "        return False\n",
    "    power = round(math.log(n, 3))\n",
    "    return 3 ** power == n"
   ]
  },
  {
   "cell_type": "code",
   "execution_count": 2,
   "id": "300181b6",
   "metadata": {},
   "outputs": [
    {
     "name": "stdout",
     "output_type": "stream",
     "text": [
      "True\n"
     ]
    }
   ],
   "source": [
    "print(isPowerOfThree(9))"
   ]
  },
  {
   "cell_type": "markdown",
   "id": "a229c6a6",
   "metadata": {},
   "source": [
    "# Q2"
   ]
  },
  {
   "cell_type": "code",
   "execution_count": 3,
   "id": "4d202643",
   "metadata": {},
   "outputs": [],
   "source": [
    "def lastRemaining(n):\n",
    "    arr = list(range(1, n + 1))\n",
    "    left_to_right = True\n",
    "\n",
    "    while len(arr) > 1:\n",
    "        if left_to_right:\n",
    "            arr = arr[1::2] \n",
    "        else:\n",
    "            arr = arr[-2::-2] \n",
    "        left_to_right = not left_to_right\n",
    "\n",
    "    return arr[0]\n"
   ]
  },
  {
   "cell_type": "code",
   "execution_count": 4,
   "id": "bcb45210",
   "metadata": {},
   "outputs": [
    {
     "name": "stdout",
     "output_type": "stream",
     "text": [
      "2\n"
     ]
    }
   ],
   "source": [
    "print(lastRemaining(9))"
   ]
  },
  {
   "cell_type": "markdown",
   "id": "566fff63",
   "metadata": {},
   "source": [
    "# Q4"
   ]
  },
  {
   "cell_type": "code",
   "execution_count": 5,
   "id": "22be782e",
   "metadata": {},
   "outputs": [],
   "source": [
    "def stringLength(s):\n",
    "    if s == \"\":\n",
    "        return 0\n",
    "    return 1 + stringLength(s[1:])"
   ]
  },
  {
   "cell_type": "code",
   "execution_count": 6,
   "id": "51ea928d",
   "metadata": {},
   "outputs": [
    {
     "name": "stdout",
     "output_type": "stream",
     "text": [
      "4\n"
     ]
    }
   ],
   "source": [
    "s = \"abcd\"\n",
    "length = stringLength(s)\n",
    "print(length)"
   ]
  },
  {
   "cell_type": "markdown",
   "id": "a59135a2",
   "metadata": {},
   "source": [
    "# Q5"
   ]
  },
  {
   "cell_type": "code",
   "execution_count": 7,
   "id": "fe20871d",
   "metadata": {},
   "outputs": [],
   "source": [
    "def countSubstrings(S):\n",
    "    count = 0\n",
    "    for i in range(len(S)):\n",
    "        for j in range(i, len(S)):\n",
    "            if S[i] == S[j]:\n",
    "                count += 1\n",
    "    return count"
   ]
  },
  {
   "cell_type": "code",
   "execution_count": 8,
   "id": "9a561fa9",
   "metadata": {},
   "outputs": [
    {
     "name": "stdout",
     "output_type": "stream",
     "text": [
      "7\n"
     ]
    }
   ],
   "source": [
    "S = \"abcab\"\n",
    "count = countSubstrings(S)\n",
    "print(count)"
   ]
  },
  {
   "cell_type": "markdown",
   "id": "377f39f6",
   "metadata": {},
   "source": [
    "# Q8"
   ]
  },
  {
   "cell_type": "code",
   "execution_count": 9,
   "id": "296f1af6",
   "metadata": {},
   "outputs": [],
   "source": [
    "def countConsonants(string):\n",
    "    consonants = 'bcdfghjklmnpqrstvwxyzBCDFGHJKLMNPQRSTVWXYZ'\n",
    "    count = 0\n",
    "    for char in string:\n",
    "        if char in consonants:\n",
    "            count += 1\n",
    "    return count"
   ]
  },
  {
   "cell_type": "code",
   "execution_count": 10,
   "id": "5bbef53c",
   "metadata": {},
   "outputs": [
    {
     "name": "stdout",
     "output_type": "stream",
     "text": [
      "3\n"
     ]
    }
   ],
   "source": [
    "string = \"abc de\"\n",
    "count = countConsonants(string)\n",
    "print(count)"
   ]
  },
  {
   "cell_type": "code",
   "execution_count": null,
   "id": "7bae1825",
   "metadata": {},
   "outputs": [],
   "source": []
  }
 ],
 "metadata": {
  "kernelspec": {
   "display_name": "Python 3 (ipykernel)",
   "language": "python",
   "name": "python3"
  },
  "language_info": {
   "codemirror_mode": {
    "name": "ipython",
    "version": 3
   },
   "file_extension": ".py",
   "mimetype": "text/x-python",
   "name": "python",
   "nbconvert_exporter": "python",
   "pygments_lexer": "ipython3",
   "version": "3.10.0"
  }
 },
 "nbformat": 4,
 "nbformat_minor": 5
}
