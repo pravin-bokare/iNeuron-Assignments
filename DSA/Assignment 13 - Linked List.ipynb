{
 "cells": [
  {
   "cell_type": "markdown",
   "id": "1fdbdeda",
   "metadata": {},
   "source": [
    "# Q1"
   ]
  },
  {
   "cell_type": "code",
   "execution_count": 1,
   "id": "8ebb0934",
   "metadata": {},
   "outputs": [
    {
     "name": "stdout",
     "output_type": "stream",
     "text": [
      "5 2 3 8 1 7 4 5 "
     ]
    }
   ],
   "source": [
    "class ListNode:\n",
    "    def __init__(self, val=0, next=None):\n",
    "        self.val = val\n",
    "        self.next = next\n",
    "\n",
    "def createNewList(list1, list2):\n",
    "    head = None\n",
    "    current = None\n",
    "\n",
    "    while list1 is not None and list2 is not None:\n",
    "        if list1.val >= list2.val:\n",
    "            new_node = ListNode(list1.val)\n",
    "            list1 = list1.next\n",
    "        else:\n",
    "            new_node = ListNode(list2.val)\n",
    "            list2 = list2.next\n",
    "\n",
    "        if head is None:\n",
    "            head = new_node\n",
    "            current = head\n",
    "        else:\n",
    "            current.next = new_node\n",
    "            current = current.next\n",
    "\n",
    "   \n",
    "    if list1 is not None:\n",
    "        current.next = list1\n",
    "    if list2 is not None:\n",
    "        current.next = list2\n",
    "\n",
    "    return head\n",
    "\n",
    "# Create the first linked list: 5->2->3->8\n",
    "list1 = ListNode(5)\n",
    "list1.next = ListNode(2)\n",
    "list1.next.next = ListNode(3)\n",
    "list1.next.next.next = ListNode(8)\n",
    "\n",
    "# Create the second linked list: 1->7->4->5\n",
    "list2 = ListNode(1)\n",
    "list2.next = ListNode(7)\n",
    "list2.next.next = ListNode(4)\n",
    "list2.next.next.next = ListNode(5)\n",
    "\n",
    "new_list = createNewList(list1, list2)\n",
    "\n",
    "# Print the new linked list: 5->7->4->8\n",
    "current = new_list\n",
    "while current is not None:\n",
    "    print(current.val, end=\" \")\n",
    "    current = current.next\n"
   ]
  },
  {
   "cell_type": "markdown",
   "id": "9981c5c2",
   "metadata": {},
   "source": [
    "# Q5"
   ]
  },
  {
   "cell_type": "code",
   "execution_count": 2,
   "id": "bdc79d0f",
   "metadata": {},
   "outputs": [
    {
     "name": "stdout",
     "output_type": "stream",
     "text": [
      "1 2 3 5 10 "
     ]
    }
   ],
   "source": [
    "class ListNode:\n",
    "    def __init__(self, val=0, next=None):\n",
    "        self.val = val\n",
    "        self.next = next\n",
    "\n",
    "def deleteLastOccurrence(head, key):\n",
    "    # Edge case: Empty list\n",
    "    if head is None:\n",
    "        return None\n",
    "\n",
    "    last_occurrence = None\n",
    "    prev = None\n",
    "    current = head\n",
    "\n",
    "    while current is not None:\n",
    "        if current.val == key:\n",
    "            last_occurrence = current\n",
    "        current = current.next\n",
    "\n",
    "    # If last_occurrence is None, key is not present in the list\n",
    "    if last_occurrence is None:\n",
    "        return head\n",
    "\n",
    "    # If last_occurrence is the head node, update the head\n",
    "    if last_occurrence == head:\n",
    "        return head.next\n",
    "\n",
    "    current = head\n",
    "    while current.next != last_occurrence:\n",
    "        current = current.next\n",
    "\n",
    "    current.next = last_occurrence.next\n",
    "\n",
    "    return head\n",
    "\n",
    "# Create the linked list: 1->2->3->5->2->10\n",
    "head = ListNode(1)\n",
    "head.next = ListNode(2)\n",
    "head.next.next = ListNode(3)\n",
    "head.next.next.next = ListNode(5)\n",
    "head.next.next.next.next = ListNode(2)\n",
    "head.next.next.next.next.next = ListNode(10)\n",
    "\n",
    "key = 2\n",
    "\n",
    "new_head = deleteLastOccurrence(head, key)\n",
    "\n",
    "# Print the modified linked list: 1->2->3->5->10\n",
    "current = new_head\n",
    "while current is not None:\n",
    "    print(current.val, end=\" \")\n",
    "    current = current.next\n"
   ]
  },
  {
   "cell_type": "code",
   "execution_count": null,
   "id": "4a0433a3",
   "metadata": {},
   "outputs": [],
   "source": []
  }
 ],
 "metadata": {
  "kernelspec": {
   "display_name": "Python 3 (ipykernel)",
   "language": "python",
   "name": "python3"
  },
  "language_info": {
   "codemirror_mode": {
    "name": "ipython",
    "version": 3
   },
   "file_extension": ".py",
   "mimetype": "text/x-python",
   "name": "python",
   "nbconvert_exporter": "python",
   "pygments_lexer": "ipython3",
   "version": "3.10.0"
  }
 },
 "nbformat": 4,
 "nbformat_minor": 5
}
