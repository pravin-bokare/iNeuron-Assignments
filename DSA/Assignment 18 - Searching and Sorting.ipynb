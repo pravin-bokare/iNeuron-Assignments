{
 "cells": [
  {
   "cell_type": "markdown",
   "id": "01b353e2",
   "metadata": {},
   "source": [
    "# Q1"
   ]
  },
  {
   "cell_type": "code",
   "execution_count": 1,
   "id": "83b89655",
   "metadata": {},
   "outputs": [],
   "source": [
    "def merge_intervals(intervals):\n",
    "    if not intervals:\n",
    "        return []\n",
    "\n",
    "    intervals.sort(key=lambda x: x[0])\n",
    "    merged = [intervals[0]]\n",
    "\n",
    "    for interval in intervals[1:]:\n",
    "        if interval[0] <= merged[-1][1]:\n",
    "            merged[-1][1] = max(merged[-1][1], interval[1])\n",
    "        else:\n",
    "            merged.append(interval)\n",
    "\n",
    "    return merged\n"
   ]
  },
  {
   "cell_type": "code",
   "execution_count": 2,
   "id": "894b766e",
   "metadata": {},
   "outputs": [
    {
     "name": "stdout",
     "output_type": "stream",
     "text": [
      "[[1, 6], [8, 10], [15, 18]]\n"
     ]
    }
   ],
   "source": [
    "intervals = [[1, 3], [2, 6], [8, 10], [15, 18]]\n",
    "output = merge_intervals(intervals)\n",
    "print(output)"
   ]
  },
  {
   "cell_type": "markdown",
   "id": "4185bc11",
   "metadata": {},
   "source": [
    "# Q2"
   ]
  },
  {
   "cell_type": "code",
   "execution_count": 3,
   "id": "d49a29d2",
   "metadata": {},
   "outputs": [],
   "source": [
    "def sort_colors(nums):\n",
    "    red, white, blue = 0, 0, len(nums) - 1\n",
    "\n",
    "    while white <= blue:\n",
    "        if nums[white] == 0:\n",
    "            nums[red], nums[white] = nums[white], nums[red]\n",
    "            red += 1\n",
    "            white += 1\n",
    "        elif nums[white] == 1:\n",
    "            white += 1\n",
    "        else:\n",
    "\n",
    "            nums[white], nums[blue] = nums[blue], nums[white]\n",
    "            blue -= 1"
   ]
  },
  {
   "cell_type": "code",
   "execution_count": 4,
   "id": "1f8a7079",
   "metadata": {},
   "outputs": [
    {
     "name": "stdout",
     "output_type": "stream",
     "text": [
      "[0, 0, 1, 1, 2, 2]\n"
     ]
    }
   ],
   "source": [
    "nums = [2, 0, 2, 1, 1, 0]\n",
    "sort_colors(nums)\n",
    "print(nums)"
   ]
  },
  {
   "cell_type": "markdown",
   "id": "cd188735",
   "metadata": {},
   "source": [
    "# Q4"
   ]
  },
  {
   "cell_type": "code",
   "execution_count": 5,
   "id": "614e6835",
   "metadata": {},
   "outputs": [],
   "source": [
    "def maximum_gap(nums):\n",
    "    if len(nums) < 2:\n",
    "        return 0\n",
    "\n",
    "    max_num, min_num = max(nums), min(nums)\n",
    "    bucket_size = max(1, (max_num - min_num) // (len(nums) - 1))\n",
    "    bucket_count = (max_num - min_num) // bucket_size + 1\n",
    "\n",
    "    buckets = [[float('inf'), float('-inf')] for _ in range(bucket_count)]\n",
    "\n",
    "    for num in nums:\n",
    "        bucket_idx = (num - min_num) // bucket_size\n",
    "        buckets[bucket_idx][0] = min(buckets[bucket_idx][0], num)\n",
    "        buckets[bucket_idx][1] = max(buckets[bucket_idx][1], num)\n",
    "\n",
    "    max_gap = 0\n",
    "    prev_max = min_num\n",
    "\n",
    "    for bucket in buckets:\n",
    "        if bucket[0] != float('inf') and bucket[1] != float('-inf'):\n",
    "            max_gap = max(max_gap, bucket[0] - prev_max)\n",
    "            prev_max = bucket[1]\n",
    "\n",
    "    return max_gap"
   ]
  },
  {
   "cell_type": "code",
   "execution_count": 6,
   "id": "b3a01bb3",
   "metadata": {},
   "outputs": [
    {
     "name": "stdout",
     "output_type": "stream",
     "text": [
      "3\n"
     ]
    }
   ],
   "source": [
    "nums = [3, 6, 9, 1]\n",
    "output = maximum_gap(nums)\n",
    "print(output)"
   ]
  },
  {
   "cell_type": "markdown",
   "id": "a9d80ed2",
   "metadata": {},
   "source": [
    "# Q5"
   ]
  },
  {
   "cell_type": "code",
   "execution_count": 7,
   "id": "f7cebbc6",
   "metadata": {},
   "outputs": [],
   "source": [
    "def contains_duplicate(nums):\n",
    "    num_set = set()\n",
    "\n",
    "    for num in nums:\n",
    "        if num in num_set:\n",
    "            return True\n",
    "        num_set.add(num)\n",
    "\n",
    "    return False"
   ]
  },
  {
   "cell_type": "code",
   "execution_count": 8,
   "id": "c0de7a37",
   "metadata": {},
   "outputs": [
    {
     "name": "stdout",
     "output_type": "stream",
     "text": [
      "True\n"
     ]
    }
   ],
   "source": [
    "nums = [1, 2, 3, 1]\n",
    "output = contains_duplicate(nums)\n",
    "print(output)"
   ]
  },
  {
   "cell_type": "markdown",
   "id": "0c1b6545",
   "metadata": {},
   "source": [
    "# Q7"
   ]
  },
  {
   "cell_type": "code",
   "execution_count": 9,
   "id": "5a635cca",
   "metadata": {},
   "outputs": [],
   "source": [
    "def length_of_lis(nums):\n",
    "    if not nums:\n",
    "        return 0\n",
    "\n",
    "    n = len(nums)\n",
    "    dp = [1] * n\n",
    "\n",
    "    for i in range(1, n):\n",
    "        for j in range(i):\n",
    "            if nums[i] > nums[j]:\n",
    "                dp[i] = max(dp[i], dp[j] + 1)\n",
    "\n",
    "    return max(dp)"
   ]
  },
  {
   "cell_type": "code",
   "execution_count": 10,
   "id": "c3425d37",
   "metadata": {},
   "outputs": [
    {
     "name": "stdout",
     "output_type": "stream",
     "text": [
      "4\n"
     ]
    }
   ],
   "source": [
    "nums = [10, 9, 2, 5, 3, 7, 101, 18]\n",
    "output = length_of_lis(nums)\n",
    "print(output)"
   ]
  },
  {
   "cell_type": "code",
   "execution_count": null,
   "id": "ac60c39b",
   "metadata": {},
   "outputs": [],
   "source": []
  }
 ],
 "metadata": {
  "kernelspec": {
   "display_name": "Python 3 (ipykernel)",
   "language": "python",
   "name": "python3"
  },
  "language_info": {
   "codemirror_mode": {
    "name": "ipython",
    "version": 3
   },
   "file_extension": ".py",
   "mimetype": "text/x-python",
   "name": "python",
   "nbconvert_exporter": "python",
   "pygments_lexer": "ipython3",
   "version": "3.10.0"
  }
 },
 "nbformat": 4,
 "nbformat_minor": 5
}
