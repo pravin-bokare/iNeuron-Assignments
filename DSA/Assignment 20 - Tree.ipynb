{
 "cells": [
  {
   "cell_type": "markdown",
   "id": "c666fc4c",
   "metadata": {},
   "source": [
    "# Q1"
   ]
  },
  {
   "cell_type": "code",
   "execution_count": 4,
   "id": "8d410f3d",
   "metadata": {},
   "outputs": [],
   "source": [
    "class TreeNode:\n",
    "    def __init__(self, val=0, left=None, right=None):\n",
    "        self.val = val\n",
    "        self.left = left\n",
    "        self.right = right\n",
    "\n",
    "def find_subtree_max_sum(root):\n",
    "    def dfs(node):\n",
    "        nonlocal max_sum\n",
    "        if not node:\n",
    "            return 0\n",
    "\n",
    "        left_sum = dfs(node.left)\n",
    "        right_sum = dfs(node.right)\n",
    "        current_sum = node.val + left_sum + right_sum\n",
    "\n",
    "        max_sum = max(max_sum, current_sum)\n",
    "\n",
    "        return current_sum\n",
    "\n",
    "    max_sum = float('-inf')\n",
    "    dfs(root)\n",
    "\n",
    "    return max_sum"
   ]
  },
  {
   "cell_type": "code",
   "execution_count": 5,
   "id": "071b367e",
   "metadata": {},
   "outputs": [
    {
     "name": "stdout",
     "output_type": "stream",
     "text": [
      "28\n"
     ]
    }
   ],
   "source": [
    "root = TreeNode(1)\n",
    "root.left = TreeNode(2)\n",
    "root.right = TreeNode(3)\n",
    "root.left.left = TreeNode(4)\n",
    "root.left.right = TreeNode(5)\n",
    "root.right.left = TreeNode(6)\n",
    "root.right.right = TreeNode(7)\n",
    "\n",
    "result = find_subtree_max_sum(root)\n",
    "print(result)"
   ]
  },
  {
   "cell_type": "markdown",
   "id": "0e1e015e",
   "metadata": {},
   "source": [
    "# Q2"
   ]
  },
  {
   "cell_type": "code",
   "execution_count": 6,
   "id": "1192e16f",
   "metadata": {},
   "outputs": [],
   "source": [
    "class TreeNode:\n",
    "    def __init__(self, val=0, left=None, right=None):\n",
    "        self.val = val\n",
    "        self.left = left\n",
    "        self.right = right\n",
    "\n",
    "def insert_bst(root, val):\n",
    "    if not root:\n",
    "        return TreeNode(val)\n",
    "\n",
    "    if val < root.val:\n",
    "        root.left = insert_bst(root.left, val)\n",
    "    elif val > root.val:\n",
    "        root.right = insert_bst(root.right, val)\n",
    "\n",
    "    return root\n",
    "\n",
    "def construct_bst(level_order):\n",
    "    root = None\n",
    "    for val in level_order:\n",
    "        root = insert_bst(root, val)\n",
    "    return root\n",
    "\n",
    "def print_bst(root, level=0, prefix=\"BST:\"):\n",
    "    if root is not None:\n",
    "        print(\" \" * (level * 4) + prefix + str(root.val))\n",
    "        print_bst(root.left, level + 1, \"L---\")\n",
    "        print_bst(root.right, level + 1, \"R---\")\n"
   ]
  },
  {
   "cell_type": "code",
   "execution_count": 7,
   "id": "33492a17",
   "metadata": {},
   "outputs": [
    {
     "name": "stdout",
     "output_type": "stream",
     "text": [
      "BST:7\n",
      "    L---4\n",
      "        L---3\n",
      "            L---1\n",
      "        R---6\n",
      "            L---5\n",
      "    R---12\n",
      "        L---8\n",
      "            R---10\n"
     ]
    }
   ],
   "source": [
    "level_order = [7, 4, 12, 3, 6, 8, 1, 5, 10]\n",
    "bst_root = construct_bst(level_order)\n",
    "print_bst(bst_root)"
   ]
  },
  {
   "cell_type": "markdown",
   "id": "995422dc",
   "metadata": {},
   "source": [
    "# Q3"
   ]
  },
  {
   "cell_type": "code",
   "execution_count": 8,
   "id": "c64bbf9f",
   "metadata": {},
   "outputs": [],
   "source": [
    "class TreeNode:\n",
    "    def __init__(self, val=0, left=None, right=None):\n",
    "        self.val = val\n",
    "        self.left = left\n",
    "        self.right = right\n",
    "\n",
    "def can_represent_bst(level_order):\n",
    "    if not level_order:\n",
    "        return \"No\"  # Empty array cannot represent a BST\n",
    "\n",
    "    root = TreeNode(level_order[0])\n",
    "    queue = [root]\n",
    "    i = 1\n",
    "\n",
    "    while i < len(level_order):\n",
    "        current_node = queue.pop(0)\n",
    "\n",
    "        # Left child\n",
    "        if i < len(level_order) and level_order[i] < current_node.val:\n",
    "            current_node.left = TreeNode(level_order[i])\n",
    "            queue.append(current_node.left)\n",
    "            i += 1\n",
    "\n",
    "        # Right child\n",
    "        if i < len(level_order) and level_order[i] > current_node.val:\n",
    "            current_node.right = TreeNode(level_order[i])\n",
    "            queue.append(current_node.right)\n",
    "            i += 1\n",
    "\n",
    "    return \"Yes\"\n"
   ]
  },
  {
   "cell_type": "code",
   "execution_count": 9,
   "id": "e5818ad3",
   "metadata": {},
   "outputs": [
    {
     "name": "stdout",
     "output_type": "stream",
     "text": [
      "Yes\n"
     ]
    }
   ],
   "source": [
    "level_order = [7, 4, 12, 3, 6, 8, 1, 5, 10]\n",
    "print(can_represent_bst(level_order))"
   ]
  },
  {
   "cell_type": "code",
   "execution_count": null,
   "id": "61cbbd79",
   "metadata": {},
   "outputs": [],
   "source": []
  }
 ],
 "metadata": {
  "kernelspec": {
   "display_name": "Python 3 (ipykernel)",
   "language": "python",
   "name": "python3"
  },
  "language_info": {
   "codemirror_mode": {
    "name": "ipython",
    "version": 3
   },
   "file_extension": ".py",
   "mimetype": "text/x-python",
   "name": "python",
   "nbconvert_exporter": "python",
   "pygments_lexer": "ipython3",
   "version": "3.10.0"
  }
 },
 "nbformat": 4,
 "nbformat_minor": 5
}
