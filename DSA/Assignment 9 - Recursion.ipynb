{
 "cells": [
  {
   "cell_type": "markdown",
   "id": "15a79c50",
   "metadata": {},
   "source": [
    "# Q1"
   ]
  },
  {
   "cell_type": "code",
   "execution_count": 1,
   "id": "fe863ed1",
   "metadata": {},
   "outputs": [],
   "source": [
    "def isPowerOfTwo(n):\n",
    "    if n <= 0:\n",
    "        return False\n",
    "    return n & (n - 1) == 0"
   ]
  },
  {
   "cell_type": "code",
   "execution_count": 2,
   "id": "e47489ab",
   "metadata": {},
   "outputs": [
    {
     "name": "stdout",
     "output_type": "stream",
     "text": [
      "True\n"
     ]
    }
   ],
   "source": [
    "n = 1\n",
    "is_power_of_two = isPowerOfTwo(n)\n",
    "print(is_power_of_two)"
   ]
  },
  {
   "cell_type": "code",
   "execution_count": 3,
   "id": "4bb92947",
   "metadata": {},
   "outputs": [
    {
     "name": "stdout",
     "output_type": "stream",
     "text": [
      "True\n"
     ]
    }
   ],
   "source": [
    "n = 1\n",
    "is_power_of_two = isPowerOfTwo(n)\n",
    "print(is_power_of_two)"
   ]
  },
  {
   "cell_type": "code",
   "execution_count": 4,
   "id": "3be6775b",
   "metadata": {},
   "outputs": [
    {
     "name": "stdout",
     "output_type": "stream",
     "text": [
      "False\n"
     ]
    }
   ],
   "source": [
    "n = 3\n",
    "is_power_of_two = isPowerOfTwo(n)\n",
    "print(is_power_of_two)"
   ]
  },
  {
   "cell_type": "markdown",
   "id": "12c54fba",
   "metadata": {},
   "source": [
    "# Q2"
   ]
  },
  {
   "cell_type": "code",
   "execution_count": 5,
   "id": "c28daf21",
   "metadata": {},
   "outputs": [],
   "source": [
    "def sumOfFirstN(n):\n",
    "    return (n * (n + 1)) // 2"
   ]
  },
  {
   "cell_type": "code",
   "execution_count": 6,
   "id": "5b919374",
   "metadata": {},
   "outputs": [
    {
     "name": "stdout",
     "output_type": "stream",
     "text": [
      "6\n"
     ]
    }
   ],
   "source": [
    "n = 3\n",
    "sum_of_first_n = sumOfFirstN(n)\n",
    "print(sum_of_first_n)"
   ]
  },
  {
   "cell_type": "markdown",
   "id": "d51196eb",
   "metadata": {},
   "source": [
    "# Q3"
   ]
  },
  {
   "cell_type": "code",
   "execution_count": 7,
   "id": "5da5896a",
   "metadata": {},
   "outputs": [],
   "source": [
    "def factorial(N):\n",
    "    if N == 0:\n",
    "        return 1\n",
    "    else:\n",
    "        return N * factorial(N - 1)"
   ]
  },
  {
   "cell_type": "code",
   "execution_count": 8,
   "id": "284afc23",
   "metadata": {},
   "outputs": [
    {
     "name": "stdout",
     "output_type": "stream",
     "text": [
      "120\n"
     ]
    }
   ],
   "source": [
    "N = 5\n",
    "fact = factorial(N)\n",
    "print(fact)"
   ]
  },
  {
   "cell_type": "markdown",
   "id": "8b08603a",
   "metadata": {},
   "source": [
    "# Q4"
   ]
  },
  {
   "cell_type": "code",
   "execution_count": 9,
   "id": "dd7dfb5b",
   "metadata": {},
   "outputs": [],
   "source": [
    "def exponent(N, P):\n",
    "    return N ** P"
   ]
  },
  {
   "cell_type": "code",
   "execution_count": 10,
   "id": "1561557a",
   "metadata": {},
   "outputs": [
    {
     "name": "stdout",
     "output_type": "stream",
     "text": [
      "25\n"
     ]
    }
   ],
   "source": [
    "N = 5\n",
    "P = 2\n",
    "result = exponent(N, P)\n",
    "print(result)"
   ]
  },
  {
   "cell_type": "markdown",
   "id": "0aa1a464",
   "metadata": {},
   "source": [
    "# Q5"
   ]
  },
  {
   "cell_type": "code",
   "execution_count": 11,
   "id": "635cd40b",
   "metadata": {},
   "outputs": [],
   "source": [
    "def findMax(arr, n):\n",
    "    if n == 1:\n",
    "        return arr[0]\n",
    "\n",
    "    max1 = findMax(arr, n - 1)\n",
    "    max2 = arr[n - 1]\n",
    "\n",
    "    return max(max1, max2)\n"
   ]
  },
  {
   "cell_type": "code",
   "execution_count": 12,
   "id": "27a9240f",
   "metadata": {},
   "outputs": [
    {
     "name": "stdout",
     "output_type": "stream",
     "text": [
      "8\n"
     ]
    }
   ],
   "source": [
    "arr = [1, 4, 3, -5, -4, 8, 6]\n",
    "max_element = findMax(arr, len(arr))\n",
    "print(max_element)"
   ]
  },
  {
   "cell_type": "markdown",
   "id": "520eaa95",
   "metadata": {},
   "source": [
    "# Q6"
   ]
  },
  {
   "cell_type": "code",
   "execution_count": 13,
   "id": "b4821846",
   "metadata": {},
   "outputs": [],
   "source": [
    "def nthTermOfAP(a, d, n):\n",
    "    nth_term = a + (n - 1) * d\n",
    "    return nth_term"
   ]
  },
  {
   "cell_type": "code",
   "execution_count": 14,
   "id": "caae4f3a",
   "metadata": {},
   "outputs": [
    {
     "name": "stdout",
     "output_type": "stream",
     "text": [
      "6\n"
     ]
    }
   ],
   "source": [
    "a = 2\n",
    "d = 1\n",
    "n = 5\n",
    "nth_term = nthTermOfAP(a, d, n)\n",
    "print(nth_term)"
   ]
  },
  {
   "cell_type": "markdown",
   "id": "f72b7dcd",
   "metadata": {},
   "source": [
    "# Q8"
   ]
  },
  {
   "cell_type": "code",
   "execution_count": 15,
   "id": "10c831ac",
   "metadata": {},
   "outputs": [],
   "source": [
    "def productOfArray(arr):\n",
    "    product = 1\n",
    "    for num in arr:\n",
    "        product *= num\n",
    "    return product"
   ]
  },
  {
   "cell_type": "code",
   "execution_count": 16,
   "id": "b66d954c",
   "metadata": {},
   "outputs": [
    {
     "name": "stdout",
     "output_type": "stream",
     "text": [
      "120\n"
     ]
    }
   ],
   "source": [
    "arr = [1, 2, 3, 4, 5]\n",
    "product = productOfArray(arr)\n",
    "print(product)"
   ]
  },
  {
   "cell_type": "code",
   "execution_count": null,
   "id": "9e30213a",
   "metadata": {},
   "outputs": [],
   "source": []
  }
 ],
 "metadata": {
  "kernelspec": {
   "display_name": "Python 3 (ipykernel)",
   "language": "python",
   "name": "python3"
  },
  "language_info": {
   "codemirror_mode": {
    "name": "ipython",
    "version": 3
   },
   "file_extension": ".py",
   "mimetype": "text/x-python",
   "name": "python",
   "nbconvert_exporter": "python",
   "pygments_lexer": "ipython3",
   "version": "3.10.0"
  }
 },
 "nbformat": 4,
 "nbformat_minor": 5
}
