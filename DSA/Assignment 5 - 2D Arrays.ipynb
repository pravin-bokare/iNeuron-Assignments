{
 "cells": [
  {
   "cell_type": "markdown",
   "id": "2b0de991",
   "metadata": {},
   "source": [
    "# Q1"
   ]
  },
  {
   "cell_type": "code",
   "execution_count": 1,
   "id": "f1f45771",
   "metadata": {},
   "outputs": [],
   "source": [
    "def construct2DArray(original, m, n):\n",
    "    if len(original) != m * n:\n",
    "        return []\n",
    "\n",
    "    result = [[0] * n for _ in range(m)]\n",
    "    index = 0\n",
    "\n",
    "    for i in range(m):\n",
    "        for j in range(n):\n",
    "            result[i][j] = original[index]\n",
    "            index += 1\n",
    "\n",
    "    return result"
   ]
  },
  {
   "cell_type": "code",
   "execution_count": 2,
   "id": "0453efa9",
   "metadata": {},
   "outputs": [
    {
     "name": "stdout",
     "output_type": "stream",
     "text": [
      "[[1, 2], [3, 4]]\n"
     ]
    }
   ],
   "source": [
    "original = [1, 2, 3, 4]\n",
    "m = 2\n",
    "n = 2\n",
    "result = construct2DArray(original, m, n)\n",
    "print(result)"
   ]
  },
  {
   "cell_type": "markdown",
   "id": "7785b743",
   "metadata": {},
   "source": [
    "# Q2"
   ]
  },
  {
   "cell_type": "code",
   "execution_count": 3,
   "id": "48c54b10",
   "metadata": {},
   "outputs": [],
   "source": [
    "def arrangeCoins(n):\n",
    "    complete_rows = int(((8 * n + 1) ** 0.5 - 1) / 2)\n",
    "    return complete_rows"
   ]
  },
  {
   "cell_type": "code",
   "execution_count": 4,
   "id": "714a3cfd",
   "metadata": {},
   "outputs": [
    {
     "name": "stdout",
     "output_type": "stream",
     "text": [
      "2\n"
     ]
    }
   ],
   "source": [
    "n = 5\n",
    "complete_rows = arrangeCoins(n)\n",
    "print(complete_rows)"
   ]
  },
  {
   "cell_type": "markdown",
   "id": "fe6f9168",
   "metadata": {},
   "source": [
    "# Q3"
   ]
  },
  {
   "cell_type": "code",
   "execution_count": 5,
   "id": "7c5fee62",
   "metadata": {},
   "outputs": [],
   "source": [
    "def sortedSquares(nums):\n",
    "    squares = [num ** 2 for num in nums]\n",
    "    sorted_squares = sorted(squares)\n",
    "    return sorted_squares"
   ]
  },
  {
   "cell_type": "code",
   "execution_count": 6,
   "id": "8aa0e344",
   "metadata": {},
   "outputs": [
    {
     "name": "stdout",
     "output_type": "stream",
     "text": [
      "[0, 1, 9, 16, 100]\n"
     ]
    }
   ],
   "source": [
    "nums = [-4, -1, 0, 3, 10]\n",
    "squared_nums = sortedSquares(nums)\n",
    "print(squared_nums)"
   ]
  },
  {
   "cell_type": "markdown",
   "id": "bc26da7e",
   "metadata": {},
   "source": [
    "# Q6"
   ]
  },
  {
   "cell_type": "code",
   "execution_count": 7,
   "id": "9fc7ac6c",
   "metadata": {},
   "outputs": [],
   "source": [
    "def findDuplicates(nums):\n",
    "    duplicates = []\n",
    "\n",
    "    for num in nums:\n",
    "        index = abs(num) - 1\n",
    "        if nums[index] < 0:\n",
    "            duplicates.append(index + 1)\n",
    "        else:\n",
    "            nums[index] *= -1\n",
    "\n",
    "    return duplicates"
   ]
  },
  {
   "cell_type": "code",
   "execution_count": 8,
   "id": "226f81f2",
   "metadata": {},
   "outputs": [
    {
     "name": "stdout",
     "output_type": "stream",
     "text": [
      "[2, 3]\n"
     ]
    }
   ],
   "source": [
    "nums = [4, 3, 2, 7, 8, 2, 3, 1]\n",
    "duplicates = findDuplicates(nums)\n",
    "print(duplicates)"
   ]
  },
  {
   "cell_type": "markdown",
   "id": "5969ed1e",
   "metadata": {},
   "source": [
    "# Q8"
   ]
  },
  {
   "cell_type": "code",
   "execution_count": 10,
   "id": "2fa2b915",
   "metadata": {},
   "outputs": [],
   "source": [
    "def findOriginalArray(changed):\n",
    "    if len(changed) % 2 != 0:\n",
    "        return []\n",
    "\n",
    "    count = {}\n",
    "    for num in changed:\n",
    "        count[num] = count.get(num, 0) + 1\n",
    "\n",
    "    original = []\n",
    "    for num in sorted(changed):\n",
    "        if count.get(num, 0) == 0:\n",
    "            continue\n",
    "        if count.get(2 * num, 0) == 0:\n",
    "            return []\n",
    "        original.append(num)\n",
    "        count[num] -= 1\n",
    "        count[2 * num] -= 1\n",
    "\n",
    "    return original"
   ]
  },
  {
   "cell_type": "code",
   "execution_count": 11,
   "id": "1b34a8eb",
   "metadata": {},
   "outputs": [
    {
     "name": "stdout",
     "output_type": "stream",
     "text": [
      "[1, 3, 4]\n"
     ]
    }
   ],
   "source": [
    "changed = [1, 3, 4, 2, 6, 8]\n",
    "original = findOriginalArray(changed)\n",
    "print(original)"
   ]
  },
  {
   "cell_type": "code",
   "execution_count": null,
   "id": "bdc95045",
   "metadata": {},
   "outputs": [],
   "source": []
  }
 ],
 "metadata": {
  "kernelspec": {
   "display_name": "Python 3 (ipykernel)",
   "language": "python",
   "name": "python3"
  },
  "language_info": {
   "codemirror_mode": {
    "name": "ipython",
    "version": 3
   },
   "file_extension": ".py",
   "mimetype": "text/x-python",
   "name": "python",
   "nbconvert_exporter": "python",
   "pygments_lexer": "ipython3",
   "version": "3.10.0"
  }
 },
 "nbformat": 4,
 "nbformat_minor": 5
}
