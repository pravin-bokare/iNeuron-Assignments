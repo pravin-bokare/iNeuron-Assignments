{
 "cells": [
  {
   "cell_type": "markdown",
   "id": "5fa8ce7c",
   "metadata": {},
   "source": [
    "# Q1"
   ]
  },
  {
   "cell_type": "code",
   "execution_count": 1,
   "id": "d85b4634",
   "metadata": {},
   "outputs": [
    {
     "name": "stdout",
     "output_type": "stream",
     "text": [
      "5\n",
      "40\n"
     ]
    },
    {
     "data": {
      "text/plain": [
       "40"
      ]
     },
     "execution_count": 1,
     "metadata": {},
     "output_type": "execute_result"
    }
   ],
   "source": [
    "def lcm(x, y):\n",
    "    if x > y:\n",
    "        greater = x\n",
    "    else:\n",
    "        greater = y\n",
    "\n",
    "    while(True):\n",
    "        if((greater % x == 0) and (greater % y == 0)):\n",
    "            lcm = greater\n",
    "            break\n",
    "        greater += 1\n",
    "\n",
    "    return lcm\n",
    "\n",
    "x = int(input())\n",
    "y =int(input())\n",
    "lcm(x,y)"
   ]
  },
  {
   "cell_type": "markdown",
   "id": "4d583b43",
   "metadata": {},
   "source": [
    "# Q2"
   ]
  },
  {
   "cell_type": "code",
   "execution_count": 2,
   "id": "5f7aaa5a",
   "metadata": {},
   "outputs": [
    {
     "name": "stdout",
     "output_type": "stream",
     "text": [
      "20\n",
      "5\n"
     ]
    },
    {
     "data": {
      "text/plain": [
       "5"
      ]
     },
     "execution_count": 2,
     "metadata": {},
     "output_type": "execute_result"
    }
   ],
   "source": [
    "def hcf(X,y):\n",
    "    if x > y:\n",
    "        smaller = y\n",
    "    else:\n",
    "        smaller = x\n",
    "    for i in range(1, smaller+1):\n",
    "        if((x % i == 0) and (y % i == 0)):\n",
    "            hcf = i \n",
    "    return hcf\n",
    "\n",
    "x = int(input())\n",
    "y =int(input())\n",
    "hcf(x,y)"
   ]
  },
  {
   "cell_type": "markdown",
   "id": "843f6a45",
   "metadata": {},
   "source": [
    "# Q3"
   ]
  },
  {
   "cell_type": "code",
   "execution_count": 3,
   "id": "826380c2",
   "metadata": {},
   "outputs": [
    {
     "name": "stdout",
     "output_type": "stream",
     "text": [
      "60\n",
      "Binary  0b111100\n",
      "Octal  0o74\n",
      "Hexadecimal  0x3c\n"
     ]
    }
   ],
   "source": [
    "a = int(input())\n",
    "print('Binary ',bin(a))\n",
    "print('Octal ',oct(a))\n",
    "print('Hexadecimal ',hex(a))"
   ]
  },
  {
   "cell_type": "markdown",
   "id": "86748240",
   "metadata": {},
   "source": [
    "# Q4"
   ]
  },
  {
   "cell_type": "code",
   "execution_count": 4,
   "id": "a3f1b06d",
   "metadata": {},
   "outputs": [
    {
     "name": "stdout",
     "output_type": "stream",
     "text": [
      "Enter a Characterb\n",
      "98\n"
     ]
    }
   ],
   "source": [
    "a = input(\"Enter a Character \")\n",
    "print(ord(a))\n"
   ]
  },
  {
   "cell_type": "markdown",
   "id": "c140fb38",
   "metadata": {},
   "source": [
    "# Q5"
   ]
  },
  {
   "cell_type": "code",
   "execution_count": 7,
   "id": "1cb3dac9",
   "metadata": {},
   "outputs": [
    {
     "name": "stdout",
     "output_type": "stream",
     "text": [
      "5\n",
      "2\n",
      "Add 7\n",
      "Sub 3\n",
      "Mul 10\n",
      "Div 2.5\n"
     ]
    }
   ],
   "source": [
    "def add(a, b):\n",
    "    return a+b\n",
    "\n",
    "def sub(a, b):\n",
    "    return a-b\n",
    "\n",
    "def mul(a, b):\n",
    "    return a*b\n",
    "\n",
    "def div(a, b):\n",
    "    return a/b\n",
    "\n",
    "a = int(input())\n",
    "b = int(input())\n",
    "print(\"Add\", add(a, b))\n",
    "print(\"Sub\", sub(a, b))\n",
    "print(\"Mul\", mul(a, b))\n",
    "print(\"Div\", div(a, b))"
   ]
  },
  {
   "cell_type": "code",
   "execution_count": null,
   "id": "072ec9de",
   "metadata": {},
   "outputs": [],
   "source": []
  }
 ],
 "metadata": {
  "kernelspec": {
   "display_name": "Python 3 (ipykernel)",
   "language": "python",
   "name": "python3"
  },
  "language_info": {
   "codemirror_mode": {
    "name": "ipython",
    "version": 3
   },
   "file_extension": ".py",
   "mimetype": "text/x-python",
   "name": "python",
   "nbconvert_exporter": "python",
   "pygments_lexer": "ipython3",
   "version": "3.10.7"
  }
 },
 "nbformat": 4,
 "nbformat_minor": 5
}
