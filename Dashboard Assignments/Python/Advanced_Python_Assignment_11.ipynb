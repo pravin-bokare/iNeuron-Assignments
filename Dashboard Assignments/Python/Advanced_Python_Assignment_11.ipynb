{
 "cells": [
  {
   "cell_type": "markdown",
   "id": "862ac34f",
   "metadata": {},
   "source": [
    "# Q1"
   ]
  },
  {
   "cell_type": "raw",
   "id": "fe7bc5fd",
   "metadata": {},
   "source": [
    "Metaclass in Python is a class of a class that defines how a class behaves. A class is itself a instance of Metaclass, and any Instance of Class in Python is an Instance of type metaclass. E.g. Type of of int, str, float, list, tuple and many more is of metaclass type."
   ]
  },
  {
   "cell_type": "markdown",
   "id": "b409a003",
   "metadata": {},
   "source": [
    "# Q2"
   ]
  },
  {
   "cell_type": "markdown",
   "id": "2c12476c",
   "metadata": {},
   "source": [
    "A way to declare a class’ metaclass is by using metaclass keyword in class definition."
   ]
  },
  {
   "cell_type": "markdown",
   "id": "7db30bfd",
   "metadata": {},
   "source": [
    "# Q3"
   ]
  },
  {
   "cell_type": "markdown",
   "id": "ad415626",
   "metadata": {},
   "source": [
    "Anything you can do with a class decorator, you can of course do with a custom metaclasses (just apply the functionality of the \"decorator function\", i.e., the one that takes a class object and modifies it, in the course of the metaclass's __new__ or __init__ that make the class object!)."
   ]
  },
  {
   "cell_type": "markdown",
   "id": "ca5c5f46",
   "metadata": {},
   "source": [
    "# Q4"
   ]
  },
  {
   "cell_type": "markdown",
   "id": "3f8820fa",
   "metadata": {},
   "source": [
    "Anything you can do with a class decorator, you can of course do with a custom metaclass (just apply the functionality of the \"decorator function\", i.e., the one that takes a class object and modifies it, in the course of the metaclass's __new__ or __init__ that make the class object!)."
   ]
  },
  {
   "cell_type": "code",
   "execution_count": null,
   "id": "3d93db84",
   "metadata": {},
   "outputs": [],
   "source": []
  }
 ],
 "metadata": {
  "kernelspec": {
   "display_name": "Python 3 (ipykernel)",
   "language": "python",
   "name": "python3"
  },
  "language_info": {
   "codemirror_mode": {
    "name": "ipython",
    "version": 3
   },
   "file_extension": ".py",
   "mimetype": "text/x-python",
   "name": "python",
   "nbconvert_exporter": "python",
   "pygments_lexer": "ipython3",
   "version": "3.7.9"
  }
 },
 "nbformat": 4,
 "nbformat_minor": 5
}
