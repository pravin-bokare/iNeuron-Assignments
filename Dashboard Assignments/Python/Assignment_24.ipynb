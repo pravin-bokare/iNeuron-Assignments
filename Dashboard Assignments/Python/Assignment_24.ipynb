{
 "cells": [
  {
   "cell_type": "markdown",
   "id": "5a0f1f2a",
   "metadata": {},
   "source": [
    "# Q1"
   ]
  },
  {
   "cell_type": "markdown",
   "id": "921b16ba",
   "metadata": {},
   "source": [
    "def statement is used to create a normal function. where as lamba expressions are used to create Anonymous functions. which can be assigned to a variable and can be called using the variable later in function.\n",
    "\n",
    "Lambda's body is a single expression and not a block of statements like def statement. The lambda expression's body is similar to what we'd put in a def body's return statement. We simply type the result as an expression instead of explicitly returning it. Because it is limited to an expression, a lambda is less general than a def statement."
   ]
  },
  {
   "cell_type": "markdown",
   "id": "022fd95a",
   "metadata": {},
   "source": [
    "# Q2"
   ]
  },
  {
   "cell_type": "markdown",
   "id": "4ced0212",
   "metadata": {},
   "source": [
    "Can be used to create Nameless/Anonymous functions inside some complex functions if we are planning to use it only once.\n",
    "\n",
    "Moderate to small functions can be created in a single line\n",
    "\n",
    "Fuctions created using lambda expressions can be assigned to a variable and can be used by simply calling the variable"
   ]
  },
  {
   "cell_type": "markdown",
   "id": "7d4ea132",
   "metadata": {},
   "source": [
    "# Q3"
   ]
  },
  {
   "cell_type": "markdown",
   "id": "5df1b38d",
   "metadata": {},
   "source": [
    "map(): The map() function is a type of higher-order. This function takes another function as a parameter\n",
    "\n",
    "along with a sequence of iterables and returns an output after applying the function to each iterable present in the sequence. \n",
    "\n",
    "filter(): The filter() function is used to create an output list consisting of values for which the function returns true. \n",
    "\n",
    "reduce(): The reduce() function, as the name describes, applies a given function to the iterables and returns a single value"
   ]
  },
  {
   "cell_type": "markdown",
   "id": "70763fa1",
   "metadata": {},
   "source": [
    "# Q4"
   ]
  },
  {
   "cell_type": "markdown",
   "id": "264041e6",
   "metadata": {},
   "source": [
    "Function annotations provide a way of associating various parts of a function with arbitrary pythoncexpressions at compile time.\n",
    "Annotations of simple parameters def func(x: expression, y: expression = 20):\n",
    "Whereas the annotations for excess parameters are as − def func (**args: expression, **kwargs: expression):"
   ]
  },
  {
   "cell_type": "markdown",
   "id": "a96ef10d",
   "metadata": {},
   "source": [
    "# Q5"
   ]
  },
  {
   "cell_type": "markdown",
   "id": "8f0e4e0e",
   "metadata": {},
   "source": [
    "A recursive function is a function that calls itself during its execution. The process may repeat several times, outputting the result and the end of each iteration."
   ]
  },
  {
   "cell_type": "markdown",
   "id": "b464fdfe",
   "metadata": {},
   "source": [
    "# Q6"
   ]
  },
  {
   "cell_type": "markdown",
   "id": "cc31d36f",
   "metadata": {},
   "source": [
    "Always use a docstring to explain the functionality of the function\n",
    "\n",
    "avoid using or limited use of global variables\n",
    "\n",
    "Proper Identation to increase the code readability\n",
    "\n",
    "try to follow a naming convention for function names (pascalCase or camelCase) and stick with the same convention throughout the application."
   ]
  },
  {
   "cell_type": "markdown",
   "id": "3d642122",
   "metadata": {},
   "source": [
    "# Q7"
   ]
  },
  {
   "cell_type": "markdown",
   "id": "7fd14d09",
   "metadata": {},
   "source": [
    "print\n",
    "return\n",
    "yield"
   ]
  },
  {
   "cell_type": "code",
   "execution_count": null,
   "id": "aea86946",
   "metadata": {},
   "outputs": [],
   "source": []
  }
 ],
 "metadata": {
  "kernelspec": {
   "display_name": "Python 3 (ipykernel)",
   "language": "python",
   "name": "python3"
  },
  "language_info": {
   "codemirror_mode": {
    "name": "ipython",
    "version": 3
   },
   "file_extension": ".py",
   "mimetype": "text/x-python",
   "name": "python",
   "nbconvert_exporter": "python",
   "pygments_lexer": "ipython3",
   "version": "3.7.9"
  }
 },
 "nbformat": 4,
 "nbformat_minor": 5
}
