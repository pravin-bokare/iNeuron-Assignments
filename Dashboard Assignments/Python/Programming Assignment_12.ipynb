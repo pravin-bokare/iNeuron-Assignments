{
 "cells": [
  {
   "cell_type": "markdown",
   "id": "ca38619f",
   "metadata": {},
   "source": [
    "# Q1"
   ]
  },
  {
   "cell_type": "code",
   "execution_count": 1,
   "id": "67e03fcf",
   "metadata": {},
   "outputs": [
    {
     "data": {
      "text/plain": [
       "[1, 2, 3, 4, 5, 6, 7, 8, 10, 12]"
      ]
     },
     "execution_count": 1,
     "metadata": {},
     "output_type": "execute_result"
    }
   ],
   "source": [
    "dict = {'A' : [1, 3, 5, 4],\n",
    "             'B' : [4, 6, 8, 10],\n",
    "             'C' : [6, 12, 4 ,8],\n",
    "             'D' : [5, 7, 2]}\n",
    "\n",
    "res = list(sorted({ele for val in dict.values() for ele in val}))\n",
    "res"
   ]
  },
  {
   "cell_type": "markdown",
   "id": "ea1e8af8",
   "metadata": {},
   "source": [
    "# Q2"
   ]
  },
  {
   "cell_type": "code",
   "execution_count": 2,
   "id": "1b3bddab",
   "metadata": {},
   "outputs": [
    {
     "name": "stdout",
     "output_type": "stream",
     "text": [
      "102\n"
     ]
    }
   ],
   "source": [
    "d={'s':20, 'b':56, 'k':26}\n",
    "sum=0\n",
    "for i in d:\n",
    "    sum+=d[i]\n",
    "print(sum)"
   ]
  },
  {
   "cell_type": "markdown",
   "id": "ba34b3d0",
   "metadata": {},
   "source": [
    "# Q3"
   ]
  },
  {
   "cell_type": "code",
   "execution_count": 3,
   "id": "2ecefd7d",
   "metadata": {},
   "outputs": [
    {
     "name": "stdout",
     "output_type": "stream",
     "text": [
      "{'s': 20, 'b': 56, 'k': 26, 'h': 40, 'z': 55, 'l': 5}\n"
     ]
    }
   ],
   "source": [
    "d1={'s':20, 'b':56, 'k':26}\n",
    "d2={'h':40, 'z':55, 'l':5}\n",
    "print(d1 | d2)"
   ]
  },
  {
   "cell_type": "markdown",
   "id": "2bc0b2dd",
   "metadata": {},
   "source": [
    "# Q5"
   ]
  },
  {
   "cell_type": "code",
   "execution_count": 16,
   "id": "2b075f00",
   "metadata": {},
   "outputs": [
    {
     "name": "stdout",
     "output_type": "stream",
     "text": [
      "OrderedDict([('Will', '1'), ('James', '2'), ('Rob', '4')])\n",
      "OrderedDict([('Mark', '7'), ('Will', '1'), ('James', '2'), ('Rob', '4')])\n"
     ]
    }
   ],
   "source": [
    "from collections import OrderedDict\n",
    "\n",
    "ordered_d = OrderedDict([('Will', '1'), ('James', '2'), ('Rob', '4')])\n",
    "print(ordered_d)\n",
    "ordered_d.update({'Mark':'7'})\n",
    "ordered_d.move_to_end('Mark', last = False)\n",
    "\n",
    "print(ordered_d)"
   ]
  },
  {
   "cell_type": "markdown",
   "id": "069ab9e8",
   "metadata": {},
   "source": [
    "# Q6"
   ]
  },
  {
   "cell_type": "code",
   "execution_count": 19,
   "id": "3dbbee0b",
   "metadata": {},
   "outputs": [
    {
     "data": {
      "text/plain": [
       "'The order of pattern is correct'"
      ]
     },
     "execution_count": 19,
     "metadata": {},
     "output_type": "execute_result"
    }
   ],
   "source": [
    "from collections import OrderedDict\n",
    "def order(my_input, my_pattern):\n",
    "   my_dict = OrderedDict.fromkeys(my_input)\n",
    "   pattern_length = 0\n",
    "   for key,value in my_dict.items():\n",
    "      if (key == my_pattern[pattern_length]):\n",
    "         pattern_length = pattern_length + 1\n",
    "\n",
    "      if (pattern_length == (len(my_pattern))):\n",
    "         return 'The order of pattern is correct'\n",
    "\n",
    "   return 'The order of pattern is incorrect'\n",
    "my_input = 'Hi Mark'\n",
    "input_pattern = 'Ma'\n",
    "order(my_input, input_pattern)"
   ]
  },
  {
   "cell_type": "markdown",
   "id": "c70608bb",
   "metadata": {},
   "source": [
    "# Q7"
   ]
  },
  {
   "cell_type": "code",
   "execution_count": 22,
   "id": "3e6ccee1",
   "metadata": {},
   "outputs": [
    {
     "name": "stdout",
     "output_type": "stream",
     "text": [
      "1\n",
      "2\n",
      "3\n",
      "4\n",
      "5\n",
      "6\n"
     ]
    }
   ],
   "source": [
    "key_value={2: 56, 1: 2, 5: 12, 4: 24, 6: 18, 3: 323}\n",
    "for i in sorted(key_value):\n",
    "    print(i)"
   ]
  },
  {
   "cell_type": "code",
   "execution_count": null,
   "id": "47bc622a",
   "metadata": {},
   "outputs": [],
   "source": []
  }
 ],
 "metadata": {
  "kernelspec": {
   "display_name": "Python 3 (ipykernel)",
   "language": "python",
   "name": "python3"
  },
  "language_info": {
   "codemirror_mode": {
    "name": "ipython",
    "version": 3
   },
   "file_extension": ".py",
   "mimetype": "text/x-python",
   "name": "python",
   "nbconvert_exporter": "python",
   "pygments_lexer": "ipython3",
   "version": "3.10.7"
  }
 },
 "nbformat": 4,
 "nbformat_minor": 5
}
