{
 "cells": [
  {
   "cell_type": "markdown",
   "id": "7dc5ea55",
   "metadata": {},
   "source": [
    "# Q1"
   ]
  },
  {
   "cell_type": "markdown",
   "id": "6ccc0eeb",
   "metadata": {},
   "source": [
    "With the help of functions, we can avoid rewriting the same logic or code again and again in a program. In a single Program, we can call Python functions anywhere and also call multiple times."
   ]
  },
  {
   "cell_type": "markdown",
   "id": "20300da4",
   "metadata": {},
   "source": [
    "# Q2"
   ]
  },
  {
   "cell_type": "markdown",
   "id": "2df01be3",
   "metadata": {},
   "source": [
    "The code in a function executes when the function is called"
   ]
  },
  {
   "cell_type": "markdown",
   "id": "cc7e5681",
   "metadata": {},
   "source": [
    "# Q3"
   ]
  },
  {
   "cell_type": "markdown",
   "id": "bd1991c8",
   "metadata": {},
   "source": [
    "def keyword"
   ]
  },
  {
   "cell_type": "markdown",
   "id": "5c8da831",
   "metadata": {},
   "source": [
    "# Q4"
   ]
  },
  {
   "cell_type": "markdown",
   "id": "dd9fd1c8",
   "metadata": {},
   "source": [
    "A function is a block of code that does a particular operation and returns a result. It usually accepts inputs as parameters and returns a result. The parameters are not mandatory. A function call is the code used to pass control to a function"
   ]
  },
  {
   "cell_type": "markdown",
   "id": "3c0f56fd",
   "metadata": {},
   "source": [
    "# Q5"
   ]
  },
  {
   "cell_type": "markdown",
   "id": "ce7a98a5",
   "metadata": {},
   "source": [
    "At any given time during execution, you'll have at most four active Python scopes—local, enclosing, global, and built-in—depending on where you are in the code. On the other hand, you'll always have at least two active scopes, which are the global and built-in scopes."
   ]
  },
  {
   "cell_type": "markdown",
   "id": "063b3101",
   "metadata": {},
   "source": [
    "# Q6"
   ]
  },
  {
   "cell_type": "markdown",
   "id": "7020d411",
   "metadata": {},
   "source": [
    "Each call of the function creates new local variables, and their lifetimes expire when the function returns to the caller."
   ]
  },
  {
   "cell_type": "markdown",
   "id": "cde1dafd",
   "metadata": {},
   "source": [
    "# Q7"
   ]
  },
  {
   "cell_type": "markdown",
   "id": "c49dee40",
   "metadata": {},
   "source": [
    "The Python return statement is a special statement that you can use inside a function or method to send the function's result back to the caller. A return statement consists of the return keyword followed by an optional return value. The return value of a Python function can be any Python object."
   ]
  },
  {
   "cell_type": "markdown",
   "id": "7b0fb477",
   "metadata": {},
   "source": [
    "# Q8"
   ]
  },
  {
   "cell_type": "markdown",
   "id": "8f06c386",
   "metadata": {},
   "source": [
    "if you don't explicitly use a return value in a return statement, or if you totally omit the return statement, then Python will implicitly return a default value for you. That default return value will always be None ."
   ]
  },
  {
   "cell_type": "markdown",
   "id": "718bbb93",
   "metadata": {},
   "source": [
    "# Q9"
   ]
  },
  {
   "cell_type": "markdown",
   "id": "a564d661",
   "metadata": {},
   "source": [
    "using the global keyword."
   ]
  },
  {
   "cell_type": "markdown",
   "id": "d06ee09a",
   "metadata": {},
   "source": [
    "# Q10"
   ]
  },
  {
   "cell_type": "markdown",
   "id": "ccc93e83",
   "metadata": {},
   "source": [
    "None is a data type of its own (NoneType) and only None can be None."
   ]
  },
  {
   "cell_type": "markdown",
   "id": "79dc06b5",
   "metadata": {},
   "source": [
    "# Q11"
   ]
  },
  {
   "cell_type": "markdown",
   "id": "149ca498",
   "metadata": {},
   "source": [
    "imports a module named areallyourpetsnamederic."
   ]
  },
  {
   "cell_type": "markdown",
   "id": "84e66391",
   "metadata": {},
   "source": [
    "# Q12"
   ]
  },
  {
   "cell_type": "markdown",
   "id": "aceb490f",
   "metadata": {},
   "source": [
    "spam. bacon()."
   ]
  },
  {
   "cell_type": "markdown",
   "id": "701c9ffd",
   "metadata": {},
   "source": [
    "# Q13"
   ]
  },
  {
   "cell_type": "markdown",
   "id": "bca7257c",
   "metadata": {},
   "source": [
    "error handling can be used to notify the user of why the error occurred and gracefully exit the process that caused the error"
   ]
  },
  {
   "cell_type": "markdown",
   "id": "746202e9",
   "metadata": {},
   "source": [
    "# Q14"
   ]
  },
  {
   "cell_type": "markdown",
   "id": "935c9cbc",
   "metadata": {},
   "source": [
    "The try block lets you test a block of code for errors. The except block lets you handle the error."
   ]
  },
  {
   "cell_type": "code",
   "execution_count": null,
   "id": "74eeb71e",
   "metadata": {},
   "outputs": [],
   "source": []
  }
 ],
 "metadata": {
  "kernelspec": {
   "display_name": "Python 3 (ipykernel)",
   "language": "python",
   "name": "python3"
  },
  "language_info": {
   "codemirror_mode": {
    "name": "ipython",
    "version": 3
   },
   "file_extension": ".py",
   "mimetype": "text/x-python",
   "name": "python",
   "nbconvert_exporter": "python",
   "pygments_lexer": "ipython3",
   "version": "3.7.9"
  }
 },
 "nbformat": 4,
 "nbformat_minor": 5
}
