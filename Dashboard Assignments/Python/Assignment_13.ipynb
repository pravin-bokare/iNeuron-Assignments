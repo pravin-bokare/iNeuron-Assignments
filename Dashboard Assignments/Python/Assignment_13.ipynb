{
 "cells": [
  {
   "cell_type": "markdown",
   "id": "336d3c27",
   "metadata": {},
   "source": [
    "# Q1"
   ]
  },
  {
   "cell_type": "markdown",
   "id": "634fd110",
   "metadata": {},
   "source": [
    "While Excel (XLS and XLSX) file formats are better for storing more complex data, CSV files are supported by nearly all data upload interfaces."
   ]
  },
  {
   "cell_type": "markdown",
   "id": "318c399f",
   "metadata": {},
   "source": [
    "# Q2"
   ]
  },
  {
   "cell_type": "markdown",
   "id": "aaf15f67",
   "metadata": {},
   "source": [
    "call open() and pass it 'w' to open a file in write mode and 'r' to reader mode"
   ]
  },
  {
   "cell_type": "markdown",
   "id": "358b2726",
   "metadata": {},
   "source": [
    "# Q3"
   ]
  },
  {
   "cell_type": "markdown",
   "id": "b6182eaa",
   "metadata": {},
   "source": [
    "‘r’ Open a file for reading. (default)\n",
    "\n",
    "‘w’ Open a file for writing. Creates a new file if it does not exist or truncates the file if it exists.\n",
    "\n",
    "‘x’ Open a file for exclusive creation. If the file already exists, the operation fails.\n",
    "\n",
    "‘a’ Open for appending at the end of the file without truncating it. Creates a new file if it does not exist.\n",
    "\n",
    "‘t’ Open in text mode. (default)"
   ]
  },
  {
   "cell_type": "markdown",
   "id": "d8af0d96",
   "metadata": {},
   "source": [
    "# Q4"
   ]
  },
  {
   "cell_type": "markdown",
   "id": "788bfb7a",
   "metadata": {},
   "source": [
    "import csv\n",
    "\n",
    "RESULTS = ['apple','cherry','orange','pineapple','strawberry']\n",
    "\n",
    "result_file = open(\"output.csv\",'wb')\n",
    "\n",
    "wr = csv.writer(result_file, dialect='excel')\n",
    "\n",
    "for item in RESULTS:\n",
    "\n",
    "    wr.writerow(item)"
   ]
  },
  {
   "cell_type": "markdown",
   "id": "41c1dd88",
   "metadata": {},
   "source": [
    "# Q5"
   ]
  },
  {
   "cell_type": "markdown",
   "id": "9b5367b6",
   "metadata": {},
   "source": [
    "This changes the delimiter and line terminator characters in your file."
   ]
  },
  {
   "cell_type": "markdown",
   "id": "56febbee",
   "metadata": {},
   "source": [
    "# Q6"
   ]
  },
  {
   "cell_type": "markdown",
   "id": "b6dc3e36",
   "metadata": {},
   "source": [
    "loads()"
   ]
  },
  {
   "cell_type": "markdown",
   "id": "c2996606",
   "metadata": {},
   "source": [
    "# Q7"
   ]
  },
  {
   "cell_type": "markdown",
   "id": "37a8a82b",
   "metadata": {},
   "source": [
    "json.dumps() "
   ]
  },
  {
   "cell_type": "code",
   "execution_count": null,
   "id": "e0ed7aac",
   "metadata": {},
   "outputs": [],
   "source": []
  }
 ],
 "metadata": {
  "kernelspec": {
   "display_name": "Python 3 (ipykernel)",
   "language": "python",
   "name": "python3"
  },
  "language_info": {
   "codemirror_mode": {
    "name": "ipython",
    "version": 3
   },
   "file_extension": ".py",
   "mimetype": "text/x-python",
   "name": "python",
   "nbconvert_exporter": "python",
   "pygments_lexer": "ipython3",
   "version": "3.7.9"
  }
 },
 "nbformat": 4,
 "nbformat_minor": 5
}
