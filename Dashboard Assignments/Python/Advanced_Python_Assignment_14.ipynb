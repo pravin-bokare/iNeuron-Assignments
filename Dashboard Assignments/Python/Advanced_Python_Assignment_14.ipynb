{
 "cells": [
  {
   "cell_type": "markdown",
   "id": "13d5c825",
   "metadata": {},
   "source": [
    "\n",
    "# Q1"
   ]
  },
  {
   "cell_type": "markdown",
   "id": "a38cf5ae",
   "metadata": {},
   "source": [
    "A=A+1 evaluates to finding A, adding 1 to it. Then storing the value again in variable A. This expression makes Python to look for memory holder of a twice. But A+=1 simply means value of A is to incremented by 1. As memory address has to be identified once, += leads to faster operation."
   ]
  },
  {
   "cell_type": "markdown",
   "id": "aca672fe",
   "metadata": {},
   "source": [
    "# Q2"
   ]
  },
  {
   "cell_type": "markdown",
   "id": "15942ed4",
   "metadata": {},
   "source": [
    "Minimum number of lines required to write above code in languages other Python will be 4, two for assigning initial values for variables a and b, and two for reassignment i.e. a=a+b and b=a."
   ]
  },
  {
   "cell_type": "markdown",
   "id": "6c8daf13",
   "metadata": {},
   "source": [
    "# Q3"
   ]
  },
  {
   "cell_type": "markdown",
   "id": "9f6f2670",
   "metadata": {},
   "source": [
    "The Most effective way to set a list of 100 integers to 0 in python is by using repition operator(*) or by using list comprehension."
   ]
  },
  {
   "cell_type": "code",
   "execution_count": 14,
   "id": "4677492f",
   "metadata": {},
   "outputs": [
    {
     "name": "stdout",
     "output_type": "stream",
     "text": [
      "[0, 0, 0, 0, 0, 0, 0, 0, 0, 0, 0, 0, 0, 0, 0, 0, 0, 0, 0, 0, 0, 0, 0, 0, 0, 0, 0, 0, 0, 0, 0, 0, 0, 0, 0, 0, 0, 0, 0, 0, 0, 0, 0, 0, 0, 0, 0, 0, 0, 0, 0, 0, 0, 0, 0, 0, 0, 0, 0, 0, 0, 0, 0, 0, 0, 0, 0, 0, 0, 0, 0, 0, 0, 0, 0, 0, 0, 0, 0, 0, 0, 0, 0, 0, 0, 0, 0, 0, 0, 0, 0, 0, 0, 0, 0, 0, 0, 0, 0, 0]\n"
     ]
    }
   ],
   "source": [
    "list_zero=[0]*100\n",
    "print(list_zero)"
   ]
  },
  {
   "cell_type": "markdown",
   "id": "deac7947",
   "metadata": {},
   "source": [
    "# Q4"
   ]
  },
  {
   "cell_type": "code",
   "execution_count": 15,
   "id": "96f92e71",
   "metadata": {},
   "outputs": [
    {
     "name": "stdout",
     "output_type": "stream",
     "text": [
      "[1, 2, 3, 1, 2, 3, 1, 2, 3, 1, 2, 3, 1, 2, 3, 1, 2, 3, 1, 2, 3, 1, 2, 3, 1, 2, 3, 1, 2, 3, 1, 2, 3, 1, 2, 3, 1, 2, 3, 1, 2, 3, 1, 2, 3, 1, 2, 3, 1, 2, 3, 1, 2, 3, 1, 2, 3, 1, 2, 3, 1, 2, 3, 1, 2, 3, 1, 2, 3, 1, 2, 3, 1, 2, 3, 1, 2, 3, 1, 2, 3, 1, 2, 3, 1, 2, 3, 1, 2, 3, 1, 2, 3, 1, 2, 3, 1, 2, 3]\n"
     ]
    }
   ],
   "source": [
    "my_list = [1,2,3]*33\n",
    "print(my_list)"
   ]
  },
  {
   "cell_type": "markdown",
   "id": "c5756471",
   "metadata": {},
   "source": [
    "# Q5"
   ]
  },
  {
   "cell_type": "code",
   "execution_count": 16,
   "id": "f13e7123",
   "metadata": {},
   "outputs": [
    {
     "name": "stdout",
     "output_type": "stream",
     "text": [
      "1 1 2 2 3 3 4 4 5 5 "
     ]
    }
   ],
   "source": [
    "\n",
    "my_list = [[1,1],[2,2],[3,3],[4,4],[5,5]] # 2 dimensional List\n",
    "for x in range(len(my_list)):\n",
    "    for y in range(len(my_list[x])):\n",
    "        print(my_list[x][y],end=\" \")"
   ]
  },
  {
   "cell_type": "markdown",
   "id": "56dd72c1",
   "metadata": {},
   "source": [
    "# Q6"
   ]
  },
  {
   "cell_type": "code",
   "execution_count": 17,
   "id": "33d94843",
   "metadata": {},
   "outputs": [
    {
     "name": "stdout",
     "output_type": "stream",
     "text": [
      "['i', 'N', 'e', 'u', 'r', 'o', 'n']\n"
     ]
    }
   ],
   "source": [
    "\n",
    "my_list = [ele for ele in 'iNeuron']\n",
    "print(my_list)"
   ]
  },
  {
   "cell_type": "markdown",
   "id": "a91cf4b2",
   "metadata": {},
   "source": [
    "# Q7"
   ]
  },
  {
   "cell_type": "markdown",
   "id": "d1101d10",
   "metadata": {},
   "source": [
    "Get support with a user-written Python Programme: Start a command prompt (Windows) or terminal window (Linux/Mac). If the current working directory is the same as the location in which you saved the file, you can simply specify the filename as a command-line argument to the Python interpreter.\n",
    "\n",
    "Get support with a User-written Python Program from IDLE: You can also create script files and run them in IDLE. From the Shell window menu, select File → New File. That should open an additional editing window. Type in the code to be executed. From the menu in that window, select File → Save or File → Save As… and save the file to disk. Then select Run → Run Module. The output should appear back in the interpreter"
   ]
  },
  {
   "cell_type": "markdown",
   "id": "db9751e8",
   "metadata": {},
   "source": [
    "# Q8"
   ]
  },
  {
   "cell_type": "markdown",
   "id": "b6022874",
   "metadata": {},
   "source": [
    "The tasks which can be performed with the functions in python are:\n",
    "\n",
    "A function is an instance of the Object type.\n",
    "\n",
    "You can store the function in a variable.\n",
    "\n",
    "You can pass the function as a parameter to another function.\n",
    "\n",
    "You can return the function from a function."
   ]
  },
  {
   "cell_type": "markdown",
   "id": "62659b5e",
   "metadata": {},
   "source": [
    "# Q9"
   ]
  },
  {
   "cell_type": "markdown",
   "id": "9fa496c8",
   "metadata": {},
   "source": [
    "Wrappers Around the functions are known as Decrators."
   ]
  },
  {
   "cell_type": "markdown",
   "id": "f1a95687",
   "metadata": {},
   "source": [
    "# Q10"
   ]
  },
  {
   "cell_type": "markdown",
   "id": "df5672e4",
   "metadata": {},
   "source": [
    "Generator functions are a special kind of function that return a lazy iterator. These are objects that you can loop over like a list. However, unlike lists, lazy iterators do not store their contents in memory."
   ]
  },
  {
   "cell_type": "markdown",
   "id": "a20006eb",
   "metadata": {},
   "source": [
    "# Q11"
   ]
  },
  {
   "cell_type": "markdown",
   "id": "223e9281",
   "metadata": {},
   "source": [
    "Generator is a written as normal function but uses yield keyword to return values instead of return keyword."
   ]
  },
  {
   "cell_type": "markdown",
   "id": "cc1cd9a1",
   "metadata": {},
   "source": [
    "# Q12"
   ]
  },
  {
   "cell_type": "markdown",
   "id": "e8cd8c40",
   "metadata": {},
   "source": [
    "return statement sends a specified value back to its caller whereas yield statment can produce a sequence of values. We should use generator when we want to iterate over a sequence, but don’t want to store the entire sequence in memory."
   ]
  },
  {
   "cell_type": "code",
   "execution_count": null,
   "id": "8a043fa4",
   "metadata": {},
   "outputs": [],
   "source": []
  }
 ],
 "metadata": {
  "kernelspec": {
   "display_name": "Python 3 (ipykernel)",
   "language": "python",
   "name": "python3"
  },
  "language_info": {
   "codemirror_mode": {
    "name": "ipython",
    "version": 3
   },
   "file_extension": ".py",
   "mimetype": "text/x-python",
   "name": "python",
   "nbconvert_exporter": "python",
   "pygments_lexer": "ipython3",
   "version": "3.7.9"
  }
 },
 "nbformat": 4,
 "nbformat_minor": 5
}
