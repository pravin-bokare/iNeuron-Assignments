{
 "cells": [
  {
   "cell_type": "markdown",
   "id": "46ab78b9",
   "metadata": {},
   "source": [
    "# Q1"
   ]
  },
  {
   "cell_type": "code",
   "execution_count": 1,
   "id": "bbc84327",
   "metadata": {},
   "outputs": [
    {
     "data": {
      "text/plain": [
       "[6, 7, 8, 9, 1]"
      ]
     },
     "execution_count": 1,
     "metadata": {},
     "output_type": "execute_result"
    }
   ],
   "source": [
    "def next_in_line(lst, n):\n",
    "    lst.pop(0)\n",
    "    lst.append(n)\n",
    "    return lst\n",
    "next_in_line([5,6,7,8,9], 1)"
   ]
  },
  {
   "cell_type": "markdown",
   "id": "4a297bd7",
   "metadata": {},
   "source": [
    "# Q2"
   ]
  },
  {
   "cell_type": "code",
   "execution_count": 11,
   "id": "68d46f01",
   "metadata": {},
   "outputs": [
    {
     "data": {
      "text/plain": [
       "65700"
      ]
     },
     "execution_count": 11,
     "metadata": {},
     "output_type": "execute_result"
    }
   ],
   "source": [
    "def get_budgets(d):\n",
    "    total = sum(d['budget'] for d in d)\n",
    "    return total\n",
    "get_budgets([{'name':'John', 'age':21, 'budget':23000},{'name':'Steve', 'age':32, 'budget':40000},{'name':'MArtin', 'age':16, 'budget':2700}])"
   ]
  },
  {
   "cell_type": "markdown",
   "id": "f6cf1d28",
   "metadata": {},
   "source": [
    "# Q3"
   ]
  },
  {
   "cell_type": "code",
   "execution_count": 7,
   "id": "2ae40d63",
   "metadata": {},
   "outputs": [
    {
     "data": {
      "text/plain": [
       "'ehllo'"
      ]
     },
     "execution_count": 7,
     "metadata": {},
     "output_type": "execute_result"
    }
   ],
   "source": [
    "def alphabet_soup(s):\n",
    "    return ''.join(sorted(s))\n",
    "alphabet_soup('hello')"
   ]
  },
  {
   "cell_type": "markdown",
   "id": "98e62e22",
   "metadata": {},
   "source": [
    "# Q4"
   ]
  },
  {
   "cell_type": "code",
   "execution_count": 8,
   "id": "65983b2f",
   "metadata": {},
   "outputs": [
    {
     "data": {
      "text/plain": [
       "18193.97"
      ]
     },
     "execution_count": 8,
     "metadata": {},
     "output_type": "execute_result"
    }
   ],
   "source": [
    "def compound_interest(p,t,r,n):\n",
    "    return round(p*((1+r/n)**(n*t)), 2)\n",
    "compound_interest(10000,10,0.06,12)"
   ]
  },
  {
   "cell_type": "markdown",
   "id": "2f9a0163",
   "metadata": {},
   "source": [
    "# Q5"
   ]
  },
  {
   "cell_type": "code",
   "execution_count": 13,
   "id": "6a82a038",
   "metadata": {},
   "outputs": [
    {
     "data": {
      "text/plain": [
       "[9, 2, 16]"
      ]
     },
     "execution_count": 13,
     "metadata": {},
     "output_type": "execute_result"
    }
   ],
   "source": [
    "def return_only_integer(l):\n",
    "    lst=[]\n",
    "    for i in l:  \n",
    "        if type(i) ==int:  \n",
    "            lst.append(i)\n",
    "    return lst\n",
    "return_only_integer([9,2,'space','car','lion', 16])"
   ]
  }
 ],
 "metadata": {
  "kernelspec": {
   "display_name": "Python 3 (ipykernel)",
   "language": "python",
   "name": "python3"
  },
  "language_info": {
   "codemirror_mode": {
    "name": "ipython",
    "version": 3
   },
   "file_extension": ".py",
   "mimetype": "text/x-python",
   "name": "python",
   "nbconvert_exporter": "python",
   "pygments_lexer": "ipython3",
   "version": "3.10.7"
  }
 },
 "nbformat": 4,
 "nbformat_minor": 5
}
