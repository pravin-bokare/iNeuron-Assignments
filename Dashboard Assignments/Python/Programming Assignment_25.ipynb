{
 "cells": [
  {
   "cell_type": "markdown",
   "id": "51641ac3",
   "metadata": {},
   "source": [
    "# Q1"
   ]
  },
  {
   "cell_type": "code",
   "execution_count": 3,
   "id": "47169855",
   "metadata": {},
   "outputs": [
    {
     "data": {
      "text/plain": [
       "2"
      ]
     },
     "execution_count": 3,
     "metadata": {},
     "output_type": "execute_result"
    }
   ],
   "source": [
    "def equal(a, b, c):\n",
    "    lst = []\n",
    "    lst.append(a)\n",
    "    lst.append(b)\n",
    "    lst.append(c)\n",
    "    count = 1\n",
    "    lst.sort()\n",
    "    for i in range(1, len(lst)):\n",
    "        if lst[i-1]==lst[i]:\n",
    "            count+=1\n",
    "    return count\n",
    "equal(3,4,3)"
   ]
  },
  {
   "cell_type": "markdown",
   "id": "c5ad6e78",
   "metadata": {},
   "source": [
    "# Q2"
   ]
  },
  {
   "cell_type": "code",
   "execution_count": 8,
   "id": "0fd4046f",
   "metadata": {},
   "outputs": [
    {
     "data": {
      "text/plain": [
       "[('B', 2), ('C', 3), ('D', 1)]"
      ]
     },
     "execution_count": 8,
     "metadata": {},
     "output_type": "execute_result"
    }
   ],
   "source": [
    "def dict_to_list(dict):\n",
    "    return sorted([(k, v) for k, v in dict.items()])\n",
    "dict_to_list({'D':1,'B':2,'C':3})"
   ]
  },
  {
   "cell_type": "markdown",
   "id": "1c8376b6",
   "metadata": {},
   "source": [
    "# Q3"
   ]
  },
  {
   "cell_type": "code",
   "execution_count": 11,
   "id": "c4f44ec9",
   "metadata": {},
   "outputs": [
    {
     "data": {
      "text/plain": [
       "{'p': 'P', 's': 'S'}"
      ]
     },
     "execution_count": 11,
     "metadata": {},
     "output_type": "execute_result"
    }
   ],
   "source": [
    "def mapping(mylist):\n",
    "    return dict((i, i.upper()) for i in mylist)\n",
    "mapping(['p','s'])"
   ]
  },
  {
   "cell_type": "markdown",
   "id": "f5fe8cc8",
   "metadata": {},
   "source": [
    "# Q4"
   ]
  },
  {
   "cell_type": "code",
   "execution_count": 18,
   "id": "3935f9ae",
   "metadata": {},
   "outputs": [
    {
     "data": {
      "text/plain": [
       "'upplus und bununus'"
      ]
     },
     "execution_count": 18,
     "metadata": {},
     "output_type": "execute_result"
    }
   ],
   "source": [
    "def vow_replace(s, p):\n",
    "    v = 'aeiou'\n",
    "    for i in v:\n",
    "        s = s.replace(i,p)\n",
    "    return s\n",
    "vow_replace('apples and bananas','u')"
   ]
  },
  {
   "cell_type": "markdown",
   "id": "19faa01d",
   "metadata": {},
   "source": [
    "# Q5"
   ]
  },
  {
   "cell_type": "code",
   "execution_count": 24,
   "id": "61f467a3",
   "metadata": {},
   "outputs": [
    {
     "data": {
      "text/plain": [
       "'To Be oR NoT To Be!'"
      ]
     },
     "execution_count": 24,
     "metadata": {},
     "output_type": "execute_result"
    }
   ],
   "source": [
    "def ascii_capitalize(s):\n",
    "    m =''\n",
    "    for i in s:\n",
    "        if ord(i)%2==0:\n",
    "            m+=i.upper()\n",
    "        else:\n",
    "            m+=i.lower()\n",
    "    return m\n",
    "            \n",
    "            \n",
    "\n",
    "ascii_capitalize('to be or not to be!')"
   ]
  }
 ],
 "metadata": {
  "kernelspec": {
   "display_name": "Python 3 (ipykernel)",
   "language": "python",
   "name": "python3"
  },
  "language_info": {
   "codemirror_mode": {
    "name": "ipython",
    "version": 3
   },
   "file_extension": ".py",
   "mimetype": "text/x-python",
   "name": "python",
   "nbconvert_exporter": "python",
   "pygments_lexer": "ipython3",
   "version": "3.10.7"
  }
 },
 "nbformat": 4,
 "nbformat_minor": 5
}
