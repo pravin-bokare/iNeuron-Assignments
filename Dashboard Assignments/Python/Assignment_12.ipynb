{
 "cells": [
  {
   "cell_type": "markdown",
   "id": "6dc8bf8a",
   "metadata": {},
   "source": [
    "# Q1"
   ]
  },
  {
   "cell_type": "markdown",
   "id": "268d00d8",
   "metadata": {},
   "source": [
    "binary mode"
   ]
  },
  {
   "cell_type": "markdown",
   "id": "f9309881",
   "metadata": {},
   "source": [
    "# Q2"
   ]
  },
  {
   "cell_type": "markdown",
   "id": "32dd6a9e",
   "metadata": {},
   "source": [
    "Calling getPage(4)Calling getPage(4)"
   ]
  },
  {
   "cell_type": "markdown",
   "id": "008d5bca",
   "metadata": {},
   "source": [
    "# Q3"
   ]
  },
  {
   "cell_type": "markdown",
   "id": "81ae3ee9",
   "metadata": {},
   "source": [
    "numPages "
   ]
  },
  {
   "cell_type": "markdown",
   "id": "1582b5db",
   "metadata": {},
   "source": [
    "# Q4"
   ]
  },
  {
   "cell_type": "markdown",
   "id": "43dbd8b5",
   "metadata": {},
   "source": [
    "decrypted by calling .decrypt('swordfish')"
   ]
  },
  {
   "cell_type": "markdown",
   "id": "83d620b4",
   "metadata": {},
   "source": [
    "# Q5"
   ]
  },
  {
   "cell_type": "markdown",
   "id": "ea2ef02f",
   "metadata": {},
   "source": [
    "using function rotateClockwise()\n"
   ]
  },
  {
   "cell_type": "markdown",
   "id": "17b5629f",
   "metadata": {},
   "source": [
    "# Q6"
   ]
  },
  {
   "cell_type": "markdown",
   "id": "dd83e81c",
   "metadata": {},
   "source": [
    "Paragraph Object : A document contains multiple paragraphs. A paragraph begins on a new line and contains multiple runs. The Document object contains a list of Paragraph objects for the paragraphs in the document. (A new paragraph begins whenever the user presses ENTER or RETURN while typing in a Word document.)\n",
    "\n",
    "Run Objects : Runs are contiguous groups of characters within a paragraph with the same style"
   ]
  },
  {
   "cell_type": "markdown",
   "id": "db7ca7a3",
   "metadata": {},
   "source": [
    "# Q7"
   ]
  },
  {
   "cell_type": "markdown",
   "id": "faa1b328",
   "metadata": {},
   "source": [
    "using \n",
    "\n",
    "doc = docx.Document('abc.docx') \n",
    "\n",
    "doc.paragraphs"
   ]
  },
  {
   "cell_type": "markdown",
   "id": "fb0a02ad",
   "metadata": {},
   "source": [
    "# Q8"
   ]
  },
  {
   "cell_type": "markdown",
   "id": "5e5a35ff",
   "metadata": {},
   "source": [
    "Run object"
   ]
  },
  {
   "cell_type": "markdown",
   "id": "5adf0c1e",
   "metadata": {},
   "source": [
    "# Q9"
   ]
  },
  {
   "cell_type": "markdown",
   "id": "e1c53d26",
   "metadata": {},
   "source": [
    "True and False are specific bool values. Use default False when you have a bool field and you want the default to be False. Don't use False as a value for a non- bool field. None is used as a generic placeholder when the value will be set later."
   ]
  },
  {
   "cell_type": "markdown",
   "id": "89f82632",
   "metadata": {},
   "source": [
    "# Q10"
   ]
  },
  {
   "cell_type": "markdown",
   "id": "d6aae191",
   "metadata": {},
   "source": [
    "import aspose.words as aw\n",
    "doc = aw.Document()\n",
    "builder = aw.DocumentBuilder(doc)\n",
    "builder.write(\"Hello world!\")\n",
    "doc.save(\"out.docx\")"
   ]
  },
  {
   "cell_type": "markdown",
   "id": "6e2d9ea9",
   "metadata": {},
   "source": [
    "# Q11 "
   ]
  },
  {
   "cell_type": "markdown",
   "id": "1a794e0c",
   "metadata": {},
   "source": [
    "using function add_paragraph('Hello there!')"
   ]
  },
  {
   "cell_type": "markdown",
   "id": "b70e3be3",
   "metadata": {},
   "source": [
    "# Q12\n"
   ]
  },
  {
   "cell_type": "markdown",
   "id": "c4551d25",
   "metadata": {},
   "source": [
    "1 to 4"
   ]
  },
  {
   "cell_type": "code",
   "execution_count": null,
   "id": "13c0144c",
   "metadata": {},
   "outputs": [],
   "source": []
  }
 ],
 "metadata": {
  "kernelspec": {
   "display_name": "Python 3 (ipykernel)",
   "language": "python",
   "name": "python3"
  },
  "language_info": {
   "codemirror_mode": {
    "name": "ipython",
    "version": 3
   },
   "file_extension": ".py",
   "mimetype": "text/x-python",
   "name": "python",
   "nbconvert_exporter": "python",
   "pygments_lexer": "ipython3",
   "version": "3.7.9"
  }
 },
 "nbformat": 4,
 "nbformat_minor": 5
}
