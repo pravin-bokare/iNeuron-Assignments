{
 "cells": [
  {
   "cell_type": "markdown",
   "id": "548412b5",
   "metadata": {},
   "source": [
    "# Q1"
   ]
  },
  {
   "cell_type": "markdown",
   "id": "fbaccad2",
   "metadata": {},
   "source": [
    "re.compile()"
   ]
  },
  {
   "cell_type": "markdown",
   "id": "343c03d1",
   "metadata": {},
   "source": [
    "# Q2"
   ]
  },
  {
   "cell_type": "markdown",
   "id": "f0420946",
   "metadata": {},
   "source": [
    "Raw strings are used so that backslashes do not have to be escaped."
   ]
  },
  {
   "cell_type": "markdown",
   "id": "33da6bb0",
   "metadata": {},
   "source": [
    "# Q3"
   ]
  },
  {
   "cell_type": "markdown",
   "id": "ef80785d",
   "metadata": {},
   "source": [
    "index (position) of the first match."
   ]
  },
  {
   "cell_type": "markdown",
   "id": "6080e8e4",
   "metadata": {},
   "source": [
    "# Q4"
   ]
  },
  {
   "cell_type": "markdown",
   "id": "6fd63b34",
   "metadata": {},
   "source": [
    "using group()"
   ]
  },
  {
   "cell_type": "markdown",
   "id": "18dfa2ad",
   "metadata": {},
   "source": [
    "# Q5"
   ]
  },
  {
   "cell_type": "markdown",
   "id": "5108b480",
   "metadata": {},
   "source": [
    "Group 0 is the entire match, group 1 covers the first set of parentheses, and group 2 covers the second set of parentheses."
   ]
  },
  {
   "cell_type": "markdown",
   "id": "c6732ab1",
   "metadata": {},
   "source": [
    "# Q6"
   ]
  },
  {
   "cell_type": "markdown",
   "id": "b042f928",
   "metadata": {},
   "source": [
    "Periods and parentheses can be escaped with a backslash: \\., \\(, and \\)."
   ]
  },
  {
   "cell_type": "markdown",
   "id": "db3634cd",
   "metadata": {},
   "source": [
    "# Q7"
   ]
  },
  {
   "cell_type": "markdown",
   "id": "08d5fed0",
   "metadata": {},
   "source": [
    "If the regex has no groups, a list of strings is returned. If the regex has groups, a list of tuples of strings is returned."
   ]
  },
  {
   "cell_type": "markdown",
   "id": "efa6b07c",
   "metadata": {},
   "source": [
    "# Q8"
   ]
  },
  {
   "cell_type": "markdown",
   "id": "ac37dbb6",
   "metadata": {},
   "source": [
    "or"
   ]
  },
  {
   "cell_type": "markdown",
   "id": "5d0e7b13",
   "metadata": {},
   "source": [
    "# Q9"
   ]
  },
  {
   "cell_type": "markdown",
   "id": "1a29aa5c",
   "metadata": {},
   "source": [
    "All characters, except those having special meaning in regex, matches themselves"
   ]
  },
  {
   "cell_type": "markdown",
   "id": "fdfdcc79",
   "metadata": {},
   "source": [
    "# Q10"
   ]
  },
  {
   "cell_type": "markdown",
   "id": "b3893adc",
   "metadata": {},
   "source": [
    "The + matches one or more. The * matches zero or more."
   ]
  },
  {
   "cell_type": "markdown",
   "id": "45c6d3c5",
   "metadata": {},
   "source": [
    "# Q11"
   ]
  },
  {
   "cell_type": "markdown",
   "id": "e07a976f",
   "metadata": {},
   "source": [
    "The {4} matches exactly three instances of the preceding group. The {4,5} matches between four and five instances."
   ]
  },
  {
   "cell_type": "markdown",
   "id": "0fbbed52",
   "metadata": {},
   "source": [
    "# Q12"
   ]
  },
  {
   "cell_type": "markdown",
   "id": "dd397fd5",
   "metadata": {},
   "source": [
    "The \\d, \\w, and \\s shorthand character classes match a single digit, word, or space character, respectively."
   ]
  },
  {
   "cell_type": "markdown",
   "id": "613e531c",
   "metadata": {},
   "source": [
    "# Q13"
   ]
  },
  {
   "cell_type": "markdown",
   "id": "518f7073",
   "metadata": {},
   "source": [
    "The \\D, \\W, and \\S shorthand character classes match a single character that is not a digit, word, or space character, respectively."
   ]
  },
  {
   "cell_type": "markdown",
   "id": "ff3a2fc8",
   "metadata": {},
   "source": [
    "# Q14"
   ]
  },
  {
   "cell_type": "markdown",
   "id": "1146d1de",
   "metadata": {},
   "source": [
    "The .* performs a greedy match, and the .*? performs a nongreedy match."
   ]
  },
  {
   "cell_type": "markdown",
   "id": "d8d37dc8",
   "metadata": {},
   "source": [
    "# Q15"
   ]
  },
  {
   "cell_type": "markdown",
   "id": "dd48c25f",
   "metadata": {},
   "source": [
    "[0-9a-z] or [a-z0-9]"
   ]
  },
  {
   "cell_type": "markdown",
   "id": "6679d03f",
   "metadata": {},
   "source": [
    "# Q16"
   ]
  },
  {
   "cell_type": "markdown",
   "id": "24151a84",
   "metadata": {},
   "source": [
    "Passing re.I or re.IGNORECASE as the second argument to re.compile() will make the matching case insensitive."
   ]
  },
  {
   "cell_type": "markdown",
   "id": "e3b35906",
   "metadata": {},
   "source": [
    "# Q17"
   ]
  },
  {
   "cell_type": "markdown",
   "id": "0e27fb9b",
   "metadata": {},
   "source": [
    "The . character normally matches any character except the newline character. If re.DOTALL is passed as the second argument to re.compile(), then the dot will also match newline characters."
   ]
  },
  {
   "cell_type": "markdown",
   "id": "809d9ece",
   "metadata": {},
   "source": [
    "# Q18"
   ]
  },
  {
   "cell_type": "markdown",
   "id": "7f386219",
   "metadata": {},
   "source": [
    "'X drummers, X pipers, five rings, X hens'"
   ]
  },
  {
   "cell_type": "markdown",
   "id": "d5d1b007",
   "metadata": {},
   "source": [
    "# Q19"
   ]
  },
  {
   "cell_type": "markdown",
   "id": "952e1d0d",
   "metadata": {},
   "source": [
    "The re.VERBOSE argument allows you to add whitespace and comments to the string passed to re.compile()"
   ]
  },
  {
   "cell_type": "markdown",
   "id": "d49c952f",
   "metadata": {},
   "source": [
    "# Q20"
   ]
  },
  {
   "cell_type": "markdown",
   "id": "860b7f6b",
   "metadata": {},
   "source": [
    "re.compile(r'^\\d{1,3}(,{3})*$') will create this regex, but other regex strings can produce a similar regular expression."
   ]
  },
  {
   "cell_type": "markdown",
   "id": "1c94b66f",
   "metadata": {},
   "source": [
    "# Q21"
   ]
  },
  {
   "cell_type": "markdown",
   "id": "37b3aac3",
   "metadata": {},
   "source": [
    "re.compile(r'[A-Z][a-z]*\\sWatanabe')"
   ]
  },
  {
   "cell_type": "markdown",
   "id": "c2637adc",
   "metadata": {},
   "source": [
    "# Q22"
   ]
  },
  {
   "cell_type": "markdown",
   "id": "7b45e7b1",
   "metadata": {},
   "source": [
    "re.compile(r'(Alice|Bob|Carol)\\s(eats|pets|throws)\\ s(apples|cats|baseballs)\\.', re.IGNORECASE)"
   ]
  },
  {
   "cell_type": "code",
   "execution_count": null,
   "id": "c61ae217",
   "metadata": {},
   "outputs": [],
   "source": []
  }
 ],
 "metadata": {
  "kernelspec": {
   "display_name": "Python 3 (ipykernel)",
   "language": "python",
   "name": "python3"
  },
  "language_info": {
   "codemirror_mode": {
    "name": "ipython",
    "version": 3
   },
   "file_extension": ".py",
   "mimetype": "text/x-python",
   "name": "python",
   "nbconvert_exporter": "python",
   "pygments_lexer": "ipython3",
   "version": "3.7.9"
  }
 },
 "nbformat": 4,
 "nbformat_minor": 5
}
