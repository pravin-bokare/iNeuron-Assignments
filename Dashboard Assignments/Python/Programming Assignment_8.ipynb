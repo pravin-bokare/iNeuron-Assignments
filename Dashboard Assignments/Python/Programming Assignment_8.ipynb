{
 "cells": [
  {
   "cell_type": "markdown",
   "id": "92223753",
   "metadata": {},
   "source": [
    "# Q1"
   ]
  },
  {
   "cell_type": "code",
   "execution_count": 1,
   "id": "4d9bb31f",
   "metadata": {},
   "outputs": [
    {
     "name": "stdout",
     "output_type": "stream",
     "text": [
      "[8, 15, 4]\n",
      "[10, 12, 9]\n",
      "[12, 12, 18]\n"
     ]
    }
   ],
   "source": [
    "X = [[1,7,3],\n",
    "    [4 ,5,6],\n",
    "    [8 ,8,9]]\n",
    "\n",
    "Y = [[7,8,1],\n",
    "    [6,7,3],\n",
    "    [4,4,9]]\n",
    "\n",
    "res = [[0,0,0],\n",
    "         [0,0,0],\n",
    "         [0,0,0]]\n",
    "\n",
    "for i in range(len(X)):\n",
    "    for j in range(len(X[0])):\n",
    "        res[i][j]=X[i][j]+Y[i][j]\n",
    "        \n",
    "for m in res:\n",
    "    print(m)"
   ]
  },
  {
   "cell_type": "markdown",
   "id": "760aad99",
   "metadata": {},
   "source": [
    "# Q2"
   ]
  },
  {
   "cell_type": "code",
   "execution_count": 2,
   "id": "9bb9d843",
   "metadata": {},
   "outputs": [
    {
     "name": "stdout",
     "output_type": "stream",
     "text": [
      "[21, 168, 9]\n",
      "[72, 105, 54]\n",
      "[96, 96, 243]\n"
     ]
    }
   ],
   "source": [
    "X = [[1,7,3],\n",
    "    [4 ,5,6],\n",
    "    [8 ,8,9]]\n",
    "\n",
    "Y = [[7,8,1],\n",
    "    [6,7,3],\n",
    "    [4,4,9]]\n",
    "\n",
    "res = [[0,0,0],\n",
    "         [0,0,0],\n",
    "         [0,0,0]]\n",
    "\n",
    "for i in range(len(X)):\n",
    "    for j in range(len(Y[0])):\n",
    "        for k in range(len(Y)):\n",
    "            res[i][j]+=X[i][j]*Y[i][j]\n",
    "            \n",
    "for m in res:\n",
    "    print(m)"
   ]
  },
  {
   "cell_type": "markdown",
   "id": "c42bd7cd",
   "metadata": {},
   "source": [
    "# Q3"
   ]
  },
  {
   "cell_type": "code",
   "execution_count": 4,
   "id": "e9e27611",
   "metadata": {},
   "outputs": [
    {
     "name": "stdout",
     "output_type": "stream",
     "text": [
      "[1, 4, 8]\n",
      "[7, 5, 8]\n",
      "[3, 6, 9]\n"
     ]
    }
   ],
   "source": [
    "X = [[1,7,3],\n",
    "    [4 ,5,6],\n",
    "    [8 ,8,9]]\n",
    "\n",
    "res = [[0,0,0],\n",
    "         [0,0,0],\n",
    "         [0,0,0]]\n",
    "\n",
    "for i in range(len(X)):\n",
    "    for j in range(len(X[0])):\n",
    "        res[j][i]=X[i][j]\n",
    "        \n",
    "for m in res:\n",
    "    print(m)"
   ]
  },
  {
   "cell_type": "markdown",
   "id": "b1c3bcdd",
   "metadata": {},
   "source": [
    "# Q4"
   ]
  },
  {
   "cell_type": "code",
   "execution_count": 16,
   "id": "c8f566ee",
   "metadata": {},
   "outputs": [
    {
     "name": "stdout",
     "output_type": "stream",
     "text": [
      "hello\n",
      "is\n",
      "my\n",
      "name\n",
      "pravin\n"
     ]
    }
   ],
   "source": [
    "s='hello my name is pravin'\n",
    "w = [word for word in s.split()]\n",
    "w.sort()\n",
    "for i in w:\n",
    "    print(i)"
   ]
  },
  {
   "cell_type": "markdown",
   "id": "2ea4b75f",
   "metadata": {},
   "source": [
    "# Q5"
   ]
  },
  {
   "cell_type": "code",
   "execution_count": 17,
   "id": "6b24f279",
   "metadata": {},
   "outputs": [
    {
     "name": "stdout",
     "output_type": "stream",
     "text": [
      "Hello he said and went\n"
     ]
    }
   ],
   "source": [
    "punc = '''!()-[]{};:'\"\\,<>./?@#$%^&*_~'''\n",
    "s = \"Hello!!!, he said ---and went.\"\n",
    "res=''\n",
    "for i in s:\n",
    "    if i not in punc:\n",
    "        res+=i\n",
    "print(res)\n",
    "        "
   ]
  },
  {
   "cell_type": "code",
   "execution_count": null,
   "id": "2705607f",
   "metadata": {},
   "outputs": [],
   "source": []
  }
 ],
 "metadata": {
  "kernelspec": {
   "display_name": "Python 3 (ipykernel)",
   "language": "python",
   "name": "python3"
  },
  "language_info": {
   "codemirror_mode": {
    "name": "ipython",
    "version": 3
   },
   "file_extension": ".py",
   "mimetype": "text/x-python",
   "name": "python",
   "nbconvert_exporter": "python",
   "pygments_lexer": "ipython3",
   "version": "3.10.7"
  }
 },
 "nbformat": 4,
 "nbformat_minor": 5
}
