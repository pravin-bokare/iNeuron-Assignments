{
 "cells": [
  {
   "cell_type": "markdown",
   "id": "4fb11c7b",
   "metadata": {},
   "source": [
    "# Q1"
   ]
  },
  {
   "cell_type": "code",
   "execution_count": 2,
   "id": "ca052d20",
   "metadata": {},
   "outputs": [
    {
     "data": {
      "text/plain": [
       "[1, 2]"
      ]
     },
     "execution_count": 2,
     "metadata": {},
     "output_type": "execute_result"
    }
   ],
   "source": [
    "def filter_list(lst):\n",
    "    m =[]\n",
    "    for i in lst:\n",
    "        if type(i)==int:\n",
    "            m.append(i)\n",
    "    return m\n",
    "filter_list([1,2,'a','b'])"
   ]
  },
  {
   "cell_type": "markdown",
   "id": "bafb1902",
   "metadata": {},
   "source": [
    "# Q2"
   ]
  },
  {
   "cell_type": "code",
   "execution_count": 10,
   "id": "078b1861",
   "metadata": {},
   "outputs": [
    {
     "data": {
      "text/plain": [
       "'DLROw OLLEh'"
      ]
     },
     "execution_count": 10,
     "metadata": {},
     "output_type": "execute_result"
    }
   ],
   "source": [
    "def reverse(s):\n",
    "    m=''\n",
    "    for i in s:\n",
    "        if i.islower():\n",
    "            m+=i.upper()\n",
    "        else:\n",
    "            m+=i.lower()\n",
    "    return m[::-1]\n",
    "reverse('Hello World')"
   ]
  },
  {
   "cell_type": "markdown",
   "id": "b7ab4814",
   "metadata": {},
   "source": [
    "# Q3"
   ]
  },
  {
   "cell_type": "code",
   "execution_count": 11,
   "id": "a5fef463",
   "metadata": {},
   "outputs": [
    {
     "name": "stdout",
     "output_type": "stream",
     "text": [
      "first  :  1\n",
      "middle :  [2, 3, 4, 5]\n",
      "last   :  6\n"
     ]
    }
   ],
   "source": [
    "def ab(lst):\n",
    "    print('first  : ', lst[0])\n",
    "    print('middle : ', lst[1:-1])\n",
    "    print('last   : ', lst[-1])\n",
    "ab([1,2,3,4,5,6])"
   ]
  },
  {
   "cell_type": "markdown",
   "id": "e938b72f",
   "metadata": {},
   "source": [
    "# Q4"
   ]
  },
  {
   "cell_type": "code",
   "execution_count": 13,
   "id": "bb5bb20a",
   "metadata": {},
   "outputs": [
    {
     "data": {
      "text/plain": [
       "120"
      ]
     },
     "execution_count": 13,
     "metadata": {},
     "output_type": "execute_result"
    }
   ],
   "source": [
    "def factorial(num):\n",
    "    if num==0:\n",
    "        return 1\n",
    "    else:\n",
    "        return num*factorial(num-1)\n",
    "factorial(5)"
   ]
  },
  {
   "cell_type": "markdown",
   "id": "b47bf6a7",
   "metadata": {},
   "source": [
    "# Q5"
   ]
  },
  {
   "cell_type": "code",
   "execution_count": 3,
   "id": "0c731ddc",
   "metadata": {},
   "outputs": [
    {
     "data": {
      "text/plain": [
       "[3, 2, 4, 4, 1, 1]"
      ]
     },
     "execution_count": 3,
     "metadata": {},
     "output_type": "execute_result"
    }
   ],
   "source": [
    "def move(lst, n):\n",
    "    count=0\n",
    "    for i in lst:\n",
    "        if i==n:\n",
    "            lst.remove(i)\n",
    "            count+=1\n",
    "    for i in range(count):\n",
    "        lst.append(n)\n",
    "    return lst\n",
    "move([1,3,2,4,4,1], 1)"
   ]
  }
 ],
 "metadata": {
  "kernelspec": {
   "display_name": "Python 3 (ipykernel)",
   "language": "python",
   "name": "python3"
  },
  "language_info": {
   "codemirror_mode": {
    "name": "ipython",
    "version": 3
   },
   "file_extension": ".py",
   "mimetype": "text/x-python",
   "name": "python",
   "nbconvert_exporter": "python",
   "pygments_lexer": "ipython3",
   "version": "3.10.7"
  }
 },
 "nbformat": 4,
 "nbformat_minor": 5
}
