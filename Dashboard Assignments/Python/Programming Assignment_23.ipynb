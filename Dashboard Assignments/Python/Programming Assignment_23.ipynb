{
 "cells": [
  {
   "cell_type": "markdown",
   "id": "ea67ebba",
   "metadata": {},
   "source": [
    "# Q1"
   ]
  },
  {
   "cell_type": "code",
   "execution_count": 21,
   "id": "c7b4a99b",
   "metadata": {},
   "outputs": [
    {
     "data": {
      "text/plain": [
       "True"
      ]
     },
     "execution_count": 21,
     "metadata": {},
     "output_type": "execute_result"
    }
   ],
   "source": [
    "def is_symmetric(s):\n",
    "    s1 = str(s)\n",
    "    if str(s)==s1[::-1]:\n",
    "        return True\n",
    "    return False\n",
    "is_symmetric(7227)"
   ]
  },
  {
   "cell_type": "markdown",
   "id": "253ab371",
   "metadata": {},
   "source": [
    "# Q2"
   ]
  },
  {
   "cell_type": "code",
   "execution_count": 17,
   "id": "df31bb4e",
   "metadata": {},
   "outputs": [
    {
     "data": {
      "text/plain": [
       "6"
      ]
     },
     "execution_count": 17,
     "metadata": {},
     "output_type": "execute_result"
    }
   ],
   "source": [
    "import math\n",
    "def multiply_nums(nums):\n",
    "    integer_list = []\n",
    "    new_list = list(nums)\n",
    "    sliced_list = new_list[0::3]\n",
    "    for elem in sliced_list:\n",
    "        int_elem = int(elem)\n",
    "        integer_list.append(int_elem)\n",
    "    return math.prod(integer_list)\n",
    "multiply_nums('2, 3')"
   ]
  },
  {
   "cell_type": "markdown",
   "id": "247243e3",
   "metadata": {},
   "source": [
    "# Q3"
   ]
  },
  {
   "cell_type": "code",
   "execution_count": 24,
   "id": "2abec4bd",
   "metadata": {},
   "outputs": [
    {
     "data": {
      "text/plain": [
       "811181"
      ]
     },
     "execution_count": 24,
     "metadata": {},
     "output_type": "execute_result"
    }
   ],
   "source": [
    "def square_digits(num):\n",
    "    return int(''.join(str(int(i)**2) for i in str(num)))\n",
    "square_digits(9119)"
   ]
  },
  {
   "cell_type": "markdown",
   "id": "1d704965",
   "metadata": {},
   "source": [
    "# Q4"
   ]
  },
  {
   "cell_type": "code",
   "execution_count": 25,
   "id": "d2f01da3",
   "metadata": {},
   "outputs": [
    {
     "data": {
      "text/plain": [
       "[1, 3, 5]"
      ]
     },
     "execution_count": 25,
     "metadata": {},
     "output_type": "execute_result"
    }
   ],
   "source": [
    "def setify(lst):\n",
    "    return list(set(lst))\n",
    "setify([1,3,3,5,5])"
   ]
  },
  {
   "cell_type": "markdown",
   "id": "3c0fd1b9",
   "metadata": {},
   "source": [
    "# Q5"
   ]
  },
  {
   "cell_type": "code",
   "execution_count": 26,
   "id": "2f35f496",
   "metadata": {},
   "outputs": [
    {
     "data": {
      "text/plain": [
       "3.0"
      ]
     },
     "execution_count": 26,
     "metadata": {},
     "output_type": "execute_result"
    }
   ],
   "source": [
    "def mean(num):\n",
    "    sum=0\n",
    "    s = str(num)\n",
    "    n = len(s)\n",
    "    for i in s:\n",
    "        sum+=int(i)\n",
    "    return sum/n\n",
    "mean(42)"
   ]
  }
 ],
 "metadata": {
  "kernelspec": {
   "display_name": "Python 3 (ipykernel)",
   "language": "python",
   "name": "python3"
  },
  "language_info": {
   "codemirror_mode": {
    "name": "ipython",
    "version": 3
   },
   "file_extension": ".py",
   "mimetype": "text/x-python",
   "name": "python",
   "nbconvert_exporter": "python",
   "pygments_lexer": "ipython3",
   "version": "3.10.7"
  }
 },
 "nbformat": 4,
 "nbformat_minor": 5
}
