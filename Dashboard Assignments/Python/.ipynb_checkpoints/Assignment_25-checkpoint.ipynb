{
 "cells": [
  {
   "cell_type": "markdown",
   "id": "e94f475f",
   "metadata": {},
   "source": [
    "# Q1"
   ]
  },
  {
   "cell_type": "markdown",
   "id": "3d909a15",
   "metadata": {},
   "source": [
    "Enclosing a list comprehension in square brackets returns a list.but where as enclosing a list comprehension in parentheses returns a generator object"
   ]
  },
  {
   "cell_type": "markdown",
   "id": "ea6bca22",
   "metadata": {},
   "source": [
    "# Q2"
   ]
  },
  {
   "cell_type": "markdown",
   "id": "22da67ad",
   "metadata": {},
   "source": [
    "Iterators are the objects that use the next() method to get the next value of the sequence. A generator is a function that produces or yields a sequence of values using a yield statement"
   ]
  },
  {
   "cell_type": "markdown",
   "id": "d90310cf",
   "metadata": {},
   "source": [
    "# Q3"
   ]
  },
  {
   "cell_type": "markdown",
   "id": "4307fe3a",
   "metadata": {},
   "source": [
    "the presence of a yield statement."
   ]
  },
  {
   "cell_type": "markdown",
   "id": "68295350",
   "metadata": {},
   "source": [
    "# Q4"
   ]
  },
  {
   "cell_type": "markdown",
   "id": "04cae8e3",
   "metadata": {},
   "source": [
    "returns a generator object to the one who calls the function which contains yield, instead of simply returning a value"
   ]
  },
  {
   "cell_type": "markdown",
   "id": "0df36d14",
   "metadata": {},
   "source": [
    "# Q5"
   ]
  },
  {
   "cell_type": "markdown",
   "id": "0fe99458",
   "metadata": {},
   "source": [
    "List comprehension returns a list, whereas the map function returns an object of Iterable"
   ]
  },
  {
   "cell_type": "code",
   "execution_count": null,
   "id": "5eeb6241",
   "metadata": {},
   "outputs": [],
   "source": []
  }
 ],
 "metadata": {
  "kernelspec": {
   "display_name": "Python 3 (ipykernel)",
   "language": "python",
   "name": "python3"
  },
  "language_info": {
   "codemirror_mode": {
    "name": "ipython",
    "version": 3
   },
   "file_extension": ".py",
   "mimetype": "text/x-python",
   "name": "python",
   "nbconvert_exporter": "python",
   "pygments_lexer": "ipython3",
   "version": "3.7.9"
  }
 },
 "nbformat": 4,
 "nbformat_minor": 5
}
