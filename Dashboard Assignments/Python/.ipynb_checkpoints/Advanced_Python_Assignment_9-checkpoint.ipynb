{
 "cells": [
  {
   "cell_type": "markdown",
   "id": "cc22f1e5",
   "metadata": {},
   "source": [
    "# Q1"
   ]
  },
  {
   "cell_type": "markdown",
   "id": "7b8f5e96",
   "metadata": {},
   "source": [
    "The following are the names and functions of string object types in Python 3.X\n",
    "<stirng>.isdecimal() -> Returns True if all characters in a string are decimal.\n",
    "\n",
    "<string>.isalnum() -> Returns True if all characters in the string are AlphaNumeric.\n",
    "\n",
    "<string>.istitle() -> Returns True if first character in a string is in Uppercase.\n",
    "\n",
    "<string>.partition(<sub_string>) -> Splits string at first occurance of sub string and returns a tuple of 3 elements.\n",
    "\n",
    "<string>.rpartition(<sub_string>) -> Splits string at last occurance of sub string and returns a tuple of 3 elements.\n",
    "    \n",
    "<string>.isidentifier() -> Returns True if give string is a valid identifier name.\n",
    "len(<string>) -> Returns the length of the given string."
   ]
  },
  {
   "cell_type": "markdown",
   "id": "6fc6db46",
   "metadata": {},
   "source": [
    "# Q2"
   ]
  },
  {
   "cell_type": "markdown",
   "id": "0f24a8c5",
   "metadata": {},
   "source": [
    "In Python3 default format of strings is Unicode Whereas in Pyton2 we need to explicitly mention Unicode value using u."
   ]
  },
  {
   "cell_type": "markdown",
   "id": "18f90086",
   "metadata": {},
   "source": [
    "# Q3"
   ]
  },
  {
   "cell_type": "markdown",
   "id": "4a6d8b19",
   "metadata": {},
   "source": [
    "In Python 3.x unidecode() method from unidecode library can be used to put non-ASCII Unicode Characters in a string."
   ]
  },
  {
   "cell_type": "markdown",
   "id": "b440544f",
   "metadata": {},
   "source": [
    "# Q4"
   ]
  },
  {
   "cell_type": "markdown",
   "id": "981f5e7a",
   "metadata": {},
   "source": [
    "There are mainly two types of data files — text file and binary file. A text file consists of human readable characters, which can be opened by any text editor. On the other hand, binary files are made up of non-human readable characters and symbols, which require specific programs to access its contents."
   ]
  },
  {
   "cell_type": "markdown",
   "id": "6590bf98",
   "metadata": {},
   "source": [
    "# Q5"
   ]
  },
  {
   "cell_type": "markdown",
   "id": "e902196c",
   "metadata": {},
   "source": [
    "Use of encode() and decode() method can be used to you interpret a Unicode text file containing text encoded in a different encoding than your platform's default, by default encoding parameter is UTF-8"
   ]
  },
  {
   "cell_type": "markdown",
   "id": "b0ef65f2",
   "metadata": {},
   "source": [
    "# Q6"
   ]
  },
  {
   "cell_type": "markdown",
   "id": "95ed2d57",
   "metadata": {},
   "source": [
    "Use str.encode() and file.write() to make a Unicode text file in a particular encoding format, default encoding format is UTF-18.\n",
    "\n",
    "Call str.encode(encoding) with encoding set to utf8 to encode str.\n",
    "\n",
    "Call open(file, mode) to open a file with mode set to wb . wb writes to files in binary mode & preserves UTF-8format.\n",
    "\n",
    "Call file.write(data) to write data to the file."
   ]
  },
  {
   "cell_type": "markdown",
   "id": "a69b650f",
   "metadata": {},
   "source": [
    "# Q7"
   ]
  },
  {
   "cell_type": "markdown",
   "id": "95917c06",
   "metadata": {},
   "source": [
    "Unicode represents most written languages in the world. ASCII has its equivalent in Unicode. The difference between ASCII and Unicode is that ASCII represents lowercase letters (a-z), uppercase letters (A-Z), digits (0–9) and symbols such as punctuation marks while Unicode represents letters of English, Arabic, Greek etc. mathematical symbols, historical scripts, emoji covering a wide range of characters than ASCII."
   ]
  },
  {
   "cell_type": "markdown",
   "id": "e6fcddb4",
   "metadata": {},
   "source": [
    "# Q8"
   ]
  },
  {
   "cell_type": "markdown",
   "id": "972f9a2f",
   "metadata": {},
   "source": [
    "Python 3 stores strings as Unicode by default whereas Python 2 requires you to mark a string with a u if you want to store it as Unicode. Unicode strings are more versatile than ASCII strings, which are the Python 3.X default, as they can store letters from foreign languages as well as emoji and the standard Roman letters and numerals."
   ]
  },
  {
   "cell_type": "code",
   "execution_count": null,
   "id": "4a083656",
   "metadata": {},
   "outputs": [],
   "source": []
  }
 ],
 "metadata": {
  "kernelspec": {
   "display_name": "Python 3 (ipykernel)",
   "language": "python",
   "name": "python3"
  },
  "language_info": {
   "codemirror_mode": {
    "name": "ipython",
    "version": 3
   },
   "file_extension": ".py",
   "mimetype": "text/x-python",
   "name": "python",
   "nbconvert_exporter": "python",
   "pygments_lexer": "ipython3",
   "version": "3.7.9"
  }
 },
 "nbformat": 4,
 "nbformat_minor": 5
}
