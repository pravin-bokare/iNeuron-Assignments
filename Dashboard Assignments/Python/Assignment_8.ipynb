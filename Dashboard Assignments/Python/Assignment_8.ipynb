{
 "cells": [
  {
   "cell_type": "markdown",
   "id": "4c3756f9",
   "metadata": {},
   "source": [
    "# Q1"
   ]
  },
  {
   "cell_type": "markdown",
   "id": "cddbefea",
   "metadata": {},
   "source": [
    "PyInputPlus is not a part of the Python Standard Library, we must install it separately using Pip."
   ]
  },
  {
   "cell_type": "markdown",
   "id": "32af8560",
   "metadata": {},
   "source": [
    "# Q2"
   ]
  },
  {
   "cell_type": "markdown",
   "id": "9b1adc81",
   "metadata": {},
   "source": [
    "that you can enter a shorter name when calling the module's functions"
   ]
  },
  {
   "cell_type": "markdown",
   "id": "503089e2",
   "metadata": {},
   "source": [
    "# Q3"
   ]
  },
  {
   "cell_type": "markdown",
   "id": "896e8dc0",
   "metadata": {},
   "source": [
    "The inputInt() function returns an integer, while the inputFloat() function returns a float value"
   ]
  },
  {
   "cell_type": "markdown",
   "id": "82ac2f21",
   "metadata": {},
   "source": [
    "# Q4"
   ]
  },
  {
   "cell_type": "markdown",
   "id": "f2379b14",
   "metadata": {},
   "source": [
    "pyip.inputInt(min = 0, max =99)"
   ]
  },
  {
   "cell_type": "markdown",
   "id": "40b21894",
   "metadata": {},
   "source": [
    "# Q5"
   ]
  },
  {
   "cell_type": "markdown",
   "id": "d7c17215",
   "metadata": {},
   "source": [
    "It take a list of regular expression strings to determine what the PyInputPlus function will accept or reject as valid input."
   ]
  },
  {
   "cell_type": "markdown",
   "id": "313577e4",
   "metadata": {},
   "source": [
    "# Q6"
   ]
  },
  {
   "cell_type": "markdown",
   "id": "e3b9efe7",
   "metadata": {},
   "source": [
    "It throws RetryLimitException exception."
   ]
  },
  {
   "cell_type": "markdown",
   "id": "139d47cd",
   "metadata": {},
   "source": [
    "# Q7"
   ]
  },
  {
   "cell_type": "markdown",
   "id": "2dafd602",
   "metadata": {},
   "source": [
    "Blank values are not allowed"
   ]
  },
  {
   "cell_type": "code",
   "execution_count": null,
   "id": "927c2979",
   "metadata": {},
   "outputs": [],
   "source": []
  }
 ],
 "metadata": {
  "kernelspec": {
   "display_name": "Python 3 (ipykernel)",
   "language": "python",
   "name": "python3"
  },
  "language_info": {
   "codemirror_mode": {
    "name": "ipython",
    "version": 3
   },
   "file_extension": ".py",
   "mimetype": "text/x-python",
   "name": "python",
   "nbconvert_exporter": "python",
   "pygments_lexer": "ipython3",
   "version": "3.7.9"
  }
 },
 "nbformat": 4,
 "nbformat_minor": 5
}
