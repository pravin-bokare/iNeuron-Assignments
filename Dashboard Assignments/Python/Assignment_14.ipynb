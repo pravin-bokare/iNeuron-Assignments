{
 "cells": [
  {
   "cell_type": "markdown",
   "id": "0f1390ad",
   "metadata": {},
   "source": [
    "# Q1"
   ]
  },
  {
   "cell_type": "markdown",
   "id": "304932d1",
   "metadata": {},
   "source": [
    "Red-Green-Blue-Alpha"
   ]
  },
  {
   "cell_type": "markdown",
   "id": "ce909d69",
   "metadata": {},
   "source": [
    "# Q2"
   ]
  },
  {
   "cell_type": "markdown",
   "id": "de8c4988",
   "metadata": {},
   "source": [
    "imgobj = Image.open('x.png')\n",
    "\n",
    "pixels = imgobj.convert('RGBA')\n",
    "\n",
    "data = imgobj.getdata()"
   ]
  },
  {
   "cell_type": "markdown",
   "id": "2263d5b5",
   "metadata": {},
   "source": [
    "# Q3"
   ]
  },
  {
   "cell_type": "markdown",
   "id": "cca4de18",
   "metadata": {},
   "source": [
    "tuple submodule provides read-only access for the tuple userdata type"
   ]
  },
  {
   "cell_type": "markdown",
   "id": "fb3d385e",
   "metadata": {},
   "source": [
    "# Q4"
   ]
  },
  {
   "cell_type": "code",
   "execution_count": 9,
   "id": "f19dbb18",
   "metadata": {},
   "outputs": [
    {
     "data": {
      "text/plain": [
       "194"
      ]
     },
     "execution_count": 9,
     "metadata": {},
     "output_type": "execute_result"
    }
   ],
   "source": [
    "import PIL\n",
    "from PIL import Image\n",
    "\n",
    "img = Image.open(r'C:\\Users\\pravin\\Downloads/Hanuman.jfif')\n",
    "  \n",
    "img.width"
   ]
  },
  {
   "cell_type": "code",
   "execution_count": 10,
   "id": "8a1ca2c2",
   "metadata": {},
   "outputs": [
    {
     "data": {
      "text/plain": [
       "259"
      ]
     },
     "execution_count": 10,
     "metadata": {},
     "output_type": "execute_result"
    }
   ],
   "source": [
    "img.height"
   ]
  },
  {
   "cell_type": "markdown",
   "id": "e831724b",
   "metadata": {},
   "source": [
    "# Q5"
   ]
  },
  {
   "cell_type": "markdown",
   "id": "66ad3271",
   "metadata": {},
   "source": [
    "Image.getImage()"
   ]
  },
  {
   "cell_type": "markdown",
   "id": "1c06da7e",
   "metadata": {},
   "source": [
    "# Q6"
   ]
  },
  {
   "cell_type": "markdown",
   "id": "34645262",
   "metadata": {},
   "source": [
    "Image.save()"
   ]
  },
  {
   "cell_type": "markdown",
   "id": "fce920d4",
   "metadata": {},
   "source": [
    "# Q7"
   ]
  },
  {
   "cell_type": "markdown",
   "id": "68058239",
   "metadata": {},
   "source": [
    "ImageDraw()"
   ]
  },
  {
   "cell_type": "markdown",
   "id": "57d5fba2",
   "metadata": {},
   "source": [
    "# Q8"
   ]
  },
  {
   "cell_type": "markdown",
   "id": "b4085436",
   "metadata": {},
   "source": [
    "ImageDraw.Draw(img)"
   ]
  },
  {
   "cell_type": "code",
   "execution_count": null,
   "id": "82646822",
   "metadata": {},
   "outputs": [],
   "source": []
  }
 ],
 "metadata": {
  "kernelspec": {
   "display_name": "Python 3 (ipykernel)",
   "language": "python",
   "name": "python3"
  },
  "language_info": {
   "codemirror_mode": {
    "name": "ipython",
    "version": 3
   },
   "file_extension": ".py",
   "mimetype": "text/x-python",
   "name": "python",
   "nbconvert_exporter": "python",
   "pygments_lexer": "ipython3",
   "version": "3.7.9"
  }
 },
 "nbformat": 4,
 "nbformat_minor": 5
}
