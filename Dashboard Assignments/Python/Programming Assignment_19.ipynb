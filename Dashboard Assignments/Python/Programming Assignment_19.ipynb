{
 "cells": [
  {
   "cell_type": "markdown",
   "id": "74cefc79",
   "metadata": {},
   "source": [
    "# Q1"
   ]
  },
  {
   "cell_type": "code",
   "execution_count": 2,
   "id": "c68a07cb",
   "metadata": {},
   "outputs": [
    {
     "data": {
      "text/plain": [
       "'HHeelllloo  WWoorrlldd!!'"
      ]
     },
     "execution_count": 2,
     "metadata": {},
     "output_type": "execute_result"
    }
   ],
   "source": [
    "def double_char(m):\n",
    "    str=''\n",
    "    for i in m:\n",
    "        str+=2*i\n",
    "    return str\n",
    "\n",
    "double_char('Hello World!')"
   ]
  },
  {
   "cell_type": "markdown",
   "id": "07b3efe2",
   "metadata": {},
   "source": [
    "# Q2"
   ]
  },
  {
   "cell_type": "code",
   "execution_count": 21,
   "id": "8afc4e8d",
   "metadata": {},
   "outputs": [
    {
     "data": {
      "text/plain": [
       "False"
      ]
     },
     "execution_count": 21,
     "metadata": {},
     "output_type": "execute_result"
    }
   ],
   "source": [
    "def reverse(val):\n",
    "    if (val==True or val==False) and val!=0:\n",
    "        if val==True:\n",
    "            return False\n",
    "        else:\n",
    "            return True\n",
    "    elif val==0 or val==None:\n",
    "        return \"boolean expected\"\n",
    "reverse(True)"
   ]
  },
  {
   "cell_type": "markdown",
   "id": "2907e4b0",
   "metadata": {},
   "source": [
    "# Q3"
   ]
  },
  {
   "cell_type": "code",
   "execution_count": 26,
   "id": "c15cba3f",
   "metadata": {},
   "outputs": [
    {
     "data": {
      "text/plain": [
       "'0.008m'"
      ]
     },
     "execution_count": 26,
     "metadata": {},
     "output_type": "execute_result"
    }
   ],
   "source": [
    "def num_layers(a):\n",
    "    res = 0.5\n",
    "    for i in range(a):\n",
    "        res *= 2\n",
    "    return str(res / 1000)+'m'\n",
    "num_layers(4)"
   ]
  },
  {
   "cell_type": "markdown",
   "id": "21f6b887",
   "metadata": {},
   "source": [
    "# Q4"
   ]
  },
  {
   "cell_type": "code",
   "execution_count": 28,
   "id": "1aaa7539",
   "metadata": {},
   "outputs": [
    {
     "data": {
      "text/plain": [
       "[1, 3, 5]"
      ]
     },
     "execution_count": 28,
     "metadata": {},
     "output_type": "execute_result"
    }
   ],
   "source": [
    "def index_of_caps(s):\n",
    "    lst=[]\n",
    "    for i in s:\n",
    "        if i.isupper():\n",
    "            lst.append(s.index(i))\n",
    "    return lst\n",
    "index_of_caps(\"eDaBiT\")"
   ]
  },
  {
   "cell_type": "markdown",
   "id": "bc1ea6ac",
   "metadata": {},
   "source": [
    "# Q5"
   ]
  },
  {
   "cell_type": "code",
   "execution_count": 30,
   "id": "b919b6f9",
   "metadata": {},
   "outputs": [
    {
     "data": {
      "text/plain": [
       "[2, 4, 6, 8]"
      ]
     },
     "execution_count": 30,
     "metadata": {},
     "output_type": "execute_result"
    }
   ],
   "source": [
    "def find_even_nums(n):\n",
    "    return [i for i in range(1, n+1) if i%2==0]\n",
    "find_even_nums(8)"
   ]
  }
 ],
 "metadata": {
  "kernelspec": {
   "display_name": "Python 3 (ipykernel)",
   "language": "python",
   "name": "python3"
  },
  "language_info": {
   "codemirror_mode": {
    "name": "ipython",
    "version": 3
   },
   "file_extension": ".py",
   "mimetype": "text/x-python",
   "name": "python",
   "nbconvert_exporter": "python",
   "pygments_lexer": "ipython3",
   "version": "3.10.7"
  }
 },
 "nbformat": 4,
 "nbformat_minor": 5
}
