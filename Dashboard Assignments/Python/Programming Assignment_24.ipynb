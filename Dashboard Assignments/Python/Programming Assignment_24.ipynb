{
 "cells": [
  {
   "cell_type": "markdown",
   "id": "c06ee22a",
   "metadata": {},
   "source": [
    "# Q1"
   ]
  },
  {
   "cell_type": "code",
   "execution_count": 4,
   "id": "013ad4cf",
   "metadata": {},
   "outputs": [
    {
     "data": {
      "text/plain": [
       "[1, 2, 3, 40]"
      ]
     },
     "execution_count": 4,
     "metadata": {},
     "output_type": "execute_result"
    }
   ],
   "source": [
    "def amplify(n):\n",
    "    lst=[]\n",
    "    for i in range(1,n+1):\n",
    "        if i%4==0:\n",
    "            lst.append(i*10)\n",
    "        else:\n",
    "            lst.append(i)\n",
    "    return lst\n",
    "amplify(4)"
   ]
  },
  {
   "cell_type": "markdown",
   "id": "d457a505",
   "metadata": {},
   "source": [
    "# Q2"
   ]
  },
  {
   "cell_type": "code",
   "execution_count": 6,
   "id": "90193c74",
   "metadata": {},
   "outputs": [
    {
     "data": {
      "text/plain": [
       "7"
      ]
     },
     "execution_count": 6,
     "metadata": {},
     "output_type": "execute_result"
    }
   ],
   "source": [
    "def unique(lst):\n",
    "    for i in lst:\n",
    "        if lst.count(i)==1:\n",
    "            return i\n",
    "unique([3,3,3,7,3,3])"
   ]
  },
  {
   "cell_type": "markdown",
   "id": "37a3ee16",
   "metadata": {},
   "source": [
    "# Q3"
   ]
  },
  {
   "cell_type": "code",
   "execution_count": 12,
   "id": "b6c64215",
   "metadata": {},
   "outputs": [],
   "source": [
    "class Circle:\n",
    "    def __init__(self, r):\n",
    "        self.radius = r\n",
    "    \n",
    "    def getArea(self):\n",
    "        return 3.1415926*self.radius**2\n",
    "    \n",
    "    def getPerimeter(self):\n",
    "        return 2*3.1415926*self.radius\n",
    "    \n",
    "circy = Circle(11)"
   ]
  },
  {
   "cell_type": "code",
   "execution_count": 13,
   "id": "da8d3deb",
   "metadata": {},
   "outputs": [
    {
     "data": {
      "text/plain": [
       "380.1327046"
      ]
     },
     "execution_count": 13,
     "metadata": {},
     "output_type": "execute_result"
    }
   ],
   "source": [
    "circy.getArea()"
   ]
  },
  {
   "cell_type": "code",
   "execution_count": 14,
   "id": "d5cd1a31",
   "metadata": {},
   "outputs": [
    {
     "data": {
      "text/plain": [
       "69.1150372"
      ]
     },
     "execution_count": 14,
     "metadata": {},
     "output_type": "execute_result"
    }
   ],
   "source": [
    "circy.getPerimeter()"
   ]
  },
  {
   "cell_type": "markdown",
   "id": "e32ef30e",
   "metadata": {},
   "source": [
    "# Q4"
   ]
  },
  {
   "cell_type": "code",
   "execution_count": 15,
   "id": "6097fca3",
   "metadata": {},
   "outputs": [
    {
     "data": {
      "text/plain": [
       "['Apple', 'Google', 'Microsoft']"
      ]
     },
     "execution_count": 15,
     "metadata": {},
     "output_type": "execute_result"
    }
   ],
   "source": [
    "def sort_by_length(lst):\n",
    "    lst = sorted(lst, key=len)\n",
    "    return lst\n",
    "sort_by_length(['Google','Apple','Microsoft'])"
   ]
  },
  {
   "cell_type": "markdown",
   "id": "cf9581eb",
   "metadata": {},
   "source": [
    "# Q5"
   ]
  },
  {
   "cell_type": "code",
   "execution_count": 23,
   "id": "0929714c",
   "metadata": {},
   "outputs": [
    {
     "data": {
      "text/plain": [
       "True"
      ]
     },
     "execution_count": 23,
     "metadata": {},
     "output_type": "execute_result"
    }
   ],
   "source": [
    "def is_triplet(a, b, c):\n",
    "    lst = []\n",
    "    lst.append(a)\n",
    "    lst.append(b)\n",
    "    lst.append(c)\n",
    "    lst.sort()\n",
    "    if lst[2]**2==(lst[0]**2+lst[1]**2):\n",
    "        return True\n",
    "    else:\n",
    "        return False\n",
    "\n",
    "is_triplet(13,5,12)"
   ]
  },
  {
   "cell_type": "code",
   "execution_count": null,
   "id": "d74bbf79",
   "metadata": {},
   "outputs": [],
   "source": [
    "|"
   ]
  }
 ],
 "metadata": {
  "kernelspec": {
   "display_name": "Python 3 (ipykernel)",
   "language": "python",
   "name": "python3"
  },
  "language_info": {
   "codemirror_mode": {
    "name": "ipython",
    "version": 3
   },
   "file_extension": ".py",
   "mimetype": "text/x-python",
   "name": "python",
   "nbconvert_exporter": "python",
   "pygments_lexer": "ipython3",
   "version": "3.10.7"
  }
 },
 "nbformat": 4,
 "nbformat_minor": 5
}
