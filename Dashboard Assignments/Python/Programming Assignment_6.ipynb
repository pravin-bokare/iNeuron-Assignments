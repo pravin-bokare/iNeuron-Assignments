{
 "cells": [
  {
   "cell_type": "markdown",
   "id": "7014ecc8",
   "metadata": {},
   "source": [
    "# Q1"
   ]
  },
  {
   "cell_type": "code",
   "execution_count": 7,
   "id": "9af3ce22",
   "metadata": {},
   "outputs": [
    {
     "name": "stdout",
     "output_type": "stream",
     "text": [
      "Fibonacci sequence:\n",
      "0\n",
      "1\n",
      "1\n",
      "2\n",
      "3\n",
      "5\n",
      "8\n",
      "13\n",
      "21\n",
      "34\n",
      "55\n",
      "89\n",
      "144\n",
      "233\n",
      "377\n"
     ]
    }
   ],
   "source": [
    "def fib(n):\n",
    "    if n<=1:\n",
    "        return n\n",
    "    else:\n",
    "        return (fib(n-1)+fib(n-2))\n",
    "    \n",
    "nt=15\n",
    "if nt <= 0:\n",
    "   print(\"Plese enter a positive integer\")\n",
    "else:\n",
    "   print(\"Fibonacci sequence:\")\n",
    "   for i in range(nt):\n",
    "       print(fib(i))"
   ]
  },
  {
   "cell_type": "markdown",
   "id": "954e0960",
   "metadata": {},
   "source": [
    "# Q2"
   ]
  },
  {
   "cell_type": "markdown",
   "id": "7e1a9f85",
   "metadata": {},
   "source": [
    "# def fact(n):\n",
    "    if n==1:\n",
    "        return n\n",
    "    else:\n",
    "        return n*fact(n-1)\n",
    "fact(5)"
   ]
  },
  {
   "cell_type": "markdown",
   "id": "9b51e8a3",
   "metadata": {},
   "source": [
    "# Q3"
   ]
  },
  {
   "cell_type": "code",
   "execution_count": 10,
   "id": "3eef1e1c",
   "metadata": {},
   "outputs": [
    {
     "name": "stdout",
     "output_type": "stream",
     "text": [
      "Height : 6\n",
      "Weight : 65\n",
      "BMI :  1.8055555555555556\n"
     ]
    }
   ],
   "source": [
    "h = int(input(\"Height : \"))\n",
    "w = int(input(\"Weight : \"))\n",
    "print('BMI : ',w / (h * h))"
   ]
  },
  {
   "cell_type": "markdown",
   "id": "7267c19c",
   "metadata": {},
   "source": [
    "# Q4"
   ]
  },
  {
   "cell_type": "code",
   "execution_count": 11,
   "id": "b52ca0c7",
   "metadata": {},
   "outputs": [
    {
     "name": "stdout",
     "output_type": "stream",
     "text": [
      "Enter Number : 5\n",
      "Natural Log :  1.6094379124341003\n"
     ]
    }
   ],
   "source": [
    "import math\n",
    "n = int(input(\"Enter Number : \"))\n",
    "print(\"Natural Log : \",math.log(n))"
   ]
  },
  {
   "cell_type": "markdown",
   "id": "e11f8850",
   "metadata": {},
   "source": [
    "# Q5"
   ]
  },
  {
   "cell_type": "code",
   "execution_count": 12,
   "id": "985d44ee",
   "metadata": {},
   "outputs": [
    {
     "data": {
      "text/plain": [
       "225"
      ]
     },
     "execution_count": 12,
     "metadata": {},
     "output_type": "execute_result"
    }
   ],
   "source": [
    "def sum(n):\n",
    "    sum=0\n",
    "    for i in range(1, n+1):\n",
    "        sum+=i**3\n",
    "    return sum\n",
    "sum(5)"
   ]
  }
 ],
 "metadata": {
  "kernelspec": {
   "display_name": "Python 3 (ipykernel)",
   "language": "python",
   "name": "python3"
  },
  "language_info": {
   "codemirror_mode": {
    "name": "ipython",
    "version": 3
   },
   "file_extension": ".py",
   "mimetype": "text/x-python",
   "name": "python",
   "nbconvert_exporter": "python",
   "pygments_lexer": "ipython3",
   "version": "3.10.7"
  }
 },
 "nbformat": 4,
 "nbformat_minor": 5
}
