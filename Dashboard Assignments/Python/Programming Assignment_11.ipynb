{
 "cells": [
  {
   "cell_type": "markdown",
   "id": "403d3a4a",
   "metadata": {},
   "source": [
    "# Q1"
   ]
  },
  {
   "cell_type": "code",
   "execution_count": 6,
   "id": "edcd1301",
   "metadata": {},
   "outputs": [
    {
     "name": "stdout",
     "output_type": "stream",
     "text": [
      "Enter value of k3\n",
      "Hello\n"
     ]
    }
   ],
   "source": [
    "s='Hello how are you'\n",
    "k = int(input('Enter value of k'))\n",
    "w=[word for word in s.split()]\n",
    "for i in w:\n",
    "    if len(i)>k:\n",
    "        print(i)"
   ]
  },
  {
   "cell_type": "markdown",
   "id": "b6a6705a",
   "metadata": {},
   "source": [
    "# Q2"
   ]
  },
  {
   "cell_type": "code",
   "execution_count": 7,
   "id": "13063f27",
   "metadata": {},
   "outputs": [
    {
     "name": "stdout",
     "output_type": "stream",
     "text": [
      "2\n",
      "abbdndk\n"
     ]
    }
   ],
   "source": [
    "s='abdbdndk'\n",
    "i = int(input())\n",
    "a=s[:i]\n",
    "b=s[i+1:]\n",
    "print(a+b)"
   ]
  },
  {
   "cell_type": "markdown",
   "id": "08acf549",
   "metadata": {},
   "source": [
    "# Q3"
   ]
  },
  {
   "cell_type": "code",
   "execution_count": 10,
   "id": "f3952f1b",
   "metadata": {},
   "outputs": [
    {
     "name": "stdout",
     "output_type": "stream",
     "text": [
      "['Hello', 'how', 'are', 'you']\n",
      "Hello how are you\n"
     ]
    }
   ],
   "source": [
    "s='Hello how are you'\n",
    "\n",
    "sp=s.split(\" \")\n",
    "print(sp)\n",
    "jn=\" \".join(sp)\n",
    "print(jn)"
   ]
  },
  {
   "cell_type": "markdown",
   "id": "a9f460dd",
   "metadata": {},
   "source": [
    "# Q4"
   ]
  },
  {
   "cell_type": "code",
   "execution_count": 13,
   "id": "a27f55b2",
   "metadata": {},
   "outputs": [
    {
     "name": "stdout",
     "output_type": "stream",
     "text": [
      "010101\n",
      "YEs\n"
     ]
    }
   ],
   "source": [
    "import re\n",
    "s=input()\n",
    "a=re.compile('[^01]')\n",
    "if len(a.findall(s)):\n",
    "    print('No')\n",
    "else:\n",
    "    print('YEs')"
   ]
  },
  {
   "cell_type": "markdown",
   "id": "ee2ed2aa",
   "metadata": {},
   "source": [
    "# Q5"
   ]
  },
  {
   "cell_type": "code",
   "execution_count": 20,
   "id": "826c23cb",
   "metadata": {},
   "outputs": [
    {
     "name": "stdout",
     "output_type": "stream",
     "text": [
      "Hello\n",
      "how\n",
      "fine\n"
     ]
    }
   ],
   "source": [
    "s1='Hello how are you'\n",
    "s2='are you fine'\n",
    "s=s1+\" \"+s2\n",
    "w=s.split(' ')\n",
    "for i in w:\n",
    "    if w.count(i)==1:\n",
    "        print(i)"
   ]
  },
  {
   "cell_type": "markdown",
   "id": "44a48c37",
   "metadata": {},
   "source": [
    "# Q6"
   ]
  },
  {
   "cell_type": "code",
   "execution_count": 21,
   "id": "78f7eb66",
   "metadata": {},
   "outputs": [
    {
     "name": "stdout",
     "output_type": "stream",
     "text": [
      "are\n",
      "you\n",
      "are\n",
      "you\n"
     ]
    }
   ],
   "source": [
    "s1='Hello how are you'\n",
    "s2='are you fine'\n",
    "s=s1+\" \"+s2\n",
    "w=s.split(' ')\n",
    "for i in w:\n",
    "    if w.count(i)>1:\n",
    "        print(i)"
   ]
  },
  {
   "cell_type": "markdown",
   "id": "aefa2752",
   "metadata": {},
   "source": [
    "# Q7"
   ]
  },
  {
   "cell_type": "code",
   "execution_count": 25,
   "id": "2873eaac",
   "metadata": {},
   "outputs": [
    {
     "name": "stdout",
     "output_type": "stream",
     "text": [
      "special character\n"
     ]
    }
   ],
   "source": [
    "sc = re.compile('[@_!#$%^&*()<>?/\\|}{~:]')\n",
    "s = 'Hello how are you ?'\n",
    "if sc.search(s):\n",
    "    print(\"special character\")\n",
    "else:\n",
    "    print(\"No special Character\")"
   ]
  },
  {
   "cell_type": "code",
   "execution_count": null,
   "id": "4232d9cf",
   "metadata": {},
   "outputs": [],
   "source": []
  }
 ],
 "metadata": {
  "kernelspec": {
   "display_name": "Python 3 (ipykernel)",
   "language": "python",
   "name": "python3"
  },
  "language_info": {
   "codemirror_mode": {
    "name": "ipython",
    "version": 3
   },
   "file_extension": ".py",
   "mimetype": "text/x-python",
   "name": "python",
   "nbconvert_exporter": "python",
   "pygments_lexer": "ipython3",
   "version": "3.10.7"
  }
 },
 "nbformat": 4,
 "nbformat_minor": 5
}
